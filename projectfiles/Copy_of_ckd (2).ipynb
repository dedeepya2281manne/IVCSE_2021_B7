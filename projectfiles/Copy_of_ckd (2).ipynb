{
  "nbformat": 4,
  "nbformat_minor": 0,
  "metadata": {
    "colab": {
      "name": "Copy of ckd.ipynb",
      "provenance": [],
      "collapsed_sections": []
    },
    "kernelspec": {
      "display_name": "Python 3",
      "name": "python3"
    },
    "language_info": {
      "name": "python"
    }
  },
  "cells": [
    {
      "cell_type": "markdown",
      "metadata": {
        "id": "kdTUKDLRXJAm"
      },
      "source": [
        "**Import Librarires**"
      ]
    },
    {
      "cell_type": "code",
      "metadata": {
        "id": "YncaR0nK1PHi"
      },
      "source": [
        "import pandas as pd\n",
        "import matplotlib as mpl\n",
        "from matplotlib import pyplot as plt\n",
        "import numpy as np"
      ],
      "execution_count": null,
      "outputs": []
    },
    {
      "cell_type": "markdown",
      "metadata": {
        "id": "kw4LN9lkXNE0"
      },
      "source": [
        "**Mount Drive**"
      ]
    },
    {
      "cell_type": "code",
      "metadata": {
        "colab": {
          "base_uri": "https://localhost:8080/"
        },
        "id": "ANLvdTIy0vIc",
        "outputId": "017d383c-308c-40fd-abb9-05eb270042eb"
      },
      "source": [
        "from google.colab import drive\n",
        "drive.mount('/content/drive',force_remount=True)"
      ],
      "execution_count": null,
      "outputs": [
        {
          "output_type": "stream",
          "text": [
            "Mounted at /content/drive\n"
          ],
          "name": "stdout"
        }
      ]
    },
    {
      "cell_type": "code",
      "metadata": {
        "id": "0kJ75_du1Jj4"
      },
      "source": [
        "data = pd.read_csv('/content/drive/MyDrive/kidneydataset.csv')"
      ],
      "execution_count": null,
      "outputs": []
    },
    {
      "cell_type": "code",
      "metadata": {
        "colab": {
          "base_uri": "https://localhost:8080/",
          "height": 224
        },
        "id": "u6lAHz9z1hTj",
        "outputId": "94038fea-1706-4bb1-831c-320e89de4b59"
      },
      "source": [
        "data.head()"
      ],
      "execution_count": null,
      "outputs": [
        {
          "output_type": "execute_result",
          "data": {
            "text/html": [
              "<div>\n",
              "<style scoped>\n",
              "    .dataframe tbody tr th:only-of-type {\n",
              "        vertical-align: middle;\n",
              "    }\n",
              "\n",
              "    .dataframe tbody tr th {\n",
              "        vertical-align: top;\n",
              "    }\n",
              "\n",
              "    .dataframe thead th {\n",
              "        text-align: right;\n",
              "    }\n",
              "</style>\n",
              "<table border=\"1\" class=\"dataframe\">\n",
              "  <thead>\n",
              "    <tr style=\"text-align: right;\">\n",
              "      <th></th>\n",
              "      <th>id</th>\n",
              "      <th>age</th>\n",
              "      <th>bp</th>\n",
              "      <th>sg</th>\n",
              "      <th>al</th>\n",
              "      <th>su</th>\n",
              "      <th>rbc</th>\n",
              "      <th>pc</th>\n",
              "      <th>pcc</th>\n",
              "      <th>ba</th>\n",
              "      <th>bgr</th>\n",
              "      <th>bu</th>\n",
              "      <th>sc</th>\n",
              "      <th>sod</th>\n",
              "      <th>pot</th>\n",
              "      <th>hemo</th>\n",
              "      <th>pcv</th>\n",
              "      <th>wc</th>\n",
              "      <th>rc</th>\n",
              "      <th>htn</th>\n",
              "      <th>dm</th>\n",
              "      <th>cad</th>\n",
              "      <th>appet</th>\n",
              "      <th>pe</th>\n",
              "      <th>ane</th>\n",
              "      <th>classification</th>\n",
              "    </tr>\n",
              "  </thead>\n",
              "  <tbody>\n",
              "    <tr>\n",
              "      <th>0</th>\n",
              "      <td>0</td>\n",
              "      <td>48.0</td>\n",
              "      <td>80.0</td>\n",
              "      <td>1.020</td>\n",
              "      <td>1.0</td>\n",
              "      <td>0.0</td>\n",
              "      <td>NaN</td>\n",
              "      <td>normal</td>\n",
              "      <td>notpresent</td>\n",
              "      <td>notpresent</td>\n",
              "      <td>121.0</td>\n",
              "      <td>36.0</td>\n",
              "      <td>1.2</td>\n",
              "      <td>NaN</td>\n",
              "      <td>NaN</td>\n",
              "      <td>15.4</td>\n",
              "      <td>44</td>\n",
              "      <td>7800</td>\n",
              "      <td>5.2</td>\n",
              "      <td>yes</td>\n",
              "      <td>yes</td>\n",
              "      <td>no</td>\n",
              "      <td>good</td>\n",
              "      <td>no</td>\n",
              "      <td>no</td>\n",
              "      <td>ckd</td>\n",
              "    </tr>\n",
              "    <tr>\n",
              "      <th>1</th>\n",
              "      <td>1</td>\n",
              "      <td>7.0</td>\n",
              "      <td>50.0</td>\n",
              "      <td>1.020</td>\n",
              "      <td>4.0</td>\n",
              "      <td>0.0</td>\n",
              "      <td>NaN</td>\n",
              "      <td>normal</td>\n",
              "      <td>notpresent</td>\n",
              "      <td>notpresent</td>\n",
              "      <td>NaN</td>\n",
              "      <td>18.0</td>\n",
              "      <td>0.8</td>\n",
              "      <td>NaN</td>\n",
              "      <td>NaN</td>\n",
              "      <td>11.3</td>\n",
              "      <td>38</td>\n",
              "      <td>6000</td>\n",
              "      <td>NaN</td>\n",
              "      <td>no</td>\n",
              "      <td>no</td>\n",
              "      <td>no</td>\n",
              "      <td>good</td>\n",
              "      <td>no</td>\n",
              "      <td>no</td>\n",
              "      <td>ckd</td>\n",
              "    </tr>\n",
              "    <tr>\n",
              "      <th>2</th>\n",
              "      <td>2</td>\n",
              "      <td>62.0</td>\n",
              "      <td>80.0</td>\n",
              "      <td>1.010</td>\n",
              "      <td>2.0</td>\n",
              "      <td>3.0</td>\n",
              "      <td>normal</td>\n",
              "      <td>normal</td>\n",
              "      <td>notpresent</td>\n",
              "      <td>notpresent</td>\n",
              "      <td>423.0</td>\n",
              "      <td>53.0</td>\n",
              "      <td>1.8</td>\n",
              "      <td>NaN</td>\n",
              "      <td>NaN</td>\n",
              "      <td>9.6</td>\n",
              "      <td>31</td>\n",
              "      <td>7500</td>\n",
              "      <td>NaN</td>\n",
              "      <td>no</td>\n",
              "      <td>yes</td>\n",
              "      <td>no</td>\n",
              "      <td>poor</td>\n",
              "      <td>no</td>\n",
              "      <td>yes</td>\n",
              "      <td>ckd</td>\n",
              "    </tr>\n",
              "    <tr>\n",
              "      <th>3</th>\n",
              "      <td>3</td>\n",
              "      <td>48.0</td>\n",
              "      <td>70.0</td>\n",
              "      <td>1.005</td>\n",
              "      <td>4.0</td>\n",
              "      <td>0.0</td>\n",
              "      <td>normal</td>\n",
              "      <td>abnormal</td>\n",
              "      <td>present</td>\n",
              "      <td>notpresent</td>\n",
              "      <td>117.0</td>\n",
              "      <td>56.0</td>\n",
              "      <td>3.8</td>\n",
              "      <td>111.0</td>\n",
              "      <td>2.5</td>\n",
              "      <td>11.2</td>\n",
              "      <td>32</td>\n",
              "      <td>6700</td>\n",
              "      <td>3.9</td>\n",
              "      <td>yes</td>\n",
              "      <td>no</td>\n",
              "      <td>no</td>\n",
              "      <td>poor</td>\n",
              "      <td>yes</td>\n",
              "      <td>yes</td>\n",
              "      <td>ckd</td>\n",
              "    </tr>\n",
              "    <tr>\n",
              "      <th>4</th>\n",
              "      <td>4</td>\n",
              "      <td>51.0</td>\n",
              "      <td>80.0</td>\n",
              "      <td>1.010</td>\n",
              "      <td>2.0</td>\n",
              "      <td>0.0</td>\n",
              "      <td>normal</td>\n",
              "      <td>normal</td>\n",
              "      <td>notpresent</td>\n",
              "      <td>notpresent</td>\n",
              "      <td>106.0</td>\n",
              "      <td>26.0</td>\n",
              "      <td>1.4</td>\n",
              "      <td>NaN</td>\n",
              "      <td>NaN</td>\n",
              "      <td>11.6</td>\n",
              "      <td>35</td>\n",
              "      <td>7300</td>\n",
              "      <td>4.6</td>\n",
              "      <td>no</td>\n",
              "      <td>no</td>\n",
              "      <td>no</td>\n",
              "      <td>good</td>\n",
              "      <td>no</td>\n",
              "      <td>no</td>\n",
              "      <td>ckd</td>\n",
              "    </tr>\n",
              "  </tbody>\n",
              "</table>\n",
              "</div>"
            ],
            "text/plain": [
              "   id   age    bp     sg   al   su  ...   dm cad appet   pe  ane  classification\n",
              "0   0  48.0  80.0  1.020  1.0  0.0  ...  yes  no  good   no   no             ckd\n",
              "1   1   7.0  50.0  1.020  4.0  0.0  ...   no  no  good   no   no             ckd\n",
              "2   2  62.0  80.0  1.010  2.0  3.0  ...  yes  no  poor   no  yes             ckd\n",
              "3   3  48.0  70.0  1.005  4.0  0.0  ...   no  no  poor  yes  yes             ckd\n",
              "4   4  51.0  80.0  1.010  2.0  0.0  ...   no  no  good   no   no             ckd\n",
              "\n",
              "[5 rows x 26 columns]"
            ]
          },
          "metadata": {
            "tags": []
          },
          "execution_count": 26
        }
      ]
    },
    {
      "cell_type": "code",
      "metadata": {
        "colab": {
          "base_uri": "https://localhost:8080/"
        },
        "id": "hc10zivX14L8",
        "outputId": "cb2f4783-1dec-4ee0-c2eb-8064d022d213"
      },
      "source": [
        "data.shape"
      ],
      "execution_count": null,
      "outputs": [
        {
          "output_type": "execute_result",
          "data": {
            "text/plain": [
              "(400, 26)"
            ]
          },
          "metadata": {
            "tags": []
          },
          "execution_count": 27
        }
      ]
    },
    {
      "cell_type": "markdown",
      "metadata": {
        "id": "cyI673bfXh72"
      },
      "source": [
        "**Finding the Unique Values in each column**"
      ]
    },
    {
      "cell_type": "code",
      "metadata": {
        "colab": {
          "base_uri": "https://localhost:8080/"
        },
        "id": "DJf1tmPKr8jR",
        "outputId": "1386bfb8-e753-471a-9bd2-24c59772b8a6"
      },
      "source": [
        "for i in data.columns:\n",
        "    print(\"unique values in {}:\\n\".format(i),data[i].unique())"
      ],
      "execution_count": null,
      "outputs": [
        {
          "output_type": "stream",
          "text": [
            "unique values in id:\n",
            " [  0   1   2   3   4   5   6   7   8   9  10  11  12  13  14  15  16  17\n",
            "  18  19  20  21  22  23  24  25  26  27  28  29  30  31  32  33  34  35\n",
            "  36  37  38  39  40  41  42  43  44  45  46  47  48  49  50  51  52  53\n",
            "  54  55  56  57  58  59  60  61  62  63  64  65  66  67  68  69  70  71\n",
            "  72  73  74  75  76  77  78  79  80  81  82  83  84  85  86  87  88  89\n",
            "  90  91  92  93  94  95  96  97  98  99 100 101 102 103 104 105 106 107\n",
            " 108 109 110 111 112 113 114 115 116 117 118 119 120 121 122 123 124 125\n",
            " 126 127 128 129 130 131 132 133 134 135 136 137 138 139 140 141 142 143\n",
            " 144 145 146 147 148 149 150 151 152 153 154 155 156 157 158 159 160 161\n",
            " 162 163 164 165 166 167 168 169 170 171 172 173 174 175 176 177 178 179\n",
            " 180 181 182 183 184 185 186 187 188 189 190 191 192 193 194 195 196 197\n",
            " 198 199 200 201 202 203 204 205 206 207 208 209 210 211 212 213 214 215\n",
            " 216 217 218 219 220 221 222 223 224 225 226 227 228 229 230 231 232 233\n",
            " 234 235 236 237 238 239 240 241 242 243 244 245 246 247 248 249 250 251\n",
            " 252 253 254 255 256 257 258 259 260 261 262 263 264 265 266 267 268 269\n",
            " 270 271 272 273 274 275 276 277 278 279 280 281 282 283 284 285 286 287\n",
            " 288 289 290 291 292 293 294 295 296 297 298 299 300 301 302 303 304 305\n",
            " 306 307 308 309 310 311 312 313 314 315 316 317 318 319 320 321 322 323\n",
            " 324 325 326 327 328 329 330 331 332 333 334 335 336 337 338 339 340 341\n",
            " 342 343 344 345 346 347 348 349 350 351 352 353 354 355 356 357 358 359\n",
            " 360 361 362 363 364 365 366 367 368 369 370 371 372 373 374 375 376 377\n",
            " 378 379 380 381 382 383 384 385 386 387 388 389 390 391 392 393 394 395\n",
            " 396 397 398 399]\n",
            "unique values in age:\n",
            " [48.  7. 62. 51. 60. 68. 24. 52. 53. 50. 63. 40. 47. 61. 21. 42. 75. 69.\n",
            " nan 73. 70. 65. 76. 72. 82. 46. 45. 35. 54. 11. 59. 67. 15. 55. 44. 26.\n",
            " 64. 56.  5. 74. 38. 58. 71. 34. 17. 12. 43. 41. 57.  8. 39. 66. 81. 14.\n",
            " 27. 83. 30.  4.  3.  6. 32. 80. 49. 90. 78. 19.  2. 33. 36. 37. 23. 25.\n",
            " 20. 29. 28. 22. 79.]\n",
            "unique values in bp:\n",
            " [ 80.  50.  70.  90.  nan 100.  60. 110. 140. 180. 120.]\n",
            "unique values in sg:\n",
            " [1.02  1.01  1.005 1.015   nan 1.025]\n",
            "unique values in al:\n",
            " [ 1.  4.  2.  3.  0. nan  5.]\n",
            "unique values in su:\n",
            " [ 0.  3.  4.  1. nan  2.  5.]\n",
            "unique values in rbc:\n",
            " [nan 'normal' 'abnormal']\n",
            "unique values in pc:\n",
            " ['normal' 'abnormal' nan]\n",
            "unique values in pcc:\n",
            " ['notpresent' 'present' nan]\n",
            "unique values in ba:\n",
            " ['notpresent' 'present' nan]\n",
            "unique values in bgr:\n",
            " [121.  nan 423. 117. 106.  74. 100. 410. 138.  70. 490. 380. 208.  98.\n",
            " 157.  76.  99. 114. 263. 173.  95. 108. 156. 264. 123.  93. 107. 159.\n",
            " 140. 171. 270.  92. 137. 204.  79. 207. 124. 144.  91. 162. 246. 253.\n",
            " 141. 182.  86. 150. 146. 425. 112. 250. 360. 163. 129. 133. 102. 158.\n",
            " 165. 132. 104. 127. 415. 169. 251. 109. 280. 210. 219. 295.  94. 172.\n",
            " 101. 298. 153.  88. 226. 143. 115.  89. 297. 233. 294. 323. 125.  90.\n",
            " 308. 118. 224. 128. 122. 214. 213. 268. 256.  84. 105. 288. 139.  78.\n",
            " 273. 242. 424. 303. 148. 160. 192. 307. 220. 447. 309.  22. 111. 261.\n",
            " 215. 234. 131. 352.  80. 239. 110. 130. 184. 252. 113. 230. 341. 255.\n",
            " 103. 238. 248. 120. 241. 269. 201. 203. 463. 176.  82. 119.  97.  96.\n",
            "  81. 116. 134.  85.  83.  87.  75.]\n",
            "unique values in bu:\n",
            " [ 36.   18.   53.   56.   26.   25.   54.   31.   60.  107.   55.   72.\n",
            "  86.   90.  162.   46.   87.   27.  148.  180.  163.    nan  50.   75.\n",
            "  45.   28.  155.   33.   39.  153.   29.   65.  103.   70.   80.   20.\n",
            " 202.   77.   89.   24.   17.   32.  114.   66.   38.  164.  142.   96.\n",
            " 391.   15.  111.   73.   19.   92.   35.   16.  139.   48.   85.   98.\n",
            " 186.   37.   47.   52.   82.   51.  106.   22.  217.   88.  118.   50.1\n",
            "  71.   34.   40.   21.  219.   30.  125.  166.   49.  208.  176.   68.\n",
            " 145.  165.  322.   23.  235.  132.   76.   42.   44.   41.  113.    1.5\n",
            " 146.   58.  133.  137.   67.  115.  223.   98.6 158.   94.   74.  150.\n",
            "  61.   57.   95.  191.   93.  241.   64.   79.  215.  309.   10. ]\n",
            "unique values in sc:\n",
            " [ 1.2   0.8   1.8   3.8   1.4   1.1  24.    1.9   7.2   4.    2.7   2.1\n",
            "  4.6   4.1   9.6   2.2   5.2   1.3   1.6   3.9  76.    7.7    nan  2.4\n",
            "  7.3   1.5   2.5   2.    3.4   0.7   1.   10.8   6.3   5.9   0.9   3.\n",
            "  3.25  9.7   6.4   3.2  32.    0.6   6.1   3.3   6.7   8.5   2.8  15.\n",
            "  2.9   1.7   3.6   5.6   6.5   4.4  10.2  11.5   0.5  12.2   5.3   9.2\n",
            " 13.8  16.9   6.    7.1  18.    2.3  13.   48.1  14.2  16.4   2.6   7.5\n",
            "  4.3  18.1  11.8   9.3   6.8  13.5  12.8  11.9  12.   13.4  15.2  13.3\n",
            "  0.4 ]\n",
            "unique values in sod:\n",
            " [  nan 111.  142.  104.  114.  131.  138.  135.  130.  141.  139.    4.5\n",
            " 136.  129.  140.  132.  133.  134.  125.  163.  137.  128.  143.  127.\n",
            " 146.  126.  122.  147.  124.  115.  145.  113.  120.  150.  144. ]\n",
            "unique values in pot:\n",
            " [ nan  2.5  3.2  4.   3.7  4.2  5.8  3.4  6.4  4.9  4.1  4.3  5.2  3.8\n",
            "  4.6  3.9  4.7  5.9  4.8  4.4  6.6 39.   5.5  5.   3.5  3.6  7.6  2.9\n",
            "  4.5  5.7  5.4  5.3 47.   6.3  5.1  5.6  3.   2.8  2.7  6.5  3.3]\n",
            "unique values in hemo:\n",
            " [15.4 11.3  9.6 11.2 11.6 12.2 12.4 10.8  9.5  9.4  9.7  9.8  5.6  7.6\n",
            " 12.6 12.1 12.7 10.3  7.7 10.9  nan 11.1  9.9 12.5 12.9 10.1 12.  13.\n",
            "  7.9  9.3 15.  10.   8.6 13.6 10.2 10.5  6.6 11.   7.5 15.6 15.2  4.8\n",
            "  9.1  8.1 11.9 13.5  8.3  7.1 16.1 10.4  9.2  6.2 13.9 14.1  6.  11.8\n",
            " 11.7 11.4 14.   8.2 13.2  6.1  8.  12.3  8.4 14.3  9.   8.7 10.6 13.1\n",
            " 10.7  5.5  5.8  6.8  8.8  8.5 13.8 11.5  7.3 13.7 12.8 13.4  6.3  3.1\n",
            " 17.  15.9 14.5 15.5 16.2 14.4 14.2 16.3 14.8 16.5 15.7 13.3 14.6 16.4\n",
            " 16.9 16.  14.7 16.6 14.9 16.7 16.8 15.8 15.1 17.1 17.2 15.3 17.3 17.4\n",
            " 17.7 17.8 17.5 17.6]\n",
            "unique values in pcv:\n",
            " ['44' '38' '31' '32' '35' '39' '36' '33' '29' '28' nan '16' '24' '37' '30'\n",
            " '34' '40' '45' '27' '48' '\\t?' '52' '14' '22' '18' '42' '17' '46' '23'\n",
            " '19' '25' '41' '26' '15' '21' '43' '20' '\\t43' '47' '9' '49' '50' '53'\n",
            " '51' '54']\n",
            "unique values in wc:\n",
            " ['7800' '6000' '7500' '6700' '7300' nan '6900' '9600' '12100' '4500'\n",
            " '12200' '11000' '3800' '11400' '5300' '9200' '6200' '8300' '8400' '10300'\n",
            " '9800' '9100' '7900' '6400' '8600' '18900' '21600' '4300' '8500' '11300'\n",
            " '7200' '7700' '14600' '6300' '\\t6200' '7100' '11800' '9400' '5500' '5800'\n",
            " '13200' '12500' '5600' '7000' '11900' '10400' '10700' '12700' '6800'\n",
            " '6500' '13600' '10200' '9000' '14900' '8200' '15200' '5000' '16300'\n",
            " '12400' '\\t8400' '10500' '4200' '4700' '10900' '8100' '9500' '2200'\n",
            " '12800' '11200' '19100' '\\t?' '12300' '16700' '2600' '26400' '8800'\n",
            " '7400' '4900' '8000' '12000' '15700' '4100' '5700' '11500' '5400' '10800'\n",
            " '9900' '5200' '5900' '9300' '9700' '5100' '6600']\n",
            "unique values in rc:\n",
            " ['5.2' nan '3.9' '4.6' '4.4' '5' '4.0' '3.7' '3.8' '3.4' '2.6' '2.8' '4.3'\n",
            " '3.2' '3.6' '4' '4.1' '4.9' '2.5' '4.2' '4.5' '3.1' '4.7' '3.5' '6.0'\n",
            " '5.0' '2.1' '5.6' '2.3' '2.9' '2.7' '8.0' '3.3' '3.0' '3' '2.4' '4.8'\n",
            " '\\t?' '5.4' '6.1' '6.2' '6.3' '5.1' '5.8' '5.5' '5.3' '6.4' '5.7' '5.9'\n",
            " '6.5']\n",
            "unique values in htn:\n",
            " ['yes' 'no' nan]\n",
            "unique values in dm:\n",
            " ['yes' 'no' ' yes' '\\tno' '\\tyes' nan]\n",
            "unique values in cad:\n",
            " ['no' 'yes' '\\tno' nan]\n",
            "unique values in appet:\n",
            " ['good' 'poor' nan]\n",
            "unique values in pe:\n",
            " ['no' 'yes' nan]\n",
            "unique values in ane:\n",
            " ['no' 'yes' nan]\n",
            "unique values in classification:\n",
            " ['ckd' 'ckd\\t' 'notckd']\n"
          ],
          "name": "stdout"
        }
      ]
    },
    {
      "cell_type": "markdown",
      "metadata": {
        "id": "i2nEFuL2XuMs"
      },
      "source": [
        "**Number of null valuesin each column**"
      ]
    },
    {
      "cell_type": "code",
      "metadata": {
        "colab": {
          "base_uri": "https://localhost:8080/"
        },
        "id": "_8YQpkDd2IVd",
        "outputId": "48178af6-044a-47f8-945d-df8e9ea960e9"
      },
      "source": [
        "data.isnull().sum()"
      ],
      "execution_count": null,
      "outputs": [
        {
          "output_type": "execute_result",
          "data": {
            "text/plain": [
              "id                  0\n",
              "age                 9\n",
              "bp                 12\n",
              "sg                 47\n",
              "al                 46\n",
              "su                 49\n",
              "rbc               152\n",
              "pc                 65\n",
              "pcc                 4\n",
              "ba                  4\n",
              "bgr                44\n",
              "bu                 19\n",
              "sc                 17\n",
              "sod                87\n",
              "pot                88\n",
              "hemo               52\n",
              "pcv                70\n",
              "wc                105\n",
              "rc                130\n",
              "htn                 2\n",
              "dm                  2\n",
              "cad                 2\n",
              "appet               1\n",
              "pe                  1\n",
              "ane                 1\n",
              "classification      0\n",
              "dtype: int64"
            ]
          },
          "metadata": {
            "tags": []
          },
          "execution_count": 29
        }
      ]
    },
    {
      "cell_type": "markdown",
      "metadata": {
        "id": "LMKdwSUmsWWr"
      },
      "source": [
        "**Outliers**\n"
      ]
    },
    {
      "cell_type": "code",
      "metadata": {
        "id": "iMx4auHoJuNw",
        "colab": {
          "base_uri": "https://localhost:8080/",
          "height": 430
        },
        "outputId": "5092e7cc-4c6e-41d2-c8bb-60008fc25089"
      },
      "source": [
        "\n",
        "\n",
        "plt.figure(figsize = (12,12))\n",
        "plt.subplot(231)\n",
        "data.boxplot(column = 'bgr')\n",
        "\n",
        "plt.subplot(232)\n",
        "data.boxplot(column = 'pot')\n",
        "\n",
        "plt.subplot(233)\n",
        "data.boxplot(column = 'sod')\n",
        "\n",
        "'''As Fig. 1 shows, there are some outliers detected for blood glucose \n",
        "random that reached 500 mg/dl. However,\n",
        "the highest blood glucose level recorded in 2008 for a surviving \n",
        "patient reached 2,656 mg/dl. So, these outliers are legitimate \n",
        "and we should not change them.\n",
        "\n",
        "The highest potassium level observed \n",
        "was 7.6 mEq/L. This means that a potassium level with 39 \n",
        "and 47, as shown in Fig. 2 is impossible and usually due to a \n",
        "mistake.\n",
        "\n",
        "Similarly, with sodium, as Fig. 3 shows, one extreme \n",
        "data point was detected, which is 4.5. Normally, sodium level \n",
        "should be between 135 and 145 mEq/L. For this reason, \n",
        "a value of 4.5 is unacceptable or impossible'''"
      ],
      "execution_count": null,
      "outputs": [
        {
          "output_type": "execute_result",
          "data": {
            "application/vnd.google.colaboratory.intrinsic+json": {
              "type": "string"
            },
            "text/plain": [
              "'As Fig. 1 shows, there are some outliers detected for blood glucose \\nrandom that reached 500 mg/dl. However,\\nthe highest blood glucose level recorded in 2008 for a surviving \\npatient reached 2,656 mg/dl. So, these outliers are legitimate \\nand we should not change them.\\n\\nThe highest potassium level observed \\nwas 7.6 mEq/L. This means that a potassium level with 39 \\nand 47, as shown in Fig. 2 is impossible and usually due to a \\nmistake.\\n\\nSimilarly, with sodium, as Fig. 3 shows, one extreme \\ndata point was detected, which is 4.5. Normally, sodium level \\nshould be between 135 and 145 mEq/L. For this reason, \\na value of 4.5 is unacceptable or impossible'"
            ]
          },
          "metadata": {
            "tags": []
          },
          "execution_count": 30
        },
        {
          "output_type": "display_data",
          "data": {
            "image/png": "[encoded data removed]",
            "text/plain": [
              "<Figure size 864x864 with 3 Axes>"
            ]
          },
          "metadata": {
            "tags": [],
            "needs_background": "light"
          }
        }
      ]
    },
    {
      "cell_type": "markdown",
      "metadata": {
        "id": "-uaLe-UwX1Vk"
      },
      "source": [
        "**Replacing the Mistyped Values**"
      ]
    },
    {
      "cell_type": "code",
      "metadata": {
        "id": "PDDANtn_MZTX"
      },
      "source": [
        "for i in range(data.shape[0]):\n",
        "    if data.iloc[i,25]=='ckd\\t':\n",
        "        data.iloc[i,25]='ckd'\n",
        "    if data.iloc[i,20] in [' yes','\\tyes']:\n",
        "        data.iloc[i,20]='yes'\n",
        "    if data.iloc[i,14]>=7.6:\n",
        "        data.iloc[i,14]=np.nan\n",
        "    if data.iloc[i,13]<=98 or data.iloc[i,13]>=255:\n",
        "        data.iloc[i,13]=np.nan\n",
        "    if data.iloc[i,20]=='\\tno':\n",
        "        data.iloc[i,20]='no'\n",
        "    if data.iloc[i,21]=='\\tno':\n",
        "        data.iloc[i,21]='no'\n",
        "    if data.iloc[i,16]=='\\t?':\n",
        "        data.iloc[i,16]=np.nan\n",
        "    if data.iloc[i,16]=='\\t43':\n",
        "        data.iloc[i,16]='43'\n",
        "    if data.iloc[i,17]=='\\t?':\n",
        "        data.iloc[i,17]=np.nan\n",
        "    if data.iloc[i,17]=='\\t6200':\n",
        "        data.iloc[i,17]= '6200'\n",
        "    if data.iloc[i,17]=='\\t8400':\n",
        "        data.iloc[i,17]= '8400'\n",
        "    if data.iloc[i,18]=='\\t?':\n",
        "        data.iloc[i,18]=np.nan\n",
        "    \n",
        "    "
      ],
      "execution_count": null,
      "outputs": []
    },
    {
      "cell_type": "code",
      "metadata": {
        "id": "NLAV7eE0Goht"
      },
      "source": [
        "data = data.drop(['id'],axis = 1)"
      ],
      "execution_count": null,
      "outputs": []
    },
    {
      "cell_type": "code",
      "metadata": {
        "id": "87gUJN2ULuDu"
      },
      "source": [
        "data['pcv']=data['pcv'].astype('float')\n",
        "data['wc']=data['wc'].astype('float')\n",
        "data['rc']=data['rc'].astype('float')"
      ],
      "execution_count": null,
      "outputs": []
    },
    {
      "cell_type": "code",
      "metadata": {
        "colab": {
          "base_uri": "https://localhost:8080/"
        },
        "id": "4QRQ_AI9LzVb",
        "outputId": "2c494e54-d347-4f04-ede2-eab0bd6152a2"
      },
      "source": [
        "data.dtypes"
      ],
      "execution_count": null,
      "outputs": [
        {
          "output_type": "execute_result",
          "data": {
            "text/plain": [
              "age               float64\n",
              "bp                float64\n",
              "sg                float64\n",
              "al                float64\n",
              "su                float64\n",
              "rbc                object\n",
              "pc                 object\n",
              "pcc                object\n",
              "ba                 object\n",
              "bgr               float64\n",
              "bu                float64\n",
              "sc                float64\n",
              "sod               float64\n",
              "pot               float64\n",
              "hemo              float64\n",
              "pcv               float64\n",
              "wc                float64\n",
              "rc                float64\n",
              "htn                object\n",
              "dm                 object\n",
              "cad                object\n",
              "appet              object\n",
              "pe                 object\n",
              "ane                object\n",
              "classification     object\n",
              "dtype: object"
            ]
          },
          "metadata": {
            "tags": []
          },
          "execution_count": 34
        }
      ]
    },
    {
      "cell_type": "markdown",
      "metadata": {
        "id": "s2gDkE40t_3G"
      },
      "source": [
        "**Seperating Numerical and Categorical Fields**"
      ]
    },
    {
      "cell_type": "code",
      "metadata": {
        "colab": {
          "base_uri": "https://localhost:8080/"
        },
        "id": "1uwzhnGOt-7_",
        "outputId": "025b6ade-87a0-4833-dff0-24bfbcc7882b"
      },
      "source": [
        "numeric=[]\n",
        "for i in data.columns:\n",
        "    if data[i].dtype=='float64':\n",
        "        numeric.append(i)\n",
        "print(numeric)"
      ],
      "execution_count": null,
      "outputs": [
        {
          "output_type": "stream",
          "text": [
            "['age', 'bp', 'sg', 'al', 'su', 'bgr', 'bu', 'sc', 'sod', 'pot', 'hemo', 'pcv', 'wc', 'rc']\n"
          ],
          "name": "stdout"
        }
      ]
    },
    {
      "cell_type": "code",
      "metadata": {
        "colab": {
          "base_uri": "https://localhost:8080/"
        },
        "id": "WBGRam_1uNA7",
        "outputId": "dc83c8b9-511e-4fb8-e163-3e41ff70c8f5"
      },
      "source": [
        "categoricals=[]\n",
        "for col in data.columns:\n",
        "    if not col in numeric:\n",
        "        categoricals.append(col)\n",
        "categoricals.remove('classification')\n",
        "print(categoricals)"
      ],
      "execution_count": null,
      "outputs": [
        {
          "output_type": "stream",
          "text": [
            "['rbc', 'pc', 'pcc', 'ba', 'htn', 'dm', 'cad', 'appet', 'pe', 'ane']\n"
          ],
          "name": "stdout"
        }
      ]
    },
    {
      "cell_type": "markdown",
      "metadata": {
        "id": "-7BPmUShYNlY"
      },
      "source": [
        "**Visualization of Numerical Fields**"
      ]
    },
    {
      "cell_type": "code",
      "metadata": {
        "colab": {
          "base_uri": "https://localhost:8080/",
          "height": 665
        },
        "id": "VesOG_ExV49a",
        "outputId": "b3a7d034-f3f1-43b3-8c62-968af172b0d2"
      },
      "source": [
        "import seaborn as sns\n",
        "plt.figure(figsize = (10,6))\n",
        "plt.subplot(231)\n",
        "miss=\"%.2f\"%(100*(1-(data['age'].dropna().shape[0])/data.shape[0]))\n",
        "col='age'+\"\\n({}% is missing)\".format(miss)\n",
        "fig=sns.distplot(data['age'], color=\"navy\", label=col, norm_hist=True)\n",
        "fig=fig.legend(loc='best', fontsize=10)\n",
        "\n",
        "plt.subplot(232)\n",
        "miss=\"%.2f\"%(100*(1-(data['bp'].dropna().shape[0])/data.shape[0]))\n",
        "col='bp'+\"\\n({}% is missing)\".format(miss)\n",
        "fig=sns.distplot(data['bp'], color=\"navy\", label=col, norm_hist=True)\n",
        "fig=fig.legend(loc='best', fontsize=10)\n",
        "\n",
        "plt.subplot(233)\n",
        "miss=\"%.2f\"%(100*(1-(data['sg'].dropna().shape[0])/data.shape[0]))\n",
        "col='sg'+\"\\n({}% is missing)\".format(miss)\n",
        "fig=sns.distplot(data['sg'], color=\"navy\", label=col, norm_hist=True)\n",
        "fig=fig.legend(loc='best', fontsize=10)\n",
        "\n",
        "plt.subplot(234)\n",
        "miss=\"%.2f\"%(100*(1-(data['al'].dropna().shape[0])/data.shape[0]))\n",
        "col='al'+\"\\n({}% is missing)\".format(miss)\n",
        "fig=sns.distplot(data['al'], color=\"navy\", label=col, norm_hist=True)\n",
        "fig=fig.legend(loc='best', fontsize=10)\n",
        "\n",
        "plt.subplot(235)\n",
        "miss=\"%.2f\"%(100*(1-(data['su'].dropna().shape[0])/data.shape[0]))\n",
        "col='su'+\"\\n({}% is missing)\".format(miss)\n",
        "fig=sns.distplot(data['su'], color=\"navy\", label=col, norm_hist=True)\n",
        "fig=fig.legend(loc='best', fontsize=10)\n",
        "\n",
        "plt.subplot(236)\n",
        "miss=\"%.2f\"%(100*(1-(data['bgr'].dropna().shape[0])/data.shape[0]))\n",
        "col='bgr'+\"\\n({}% is missing)\".format(miss)\n",
        "fig=sns.distplot(data['bgr'], color=\"navy\", label=col, norm_hist=True)\n",
        "fig=fig.legend(loc='best', fontsize=10)\n",
        "plt.tight_layout()\n",
        "plt.show()"
      ],
      "execution_count": null,
      "outputs": [
        {
          "output_type": "stream",
          "text": [
            "/usr/local/lib/python3.7/dist-packages/seaborn/distributions.py:2557: FutureWarning: `distplot` is a deprecated function and will be removed in a future version. Please adapt your code to use either `displot` (a figure-level function with similar flexibility) or `histplot` (an axes-level function for histograms).\n",
            "  warnings.warn(msg, FutureWarning)\n",
            "/usr/local/lib/python3.7/dist-packages/seaborn/distributions.py:2557: FutureWarning: `distplot` is a deprecated function and will be removed in a future version. Please adapt your code to use either `displot` (a figure-level function with similar flexibility) or `histplot` (an axes-level function for histograms).\n",
            "  warnings.warn(msg, FutureWarning)\n",
            "/usr/local/lib/python3.7/dist-packages/seaborn/distributions.py:2557: FutureWarning: `distplot` is a deprecated function and will be removed in a future version. Please adapt your code to use either `displot` (a figure-level function with similar flexibility) or `histplot` (an axes-level function for histograms).\n",
            "  warnings.warn(msg, FutureWarning)\n",
            "/usr/local/lib/python3.7/dist-packages/seaborn/distributions.py:2557: FutureWarning: `distplot` is a deprecated function and will be removed in a future version. Please adapt your code to use either `displot` (a figure-level function with similar flexibility) or `histplot` (an axes-level function for histograms).\n",
            "  warnings.warn(msg, FutureWarning)\n",
            "/usr/local/lib/python3.7/dist-packages/seaborn/distributions.py:2557: FutureWarning: `distplot` is a deprecated function and will be removed in a future version. Please adapt your code to use either `displot` (a figure-level function with similar flexibility) or `histplot` (an axes-level function for histograms).\n",
            "  warnings.warn(msg, FutureWarning)\n",
            "/usr/local/lib/python3.7/dist-packages/seaborn/distributions.py:2557: FutureWarning: `distplot` is a deprecated function and will be removed in a future version. Please adapt your code to use either `displot` (a figure-level function with similar flexibility) or `histplot` (an axes-level function for histograms).\n",
            "  warnings.warn(msg, FutureWarning)\n"
          ],
          "name": "stderr"
        },
        {
          "output_type": "display_data",
          "data": {
            "image/png": "[encoded data removed]",
            "text/plain": [
              "<Figure size 720x432 with 6 Axes>"
            ]
          },
          "metadata": {
            "tags": [],
            "needs_background": "light"
          }
        }
      ]
    },
    {
      "cell_type": "markdown",
      "metadata": {
        "id": "UV0UMI6SYWVT"
      },
      "source": [
        "**Visualization of Categorical Fields**"
      ]
    },
    {
      "cell_type": "code",
      "metadata": {
        "colab": {
          "base_uri": "https://localhost:8080/",
          "height": 441
        },
        "id": "SzsWnQ0FZ7SG",
        "outputId": "3d9886c7-fd85-4a04-9785-e0c75867d51f"
      },
      "source": [
        "plt.figure(figsize = (10,6))\n",
        "plt.subplot(221)\n",
        "miss=\"%.2f\"%(100*(1-(data['rbc'].dropna().shape[0])/data.shape[0]))\n",
        "col='rbc'+\"\\n({}% is missing)\".format(miss)\n",
        "fig=sns.countplot(x='rbc',data=data,label=col)\n",
        "fig=fig.legend(loc='best', fontsize=10)\n",
        "\n",
        "\n",
        "plt.subplot(222)\n",
        "miss=\"%.2f\"%(100*(1-(data['pc'].dropna().shape[0])/data.shape[0]))\n",
        "col='pc'+\"\\n({}% is missing)\".format(miss)\n",
        "fig=sns.countplot(x='pc',data=data,label=col)\n",
        "fig=fig.legend(loc='best', fontsize=10)\n",
        "\n",
        "\n",
        "plt.subplot(223)\n",
        "miss=\"%.2f\"%(100*(1-(data['pcc'].dropna().shape[0])/data.shape[0]))\n",
        "col='pcc'+\"\\n({}% is missing)\".format(miss)\n",
        "fig=sns.countplot(x='pcc',data=data,label=col)\n",
        "fig=fig.legend(loc='best', fontsize=10)\n",
        "\n",
        "plt.subplot(224)\n",
        "miss=\"%.2f\"%(100*(1-(data['ba'].dropna().shape[0])/data.shape[0]))\n",
        "col='ba'+\"\\n({}% is missing)\".format(miss)\n",
        "fig=sns.countplot(x='ba',data=data,label=col)\n",
        "fig=fig.legend(loc='best', fontsize=10)\n",
        "plt.tight_layout()\n",
        "plt.show()"
      ],
      "execution_count": null,
      "outputs": [
        {
          "output_type": "display_data",
          "data": {
            "image/png": "[encoded data removed]",
            "text/plain": [
              "<Figure size 720x432 with 4 Axes>"
            ]
          },
          "metadata": {
            "tags": [],
            "needs_background": "light"
          }
        }
      ]
    },
    {
      "cell_type": "markdown",
      "metadata": {
        "id": "9ZQ_fmSz_Kf4"
      },
      "source": [
        "**Filling Null Values**\n"
      ]
    },
    {
      "cell_type": "markdown",
      "metadata": {
        "id": "F9rcl0vvHJjQ"
      },
      "source": [
        "PCV\n"
      ]
    },
    {
      "cell_type": "code",
      "metadata": {
        "id": "HjpFs782HKQw",
        "colab": {
          "base_uri": "https://localhost:8080/"
        },
        "outputId": "6938e73f-b827-4d6d-c178-b0d23fe1813e"
      },
      "source": [
        "data['pcv'].value_counts()"
      ],
      "execution_count": null,
      "outputs": [
        {
          "output_type": "execute_result",
          "data": {
            "text/plain": [
              "41.0    21\n",
              "52.0    21\n",
              "44.0    19\n",
              "48.0    19\n",
              "40.0    16\n",
              "43.0    15\n",
              "42.0    13\n",
              "45.0    13\n",
              "33.0    12\n",
              "28.0    12\n",
              "50.0    12\n",
              "36.0    12\n",
              "32.0    12\n",
              "37.0    11\n",
              "34.0    11\n",
              "46.0     9\n",
              "35.0     9\n",
              "30.0     9\n",
              "29.0     9\n",
              "31.0     8\n",
              "39.0     7\n",
              "24.0     7\n",
              "26.0     6\n",
              "38.0     5\n",
              "54.0     4\n",
              "51.0     4\n",
              "53.0     4\n",
              "49.0     4\n",
              "47.0     4\n",
              "27.0     3\n",
              "25.0     3\n",
              "22.0     3\n",
              "19.0     2\n",
              "23.0     2\n",
              "16.0     1\n",
              "15.0     1\n",
              "21.0     1\n",
              "20.0     1\n",
              "17.0     1\n",
              "9.0      1\n",
              "18.0     1\n",
              "14.0     1\n",
              "Name: pcv, dtype: int64"
            ]
          },
          "metadata": {
            "tags": []
          },
          "execution_count": 39
        }
      ]
    },
    {
      "cell_type": "code",
      "metadata": {
        "id": "VsLK0vdLIuYM"
      },
      "source": [
        "data['pcv'].fillna(52,inplace = True)"
      ],
      "execution_count": null,
      "outputs": []
    },
    {
      "cell_type": "code",
      "metadata": {
        "colab": {
          "base_uri": "https://localhost:8080/"
        },
        "id": "qHURwasdIy4F",
        "outputId": "cdd9ef15-525a-4b02-fa68-ffe4593f222a"
      },
      "source": [
        "\n",
        "data['pcv'].value_counts()"
      ],
      "execution_count": null,
      "outputs": [
        {
          "output_type": "execute_result",
          "data": {
            "text/plain": [
              "52.0    92\n",
              "41.0    21\n",
              "48.0    19\n",
              "44.0    19\n",
              "40.0    16\n",
              "43.0    15\n",
              "45.0    13\n",
              "42.0    13\n",
              "50.0    12\n",
              "32.0    12\n",
              "28.0    12\n",
              "33.0    12\n",
              "36.0    12\n",
              "37.0    11\n",
              "34.0    11\n",
              "29.0     9\n",
              "46.0     9\n",
              "35.0     9\n",
              "30.0     9\n",
              "31.0     8\n",
              "39.0     7\n",
              "24.0     7\n",
              "26.0     6\n",
              "38.0     5\n",
              "54.0     4\n",
              "51.0     4\n",
              "53.0     4\n",
              "49.0     4\n",
              "47.0     4\n",
              "27.0     3\n",
              "25.0     3\n",
              "22.0     3\n",
              "23.0     2\n",
              "19.0     2\n",
              "16.0     1\n",
              "15.0     1\n",
              "21.0     1\n",
              "20.0     1\n",
              "17.0     1\n",
              "9.0      1\n",
              "18.0     1\n",
              "14.0     1\n",
              "Name: pcv, dtype: int64"
            ]
          },
          "metadata": {
            "tags": []
          },
          "execution_count": 41
        }
      ]
    },
    {
      "cell_type": "markdown",
      "metadata": {
        "id": "Yob-yIBTKUE4"
      },
      "source": [
        "WC"
      ]
    },
    {
      "cell_type": "code",
      "metadata": {
        "colab": {
          "base_uri": "https://localhost:8080/"
        },
        "id": "VT10pkAlKUgr",
        "outputId": "03dc9bf4-15df-44b3-e132-fee5d84a819a"
      },
      "source": [
        "data['wc'].value_counts()"
      ],
      "execution_count": null,
      "outputs": [
        {
          "output_type": "execute_result",
          "data": {
            "text/plain": [
              "9800.0     11\n",
              "6700.0     10\n",
              "9200.0      9\n",
              "9600.0      9\n",
              "7200.0      9\n",
              "           ..\n",
              "18900.0     1\n",
              "16700.0     1\n",
              "10900.0     1\n",
              "5100.0      1\n",
              "9900.0      1\n",
              "Name: wc, Length: 89, dtype: int64"
            ]
          },
          "metadata": {
            "tags": []
          },
          "execution_count": 42
        }
      ]
    },
    {
      "cell_type": "code",
      "metadata": {
        "id": "ifUJfbpgKZjW"
      },
      "source": [
        "data['wc'].fillna(9800,inplace = True)"
      ],
      "execution_count": null,
      "outputs": []
    },
    {
      "cell_type": "code",
      "metadata": {
        "colab": {
          "base_uri": "https://localhost:8080/"
        },
        "id": "qbj4L7eBKb9l",
        "outputId": "112dcbe4-f8e1-4800-fc3e-f1bc8c34da78"
      },
      "source": [
        "data['wc'].value_counts()"
      ],
      "execution_count": null,
      "outputs": [
        {
          "output_type": "execute_result",
          "data": {
            "text/plain": [
              "9800.0     117\n",
              "6700.0      10\n",
              "9600.0       9\n",
              "7200.0       9\n",
              "9200.0       9\n",
              "          ... \n",
              "15700.0      1\n",
              "26400.0      1\n",
              "11500.0      1\n",
              "18900.0      1\n",
              "9900.0       1\n",
              "Name: wc, Length: 89, dtype: int64"
            ]
          },
          "metadata": {
            "tags": []
          },
          "execution_count": 44
        }
      ]
    },
    {
      "cell_type": "markdown",
      "metadata": {
        "id": "YozqoCp0Kcvc"
      },
      "source": [
        "RC"
      ]
    },
    {
      "cell_type": "code",
      "metadata": {
        "colab": {
          "base_uri": "https://localhost:8080/"
        },
        "id": "wdxIUAYJKdH0",
        "outputId": "5eafaeef-a214-4c49-a844-1974d7fe3553"
      },
      "source": [
        "data['rc'].value_counts()"
      ],
      "execution_count": null,
      "outputs": [
        {
          "output_type": "execute_result",
          "data": {
            "text/plain": [
              "5.2    18\n",
              "4.5    16\n",
              "4.9    14\n",
              "4.7    11\n",
              "5.0    10\n",
              "3.9    10\n",
              "4.8    10\n",
              "3.4     9\n",
              "4.6     9\n",
              "3.7     8\n",
              "6.1     8\n",
              "5.9     8\n",
              "5.5     8\n",
              "5.8     7\n",
              "5.4     7\n",
              "5.3     7\n",
              "3.8     7\n",
              "4.2     6\n",
              "4.0     6\n",
              "5.6     6\n",
              "4.3     6\n",
              "6.5     5\n",
              "5.7     5\n",
              "6.4     5\n",
              "6.2     5\n",
              "4.4     5\n",
              "4.1     5\n",
              "5.1     5\n",
              "3.2     5\n",
              "6.0     4\n",
              "6.3     4\n",
              "3.6     4\n",
              "3.0     3\n",
              "3.5     3\n",
              "3.3     3\n",
              "2.9     2\n",
              "3.1     2\n",
              "2.1     2\n",
              "2.7     2\n",
              "2.8     2\n",
              "2.5     2\n",
              "2.6     2\n",
              "2.4     1\n",
              "8.0     1\n",
              "2.3     1\n",
              "Name: rc, dtype: int64"
            ]
          },
          "metadata": {
            "tags": []
          },
          "execution_count": 45
        }
      ]
    },
    {
      "cell_type": "code",
      "metadata": {
        "id": "h_MN7eCjKlrM"
      },
      "source": [
        "data['rc'].fillna(5.2,inplace = True)"
      ],
      "execution_count": null,
      "outputs": []
    },
    {
      "cell_type": "code",
      "metadata": {
        "colab": {
          "base_uri": "https://localhost:8080/"
        },
        "id": "hGkTIXziKme2",
        "outputId": "89d910b0-3134-4810-fcec-65a6b140b8b1"
      },
      "source": [
        "data['rc'].value_counts()"
      ],
      "execution_count": null,
      "outputs": [
        {
          "output_type": "execute_result",
          "data": {
            "text/plain": [
              "5.2    149\n",
              "4.5     16\n",
              "4.9     14\n",
              "4.7     11\n",
              "5.0     10\n",
              "3.9     10\n",
              "4.8     10\n",
              "3.4      9\n",
              "4.6      9\n",
              "3.7      8\n",
              "6.1      8\n",
              "5.9      8\n",
              "5.5      8\n",
              "5.8      7\n",
              "5.4      7\n",
              "5.3      7\n",
              "3.8      7\n",
              "4.2      6\n",
              "4.0      6\n",
              "5.6      6\n",
              "4.3      6\n",
              "6.5      5\n",
              "5.7      5\n",
              "6.4      5\n",
              "6.2      5\n",
              "4.4      5\n",
              "4.1      5\n",
              "5.1      5\n",
              "3.2      5\n",
              "6.0      4\n",
              "6.3      4\n",
              "3.6      4\n",
              "3.0      3\n",
              "3.5      3\n",
              "3.3      3\n",
              "2.9      2\n",
              "3.1      2\n",
              "2.1      2\n",
              "2.7      2\n",
              "2.8      2\n",
              "2.5      2\n",
              "2.6      2\n",
              "2.4      1\n",
              "8.0      1\n",
              "2.3      1\n",
              "Name: rc, dtype: int64"
            ]
          },
          "metadata": {
            "tags": []
          },
          "execution_count": 47
        }
      ]
    },
    {
      "cell_type": "code",
      "metadata": {
        "colab": {
          "base_uri": "https://localhost:8080/"
        },
        "id": "N_4hnfZNKngj",
        "outputId": "ae489334-0779-4f01-a9f5-6a952cb62753"
      },
      "source": [
        "data.isnull().sum()"
      ],
      "execution_count": null,
      "outputs": [
        {
          "output_type": "execute_result",
          "data": {
            "text/plain": [
              "age                 9\n",
              "bp                 12\n",
              "sg                 47\n",
              "al                 46\n",
              "su                 49\n",
              "rbc               152\n",
              "pc                 65\n",
              "pcc                 4\n",
              "ba                  4\n",
              "bgr                44\n",
              "bu                 19\n",
              "sc                 17\n",
              "sod                88\n",
              "pot                91\n",
              "hemo               52\n",
              "pcv                 0\n",
              "wc                  0\n",
              "rc                  0\n",
              "htn                 2\n",
              "dm                  2\n",
              "cad                 2\n",
              "appet               1\n",
              "pe                  1\n",
              "ane                 1\n",
              "classification      0\n",
              "dtype: int64"
            ]
          },
          "metadata": {
            "tags": []
          },
          "execution_count": 48
        }
      ]
    },
    {
      "cell_type": "code",
      "metadata": {
        "colab": {
          "base_uri": "https://localhost:8080/"
        },
        "id": "EZwSbYgD1wO4",
        "outputId": "179d1b59-b8f0-49c8-ca6c-e13af168bc8f"
      },
      "source": [
        "data.dtypes"
      ],
      "execution_count": null,
      "outputs": [
        {
          "output_type": "execute_result",
          "data": {
            "text/plain": [
              "age               float64\n",
              "bp                float64\n",
              "sg                float64\n",
              "al                float64\n",
              "su                float64\n",
              "rbc                object\n",
              "pc                 object\n",
              "pcc                object\n",
              "ba                 object\n",
              "bgr               float64\n",
              "bu                float64\n",
              "sc                float64\n",
              "sod               float64\n",
              "pot               float64\n",
              "hemo              float64\n",
              "pcv               float64\n",
              "wc                float64\n",
              "rc                float64\n",
              "htn                object\n",
              "dm                 object\n",
              "cad                object\n",
              "appet              object\n",
              "pe                 object\n",
              "ane                object\n",
              "classification     object\n",
              "dtype: object"
            ]
          },
          "metadata": {
            "tags": []
          },
          "execution_count": 49
        }
      ]
    },
    {
      "cell_type": "markdown",
      "metadata": {
        "id": "KImJUMpA16yy"
      },
      "source": [
        "Catetgorical Features"
      ]
    },
    {
      "cell_type": "markdown",
      "metadata": {
        "id": "Uq5VnOrp_iJJ"
      },
      "source": [
        "RBC\n"
      ]
    },
    {
      "cell_type": "code",
      "metadata": {
        "colab": {
          "base_uri": "https://localhost:8080/"
        },
        "id": "kJoYcC2J_Z_X",
        "outputId": "588ee3af-b6ef-4e48-9864-1ece4e671b8e"
      },
      "source": [
        "data['rbc'].value_counts()"
      ],
      "execution_count": null,
      "outputs": [
        {
          "output_type": "execute_result",
          "data": {
            "text/plain": [
              "normal      201\n",
              "abnormal     47\n",
              "Name: rbc, dtype: int64"
            ]
          },
          "metadata": {
            "tags": []
          },
          "execution_count": 50
        }
      ]
    },
    {
      "cell_type": "code",
      "metadata": {
        "id": "mjrEdQFF9F_f"
      },
      "source": [
        "data['rbc'].fillna('normal',inplace = True)\n",
        "data['rbc'].replace(['normal','abnormal'],[0,1],inplace = True)"
      ],
      "execution_count": null,
      "outputs": []
    },
    {
      "cell_type": "code",
      "metadata": {
        "colab": {
          "base_uri": "https://localhost:8080/"
        },
        "id": "7JMSj6-Z9J58",
        "outputId": "f7d57b1a-ae30-4dd1-d794-742a9ff8163f"
      },
      "source": [
        "data['rbc'].value_counts()"
      ],
      "execution_count": null,
      "outputs": [
        {
          "output_type": "execute_result",
          "data": {
            "text/plain": [
              "0    353\n",
              "1     47\n",
              "Name: rbc, dtype: int64"
            ]
          },
          "metadata": {
            "tags": []
          },
          "execution_count": 52
        }
      ]
    },
    {
      "cell_type": "markdown",
      "metadata": {
        "id": "K2bnrKjL9LF3"
      },
      "source": [
        "PC\n",
        "\n",
        "\n"
      ]
    },
    {
      "cell_type": "code",
      "metadata": {
        "colab": {
          "base_uri": "https://localhost:8080/"
        },
        "id": "qg4JNshx9KmO",
        "outputId": "eba7a2e6-eb45-4117-bd72-0ce9c4ba42a8"
      },
      "source": [
        "data['pc'].value_counts()"
      ],
      "execution_count": null,
      "outputs": [
        {
          "output_type": "execute_result",
          "data": {
            "text/plain": [
              "normal      259\n",
              "abnormal     76\n",
              "Name: pc, dtype: int64"
            ]
          },
          "metadata": {
            "tags": []
          },
          "execution_count": 53
        }
      ]
    },
    {
      "cell_type": "code",
      "metadata": {
        "id": "e1Nb5Puk9TRR"
      },
      "source": [
        "data['pc'].fillna('normal',inplace = True)\n",
        "data['pc'].replace(['normal','abnormal'],[0,1],inplace = True)"
      ],
      "execution_count": null,
      "outputs": []
    },
    {
      "cell_type": "code",
      "metadata": {
        "colab": {
          "base_uri": "https://localhost:8080/"
        },
        "id": "ewbni13-9XZT",
        "outputId": "4759f0d4-d3de-4e70-c3cd-4ce8c64a553b"
      },
      "source": [
        "data['pc'].value_counts()"
      ],
      "execution_count": null,
      "outputs": [
        {
          "output_type": "execute_result",
          "data": {
            "text/plain": [
              "0    324\n",
              "1     76\n",
              "Name: pc, dtype: int64"
            ]
          },
          "metadata": {
            "tags": []
          },
          "execution_count": 55
        }
      ]
    },
    {
      "cell_type": "markdown",
      "metadata": {
        "id": "LdAk9fSJ9e8N"
      },
      "source": [
        "PCC"
      ]
    },
    {
      "cell_type": "code",
      "metadata": {
        "colab": {
          "base_uri": "https://localhost:8080/"
        },
        "id": "EmEiqQkY9d2J",
        "outputId": "0b8d592d-b13c-4ffa-8e4f-2a8a8595c2ca"
      },
      "source": [
        "data['pcc'].value_counts()"
      ],
      "execution_count": null,
      "outputs": [
        {
          "output_type": "execute_result",
          "data": {
            "text/plain": [
              "notpresent    354\n",
              "present        42\n",
              "Name: pcc, dtype: int64"
            ]
          },
          "metadata": {
            "tags": []
          },
          "execution_count": 56
        }
      ]
    },
    {
      "cell_type": "code",
      "metadata": {
        "id": "Pb8kSmFB9jvf"
      },
      "source": [
        "data['pcc'].fillna('notpresent',inplace = True)\n",
        "data['pcc'].replace(['notpresent','present'],[0,1],inplace = True)"
      ],
      "execution_count": null,
      "outputs": []
    },
    {
      "cell_type": "code",
      "metadata": {
        "colab": {
          "base_uri": "https://localhost:8080/"
        },
        "id": "2sQOq9ot9lr7",
        "outputId": "f1974e99-65a8-42df-a103-a33aabc4a7d9"
      },
      "source": [
        "data['pcc'].value_counts()"
      ],
      "execution_count": null,
      "outputs": [
        {
          "output_type": "execute_result",
          "data": {
            "text/plain": [
              "0    358\n",
              "1     42\n",
              "Name: pcc, dtype: int64"
            ]
          },
          "metadata": {
            "tags": []
          },
          "execution_count": 58
        }
      ]
    },
    {
      "cell_type": "markdown",
      "metadata": {
        "id": "6I9qtzVE9uas"
      },
      "source": [
        "BA\n"
      ]
    },
    {
      "cell_type": "code",
      "metadata": {
        "colab": {
          "base_uri": "https://localhost:8080/"
        },
        "id": "LvLZNLHI9uCU",
        "outputId": "509ae2a4-f108-4b4a-ee28-0c70f0bd1275"
      },
      "source": [
        "data['ba'].value_counts()"
      ],
      "execution_count": null,
      "outputs": [
        {
          "output_type": "execute_result",
          "data": {
            "text/plain": [
              "notpresent    374\n",
              "present        22\n",
              "Name: ba, dtype: int64"
            ]
          },
          "metadata": {
            "tags": []
          },
          "execution_count": 59
        }
      ]
    },
    {
      "cell_type": "code",
      "metadata": {
        "id": "zb8J9vAX95co"
      },
      "source": [
        "data['ba'].fillna('notpresent',inplace = True)\n",
        "data['ba'].replace(['notpresent','present'],[0,1],inplace = True)"
      ],
      "execution_count": null,
      "outputs": []
    },
    {
      "cell_type": "code",
      "metadata": {
        "colab": {
          "base_uri": "https://localhost:8080/"
        },
        "id": "EWays3Vu95NS",
        "outputId": "8d00cb9d-bbc5-45cd-f618-3fcf4b1ea087"
      },
      "source": [
        "data['ba'].value_counts()"
      ],
      "execution_count": null,
      "outputs": [
        {
          "output_type": "execute_result",
          "data": {
            "text/plain": [
              "0    378\n",
              "1     22\n",
              "Name: ba, dtype: int64"
            ]
          },
          "metadata": {
            "tags": []
          },
          "execution_count": 61
        }
      ]
    },
    {
      "cell_type": "markdown",
      "metadata": {
        "id": "FJ0OS5pB-Spx"
      },
      "source": [
        "HTN"
      ]
    },
    {
      "cell_type": "code",
      "metadata": {
        "colab": {
          "base_uri": "https://localhost:8080/"
        },
        "id": "ISPK-7EdGEMo",
        "outputId": "01eb2dfc-29da-44ca-97d7-405d96efc6b0"
      },
      "source": [
        "data['htn'].value_counts()"
      ],
      "execution_count": null,
      "outputs": [
        {
          "output_type": "execute_result",
          "data": {
            "text/plain": [
              "no     251\n",
              "yes    147\n",
              "Name: htn, dtype: int64"
            ]
          },
          "metadata": {
            "tags": []
          },
          "execution_count": 62
        }
      ]
    },
    {
      "cell_type": "code",
      "metadata": {
        "id": "EYUr0bVN-RDA"
      },
      "source": [
        "data['htn'].fillna('no',inplace = True)\n",
        "data['htn'].replace(['no','yes'],[0,1],inplace = True)"
      ],
      "execution_count": null,
      "outputs": []
    },
    {
      "cell_type": "code",
      "metadata": {
        "colab": {
          "base_uri": "https://localhost:8080/"
        },
        "id": "RE8XPy99GHPw",
        "outputId": "162de95a-796b-41aa-ace1-445563c95893"
      },
      "source": [
        "data['htn'].value_counts()"
      ],
      "execution_count": null,
      "outputs": [
        {
          "output_type": "execute_result",
          "data": {
            "text/plain": [
              "0    253\n",
              "1    147\n",
              "Name: htn, dtype: int64"
            ]
          },
          "metadata": {
            "tags": []
          },
          "execution_count": 64
        }
      ]
    },
    {
      "cell_type": "markdown",
      "metadata": {
        "id": "5367uBZcGKjp"
      },
      "source": [
        "DM"
      ]
    },
    {
      "cell_type": "code",
      "metadata": {
        "colab": {
          "base_uri": "https://localhost:8080/"
        },
        "id": "fYuuoINQGLdq",
        "outputId": "c644fa63-687f-48ee-dcf1-0e045169db28"
      },
      "source": [
        "data['dm'].value_counts()"
      ],
      "execution_count": null,
      "outputs": [
        {
          "output_type": "execute_result",
          "data": {
            "text/plain": [
              "no     261\n",
              "yes    137\n",
              "Name: dm, dtype: int64"
            ]
          },
          "metadata": {
            "tags": []
          },
          "execution_count": 65
        }
      ]
    },
    {
      "cell_type": "code",
      "metadata": {
        "id": "ZYcml9XeGadT"
      },
      "source": [
        "data['dm'].fillna('no',inplace = True)"
      ],
      "execution_count": null,
      "outputs": []
    },
    {
      "cell_type": "code",
      "metadata": {
        "colab": {
          "base_uri": "https://localhost:8080/"
        },
        "id": "UuPy3RZ0GdC_",
        "outputId": "702a6cfc-1f1f-4db7-a016-b3b58f2709d6"
      },
      "source": [
        "data['dm'].value_counts()"
      ],
      "execution_count": null,
      "outputs": [
        {
          "output_type": "execute_result",
          "data": {
            "text/plain": [
              "no     263\n",
              "yes    137\n",
              "Name: dm, dtype: int64"
            ]
          },
          "metadata": {
            "tags": []
          },
          "execution_count": 67
        }
      ]
    },
    {
      "cell_type": "code",
      "metadata": {
        "id": "yY2MLtpQG1WH"
      },
      "source": [
        "data['dm'].replace(['no','yes'],[0,1],inplace = True)"
      ],
      "execution_count": null,
      "outputs": []
    },
    {
      "cell_type": "markdown",
      "metadata": {
        "id": "050rV3pgGj8i"
      },
      "source": [
        "CAD\n",
        "\n"
      ]
    },
    {
      "cell_type": "code",
      "metadata": {
        "colab": {
          "base_uri": "https://localhost:8080/"
        },
        "id": "9Odsh_vXGkrE",
        "outputId": "d0afc9bd-3e39-482b-94fe-43e52fa2aeef"
      },
      "source": [
        "data['cad'].value_counts()"
      ],
      "execution_count": null,
      "outputs": [
        {
          "output_type": "execute_result",
          "data": {
            "text/plain": [
              "no     364\n",
              "yes     34\n",
              "Name: cad, dtype: int64"
            ]
          },
          "metadata": {
            "tags": []
          },
          "execution_count": 69
        }
      ]
    },
    {
      "cell_type": "code",
      "metadata": {
        "id": "io3F3ZwoHCLT"
      },
      "source": [
        "data['cad'].fillna('no',inplace = True)"
      ],
      "execution_count": null,
      "outputs": []
    },
    {
      "cell_type": "code",
      "metadata": {
        "id": "3b4cTLZzHEgY"
      },
      "source": [
        "data['cad'].replace(['no','yes'],[0,1],inplace = True)"
      ],
      "execution_count": null,
      "outputs": []
    },
    {
      "cell_type": "code",
      "metadata": {
        "colab": {
          "base_uri": "https://localhost:8080/"
        },
        "id": "J8ZjwjmuHK3e",
        "outputId": "e5c33334-3669-4cff-f963-b9abdf2c2953"
      },
      "source": [
        "data['cad'].value_counts()"
      ],
      "execution_count": null,
      "outputs": [
        {
          "output_type": "execute_result",
          "data": {
            "text/plain": [
              "0    366\n",
              "1     34\n",
              "Name: cad, dtype: int64"
            ]
          },
          "metadata": {
            "tags": []
          },
          "execution_count": 72
        }
      ]
    },
    {
      "cell_type": "markdown",
      "metadata": {
        "id": "FUgiNg1VHOgW"
      },
      "source": [
        "\n",
        "\n",
        "APPETE\n",
        "\n"
      ]
    },
    {
      "cell_type": "code",
      "metadata": {
        "colab": {
          "base_uri": "https://localhost:8080/"
        },
        "id": "4s8c3-CvHPIW",
        "outputId": "2a5ba463-f7ca-445e-964d-7f71b0fc143d"
      },
      "source": [
        "data['appet'].value_counts()"
      ],
      "execution_count": null,
      "outputs": [
        {
          "output_type": "execute_result",
          "data": {
            "text/plain": [
              "good    317\n",
              "poor     82\n",
              "Name: appet, dtype: int64"
            ]
          },
          "metadata": {
            "tags": []
          },
          "execution_count": 73
        }
      ]
    },
    {
      "cell_type": "code",
      "metadata": {
        "id": "DRqxqyOiHTs9"
      },
      "source": [
        "data['appet'].fillna('good',inplace = True)\n",
        "data['appet'].replace(['good','poor'],[0,1],inplace = True)"
      ],
      "execution_count": null,
      "outputs": []
    },
    {
      "cell_type": "code",
      "metadata": {
        "colab": {
          "base_uri": "https://localhost:8080/"
        },
        "id": "iqJKmz1NHWcz",
        "outputId": "128ddcaa-d631-4378-f559-f46afb26efdc"
      },
      "source": [
        "data['appet'].value_counts()"
      ],
      "execution_count": null,
      "outputs": [
        {
          "output_type": "execute_result",
          "data": {
            "text/plain": [
              "0    318\n",
              "1     82\n",
              "Name: appet, dtype: int64"
            ]
          },
          "metadata": {
            "tags": []
          },
          "execution_count": 75
        }
      ]
    },
    {
      "cell_type": "markdown",
      "metadata": {
        "id": "QvhmBR-zHaSH"
      },
      "source": [
        "PE"
      ]
    },
    {
      "cell_type": "code",
      "metadata": {
        "colab": {
          "base_uri": "https://localhost:8080/"
        },
        "id": "Y8d3sZnDHawA",
        "outputId": "03e75ec3-bdc2-4798-d099-280cbfe3d326"
      },
      "source": [
        "data['pe'].value_counts()"
      ],
      "execution_count": null,
      "outputs": [
        {
          "output_type": "execute_result",
          "data": {
            "text/plain": [
              "no     323\n",
              "yes     76\n",
              "Name: pe, dtype: int64"
            ]
          },
          "metadata": {
            "tags": []
          },
          "execution_count": 76
        }
      ]
    },
    {
      "cell_type": "code",
      "metadata": {
        "id": "ciqlar-WHdY9"
      },
      "source": [
        "data['pe'].fillna('no',inplace = True)\n",
        "data['pe'].replace(['no','yes'],[0,1],inplace = True)"
      ],
      "execution_count": null,
      "outputs": []
    },
    {
      "cell_type": "code",
      "metadata": {
        "colab": {
          "base_uri": "https://localhost:8080/"
        },
        "id": "LGBaHSkFHfzL",
        "outputId": "af20eb66-9001-4603-f536-f4bf933b56a5"
      },
      "source": [
        "data['pe'].value_counts()"
      ],
      "execution_count": null,
      "outputs": [
        {
          "output_type": "execute_result",
          "data": {
            "text/plain": [
              "0    324\n",
              "1     76\n",
              "Name: pe, dtype: int64"
            ]
          },
          "metadata": {
            "tags": []
          },
          "execution_count": 78
        }
      ]
    },
    {
      "cell_type": "markdown",
      "metadata": {
        "id": "WKe5tDYJHjAL"
      },
      "source": [
        "ANE"
      ]
    },
    {
      "cell_type": "code",
      "metadata": {
        "colab": {
          "base_uri": "https://localhost:8080/"
        },
        "id": "ZrjU-nZPHjpi",
        "outputId": "6bf8bb0a-de89-4bec-919f-a63f0e0fa2a4"
      },
      "source": [
        "data['ane'].value_counts()"
      ],
      "execution_count": null,
      "outputs": [
        {
          "output_type": "execute_result",
          "data": {
            "text/plain": [
              "no     339\n",
              "yes     60\n",
              "Name: ane, dtype: int64"
            ]
          },
          "metadata": {
            "tags": []
          },
          "execution_count": 79
        }
      ]
    },
    {
      "cell_type": "code",
      "metadata": {
        "id": "bYAn50HZHmFU"
      },
      "source": [
        "data['ane'].fillna('no',inplace = True)\n",
        "data['ane'].replace(['no','yes'],[0,1],inplace = True)"
      ],
      "execution_count": null,
      "outputs": []
    },
    {
      "cell_type": "code",
      "metadata": {
        "colab": {
          "base_uri": "https://localhost:8080/"
        },
        "id": "Cz5XOSRWHohL",
        "outputId": "4b7590ed-bc96-4706-8b3b-9b691b5cc5e0"
      },
      "source": [
        "data['ane'].value_counts()"
      ],
      "execution_count": null,
      "outputs": [
        {
          "output_type": "execute_result",
          "data": {
            "text/plain": [
              "0    340\n",
              "1     60\n",
              "Name: ane, dtype: int64"
            ]
          },
          "metadata": {
            "tags": []
          },
          "execution_count": 81
        }
      ]
    },
    {
      "cell_type": "markdown",
      "metadata": {
        "id": "PCLskvm3J2ig"
      },
      "source": [
        "CLASSIFICATION"
      ]
    },
    {
      "cell_type": "code",
      "metadata": {
        "colab": {
          "base_uri": "https://localhost:8080/"
        },
        "id": "MqqUnh1oJ3Fx",
        "outputId": "5135ffa1-b648-4292-93f5-09b48d3644c3"
      },
      "source": [
        "data['classification'].value_counts()"
      ],
      "execution_count": null,
      "outputs": [
        {
          "output_type": "execute_result",
          "data": {
            "text/plain": [
              "ckd       250\n",
              "notckd    150\n",
              "Name: classification, dtype: int64"
            ]
          },
          "metadata": {
            "tags": []
          },
          "execution_count": 82
        }
      ]
    },
    {
      "cell_type": "code",
      "metadata": {
        "colab": {
          "base_uri": "https://localhost:8080/",
          "height": 248
        },
        "id": "EWBPfech3muS",
        "outputId": "f5e37558-dca7-4ead-ed35-ae185cd1a0c4"
      },
      "source": [
        "graph1=data['classification'].value_counts().plot.pie(autopct='%1.1f%%')\n",
        "plt.show()"
      ],
      "execution_count": null,
      "outputs": [
        {
          "output_type": "display_data",
          "data": {
            "image/png": "[encoded data removed]",
            "text/plain": [
              "<Figure size 432x288 with 1 Axes>"
            ]
          },
          "metadata": {
            "tags": []
          }
        }
      ]
    },
    {
      "cell_type": "code",
      "metadata": {
        "colab": {
          "base_uri": "https://localhost:8080/"
        },
        "id": "kEORFwxxJ-OR",
        "outputId": "b5a21ceb-b71f-49ee-f07e-c27447bcd515"
      },
      "source": [
        "data['classification'].value_counts()"
      ],
      "execution_count": null,
      "outputs": [
        {
          "output_type": "execute_result",
          "data": {
            "text/plain": [
              "ckd       250\n",
              "notckd    150\n",
              "Name: classification, dtype: int64"
            ]
          },
          "metadata": {
            "tags": []
          },
          "execution_count": 84
        }
      ]
    },
    {
      "cell_type": "code",
      "metadata": {
        "id": "SNr3aIPZKBEX"
      },
      "source": [
        "data['classification'].replace(['ckd','notckd'],[1,0],inplace = True)\n"
      ],
      "execution_count": null,
      "outputs": []
    },
    {
      "cell_type": "code",
      "metadata": {
        "colab": {
          "base_uri": "https://localhost:8080/"
        },
        "id": "625yUf7sKEU5",
        "outputId": "f1466cfe-af28-4ccd-9e19-c45c35d2c6ed"
      },
      "source": [
        "data['classification'].value_counts()"
      ],
      "execution_count": null,
      "outputs": [
        {
          "output_type": "execute_result",
          "data": {
            "text/plain": [
              "1    250\n",
              "0    150\n",
              "Name: classification, dtype: int64"
            ]
          },
          "metadata": {
            "tags": []
          },
          "execution_count": 86
        }
      ]
    },
    {
      "cell_type": "code",
      "metadata": {
        "colab": {
          "base_uri": "https://localhost:8080/"
        },
        "id": "IA-1sW3QHrJt",
        "outputId": "65ea61fb-453b-4537-b9cb-5c43b4e0e8e1"
      },
      "source": [
        "data.dtypes"
      ],
      "execution_count": null,
      "outputs": [
        {
          "output_type": "execute_result",
          "data": {
            "text/plain": [
              "age               float64\n",
              "bp                float64\n",
              "sg                float64\n",
              "al                float64\n",
              "su                float64\n",
              "rbc                 int64\n",
              "pc                  int64\n",
              "pcc                 int64\n",
              "ba                  int64\n",
              "bgr               float64\n",
              "bu                float64\n",
              "sc                float64\n",
              "sod               float64\n",
              "pot               float64\n",
              "hemo              float64\n",
              "pcv               float64\n",
              "wc                float64\n",
              "rc                float64\n",
              "htn                 int64\n",
              "dm                  int64\n",
              "cad                 int64\n",
              "appet               int64\n",
              "pe                  int64\n",
              "ane                 int64\n",
              "classification      int64\n",
              "dtype: object"
            ]
          },
          "metadata": {
            "tags": []
          },
          "execution_count": 87
        }
      ]
    },
    {
      "cell_type": "code",
      "metadata": {
        "colab": {
          "base_uri": "https://localhost:8080/"
        },
        "id": "jhgdQJKcF1Hh",
        "outputId": "852768b6-e5e6-4f3b-9f43-5d37a67150e7"
      },
      "source": [
        "data.isnull().sum()"
      ],
      "execution_count": null,
      "outputs": [
        {
          "output_type": "execute_result",
          "data": {
            "text/plain": [
              "age                9\n",
              "bp                12\n",
              "sg                47\n",
              "al                46\n",
              "su                49\n",
              "rbc                0\n",
              "pc                 0\n",
              "pcc                0\n",
              "ba                 0\n",
              "bgr               44\n",
              "bu                19\n",
              "sc                17\n",
              "sod               88\n",
              "pot               91\n",
              "hemo              52\n",
              "pcv                0\n",
              "wc                 0\n",
              "rc                 0\n",
              "htn                0\n",
              "dm                 0\n",
              "cad                0\n",
              "appet              0\n",
              "pe                 0\n",
              "ane                0\n",
              "classification     0\n",
              "dtype: int64"
            ]
          },
          "metadata": {
            "tags": []
          },
          "execution_count": 88
        }
      ]
    },
    {
      "cell_type": "code",
      "metadata": {
        "id": "fnuMReVHPzhs"
      },
      "source": [
        "mean = data[\"age\"].mean()\n",
        "data[\"age\"].fillna(mean, inplace=True)\n",
        "\n",
        "mean = data[\"bp\"].mean()\n",
        "data[\"bp\"].fillna(mean, inplace=True)\n",
        "\n",
        "mean = data[\"sg\"].mean()\n",
        "data[\"sg\"].fillna(mean, inplace=True)\n",
        "\n",
        "mean = data[\"al\"].mean()\n",
        "data[\"al\"].fillna(mean, inplace=True)\n",
        "\n",
        "mean = data[\"su\"].mean()\n",
        "data[\"su\"].fillna(mean, inplace=True)\n",
        "\n",
        "mean = data[\"bgr\"].mean()\n",
        "data[\"bgr\"].fillna(mean, inplace=True)\n",
        "\n",
        "mean = data[\"bu\"].mean()\n",
        "data[\"bu\"].fillna(mean, inplace=True)\n",
        "\n",
        "mean = data[\"sc\"].mean()\n",
        "data[\"sc\"].fillna(mean, inplace=True)\n",
        "\n",
        "\n",
        "mean = data[\"sod\"].mean()\n",
        "data[\"sod\"].fillna(mean, inplace=True)\n",
        "\n",
        "mean = data[\"pot\"].mean()\n",
        "data[\"pot\"].fillna(mean, inplace=True)\n",
        "\n",
        "mean = data[\"hemo\"].mean()\n",
        "data[\"hemo\"].fillna(mean, inplace=True)\n",
        "\n"
      ],
      "execution_count": null,
      "outputs": []
    },
    {
      "cell_type": "code",
      "metadata": {
        "colab": {
          "base_uri": "https://localhost:8080/"
        },
        "id": "VF-qI-gvP_hI",
        "outputId": "3394c9c9-7c86-4477-eb6e-4665cf4c14c6"
      },
      "source": [
        "data.isnull().sum()"
      ],
      "execution_count": null,
      "outputs": [
        {
          "output_type": "execute_result",
          "data": {
            "text/plain": [
              "age               0\n",
              "bp                0\n",
              "sg                0\n",
              "al                0\n",
              "su                0\n",
              "rbc               0\n",
              "pc                0\n",
              "pcc               0\n",
              "ba                0\n",
              "bgr               0\n",
              "bu                0\n",
              "sc                0\n",
              "sod               0\n",
              "pot               0\n",
              "hemo              0\n",
              "pcv               0\n",
              "wc                0\n",
              "rc                0\n",
              "htn               0\n",
              "dm                0\n",
              "cad               0\n",
              "appet             0\n",
              "pe                0\n",
              "ane               0\n",
              "classification    0\n",
              "dtype: int64"
            ]
          },
          "metadata": {
            "tags": []
          },
          "execution_count": 90
        }
      ]
    },
    {
      "cell_type": "markdown",
      "metadata": {
        "id": "bR_fEDr1U3w6"
      },
      "source": [
        "**Loading the new dataset after Data Augmentation**"
      ]
    },
    {
      "cell_type": "code",
      "metadata": {
        "id": "cBkrlKGxb6Oh"
      },
      "source": [
        "data = pd.read_csv('/content/drive/MyDrive/new.csv')"
      ],
      "execution_count": null,
      "outputs": []
    },
    {
      "cell_type": "markdown",
      "metadata": {
        "id": "itMZIawvVG1H"
      },
      "source": [
        "**Visualization of New Dataset**"
      ]
    },
    {
      "cell_type": "code",
      "metadata": {
        "colab": {
          "base_uri": "https://localhost:8080/",
          "height": 296
        },
        "id": "NqTNllRsTleB",
        "outputId": "9f2055f5-7643-4c34-f8aa-21cf1e1fb354"
      },
      "source": [
        "ax=data['dm'].groupby(data['classification']).value_counts().plot(kind=\"bar\")\n",
        "\n",
        "for p in ax.patches:\n",
        "  ax.annotate('{:}'.format(p.get_height()),(p.get_x()+0.15,p.get_height()+1))"
      ],
      "execution_count": null,
      "outputs": [
        {
          "output_type": "display_data",
          "data": {
            "image/png": "[encoded data removed]",
            "text/plain": [
              "<Figure size 432x288 with 1 Axes>"
            ]
          },
          "metadata": {
            "tags": [],
            "needs_background": "light"
          }
        }
      ]
    },
    {
      "cell_type": "code",
      "metadata": {
        "colab": {
          "base_uri": "https://localhost:8080/",
          "height": 296
        },
        "id": "S0_ximPdVnIe",
        "outputId": "5181e654-5f78-428d-c5a9-da1fde85ef32"
      },
      "source": [
        "ax=data['htn'].groupby(data['classification']).value_counts().plot(kind=\"bar\")\n",
        "for p in ax.patches:\n",
        "  ax.annotate('{:}'.format(p.get_height()),(p.get_x()+0.15,p.get_height()+1))"
      ],
      "execution_count": null,
      "outputs": [
        {
          "output_type": "display_data",
          "data": {
            "image/png": "[encoded data removed]",
            "text/plain": [
              "<Figure size 432x288 with 1 Axes>"
            ]
          },
          "metadata": {
            "tags": [],
            "needs_background": "light"
          }
        }
      ]
    },
    {
      "cell_type": "code",
      "metadata": {
        "colab": {
          "base_uri": "https://localhost:8080/"
        },
        "id": "FqRkbEnwyswr",
        "outputId": "c2d4ff72-4e1c-4d7a-c5af-143a93374f77"
      },
      "source": [
        "data.dtypes"
      ],
      "execution_count": null,
      "outputs": [
        {
          "output_type": "execute_result",
          "data": {
            "text/plain": [
              "age               float64\n",
              "bp                float64\n",
              "sg                float64\n",
              "al                float64\n",
              "su                float64\n",
              "rbc                 int64\n",
              "pc                  int64\n",
              "pcc                 int64\n",
              "ba                  int64\n",
              "bgr               float64\n",
              "bu                float64\n",
              "sc                float64\n",
              "sod               float64\n",
              "pot               float64\n",
              "hemo              float64\n",
              "pcv               float64\n",
              "wc                float64\n",
              "rc                float64\n",
              "htn                 int64\n",
              "dm                  int64\n",
              "cad                 int64\n",
              "appet               int64\n",
              "pe                  int64\n",
              "ane                 int64\n",
              "classification      int64\n",
              "dtype: object"
            ]
          },
          "metadata": {
            "tags": []
          },
          "execution_count": 94
        }
      ]
    },
    {
      "cell_type": "markdown",
      "metadata": {
        "id": "gZRJMwAGVTjB"
      },
      "source": [
        "**Seperating Numerical and Categorical Fields**"
      ]
    },
    {
      "cell_type": "code",
      "metadata": {
        "colab": {
          "base_uri": "https://localhost:8080/"
        },
        "id": "h9bEAyhYHX3i",
        "outputId": "32ed393b-dba1-4cf2-ec6b-4151fd0e36b9"
      },
      "source": [
        "numeric=[]\n",
        "for i in data.columns:\n",
        "    if data[i].dtype=='float64':\n",
        "        numeric.append(i)\n",
        "print(numeric)"
      ],
      "execution_count": null,
      "outputs": [
        {
          "output_type": "stream",
          "text": [
            "['age', 'bp', 'sg', 'al', 'su', 'bgr', 'bu', 'sc', 'sod', 'pot', 'hemo', 'pcv', 'wc', 'rc']\n"
          ],
          "name": "stdout"
        }
      ]
    },
    {
      "cell_type": "code",
      "metadata": {
        "colab": {
          "base_uri": "https://localhost:8080/"
        },
        "id": "bvFIDnGNgJKP",
        "outputId": "a9d19fb6-a411-4474-c373-a58ab2afa45d"
      },
      "source": [
        "categoricals=[]\n",
        "for col in data.columns:\n",
        "    if not col in numeric:\n",
        "        categoricals.append(col)\n",
        "categoricals.remove('classification')\n",
        "print(categoricals)"
      ],
      "execution_count": null,
      "outputs": [
        {
          "output_type": "stream",
          "text": [
            "['rbc', 'pc', 'pcc', 'ba', 'htn', 'dm', 'cad', 'appet', 'pe', 'ane']\n"
          ],
          "name": "stdout"
        }
      ]
    },
    {
      "cell_type": "code",
      "metadata": {
        "colab": {
          "base_uri": "https://localhost:8080/"
        },
        "id": "ocO8ke-2dPCq",
        "outputId": "ab466b17-ec66-4dac-ac82-8a61ff70ab5a"
      },
      "source": [
        "print(data.head())"
      ],
      "execution_count": null,
      "outputs": [
        {
          "output_type": "stream",
          "text": [
            "    age    bp     sg   al   su  rbc  ...  dm  cad  appet  pe  ane  classification\n",
            "0  48.0  80.0  1.020  1.0  0.0    0  ...   1    0      0   0    0               1\n",
            "1   7.0  50.0  1.020  4.0  0.0    0  ...   0    0      0   0    0               1\n",
            "2  62.0  80.0  1.010  2.0  3.0    0  ...   1    0      1   0    1               1\n",
            "3  48.0  70.0  1.005  4.0  0.0    0  ...   0    0      1   1    1               1\n",
            "4  51.0  80.0  1.010  2.0  0.0    0  ...   0    0      0   0    0               1\n",
            "\n",
            "[5 rows x 25 columns]\n"
          ],
          "name": "stdout"
        }
      ]
    },
    {
      "cell_type": "code",
      "metadata": {
        "id": "hTP6tvE9Tkm1"
      },
      "source": [
        "X = data.iloc[:,0:24]\n",
        "y = data.iloc[:,24]"
      ],
      "execution_count": null,
      "outputs": []
    },
    {
      "cell_type": "code",
      "metadata": {
        "id": "NVAQK7z4Tsfr"
      },
      "source": [
        "from sklearn import model_selection,svm\n",
        "from sklearn.model_selection import train_test_split\n",
        "X_train,X_test,y_train,y_test = train_test_split(X,y,test_size  = 0.3)"
      ],
      "execution_count": null,
      "outputs": []
    },
    {
      "cell_type": "markdown",
      "metadata": {
        "id": "jB_v-fA4Veem"
      },
      "source": [
        "**Guassian Naive Bayes Classifier**"
      ]
    },
    {
      "cell_type": "code",
      "metadata": {
        "colab": {
          "base_uri": "https://localhost:8080/"
        },
        "id": "N0dETvygHw26",
        "outputId": "010bb4f1-be3f-4c86-9f08-c4ea1abf0ee6"
      },
      "source": [
        "from sklearn.naive_bayes import GaussianNB  \n",
        "from sklearn.metrics import accuracy_score,confusion_matrix \n",
        "classifier = GaussianNB()  \n",
        "classifier.fit(X_train, y_train)  \n",
        "predict_test = classifier.predict(X_test)  \n",
        "cm = confusion_matrix(y_test,predict_test) \n",
        "print(cm)\n",
        "accuracy_test = accuracy_score(y_test,predict_test)\n",
        "print(accuracy_test)"
      ],
      "execution_count": null,
      "outputs": [
        {
          "output_type": "stream",
          "text": [
            "[[ 204   12]\n",
            " [  53 1051]]\n",
            "0.9507575757575758\n"
          ],
          "name": "stdout"
        }
      ]
    },
    {
      "cell_type": "markdown",
      "metadata": {
        "id": "fp-VOcusVkNM"
      },
      "source": [
        "**Support Vector Machine Classier**"
      ]
    },
    {
      "cell_type": "code",
      "metadata": {
        "colab": {
          "base_uri": "https://localhost:8080/"
        },
        "id": "-bd8JTxjTyFx",
        "outputId": "ae739268-70c6-43c6-adfb-c1ddad39bbfc"
      },
      "source": [
        "from sklearn.metrics import accuracy_score,confusion_matrix \n",
        "model = svm.SVC()\n",
        "model.fit(X_train,y_train)\n",
        "predict_test= model.predict(X_test)\n",
        "print(confusion_matrix(y_test,predict_test))\n",
        "accuracy_test = accuracy_score(y_test,predict_test)\n",
        "print(accuracy_test)\n",
        "mse = np.sum((predict_test-y_test)**2)/len(predict_test)\n",
        "# print('mse',mse)\n",
        "# print('rmse',mse**0.5)"
      ],
      "execution_count": null,
      "outputs": [
        {
          "output_type": "stream",
          "text": [
            "[[   0  216]\n",
            " [   0 1104]]\n",
            "0.8363636363636363\n"
          ],
          "name": "stdout"
        }
      ]
    },
    {
      "cell_type": "code",
      "metadata": {
        "id": "t9k0GWrB8--X",
        "colab": {
          "base_uri": "https://localhost:8080/"
        },
        "outputId": "ca4436af-3515-4d85-8aa4-a6eb9dfd44b6"
      },
      "source": [
        "from sklearn.metrics import accuracy_score,confusion_matrix \n",
        "model = svm.SVC(kernel = 'sigmoid')\n",
        "model.fit(X_train,y_train)\n",
        "predict_test= model.predict(X_test)\n",
        "print(confusion_matrix(y_test,predict_test))\n",
        "accuracy_test = accuracy_score(y_test,predict_test)\n",
        "print(accuracy_test)"
      ],
      "execution_count": null,
      "outputs": [
        {
          "output_type": "stream",
          "text": [
            "[[  9 207]\n",
            " [162 942]]\n",
            "0.7204545454545455\n"
          ],
          "name": "stdout"
        }
      ]
    },
    {
      "cell_type": "code",
      "metadata": {
        "id": "6AW7zSi19Apt",
        "colab": {
          "base_uri": "https://localhost:8080/"
        },
        "outputId": "7b205a20-2233-47e5-dd3b-0d76dee6d18c"
      },
      "source": [
        "from sklearn.metrics import accuracy_score,confusion_matrix \n",
        "model = svm.SVC(kernel = 'rbf',gamma=0.001)\n",
        "model.fit(X_train,y_train)\n",
        "predict_test= model.predict(X_test)\n",
        "print(confusion_matrix(y_test,predict_test))\n",
        "accuracy_test = accuracy_score(y_test,predict_test)\n",
        "print(accuracy_test)"
      ],
      "execution_count": null,
      "outputs": [
        {
          "output_type": "stream",
          "text": [
            "[[  37  179]\n",
            " [  14 1090]]\n",
            "0.8537878787878788\n"
          ],
          "name": "stdout"
        }
      ]
    },
    {
      "cell_type": "markdown",
      "metadata": {
        "id": "r1wa5fToWbcB"
      },
      "source": [
        "**Random Forest Classifier**"
      ]
    },
    {
      "cell_type": "code",
      "metadata": {
        "colab": {
          "base_uri": "https://localhost:8080/"
        },
        "id": "YWwulMvVUJIH",
        "outputId": "f6ab3ae0-9bc9-415c-d8e6-849396a09189"
      },
      "source": [
        "from sklearn.ensemble import RandomForestClassifier\n",
        "from sklearn.model_selection import train_test_split\n",
        "from sklearn.metrics import accuracy_score,recall_score,roc_auc_score,confusion_matrix\n",
        "X_train,X_test,y_train,y_test = train_test_split(X,y,test_size  = 0.3)\n",
        "model = RandomForestClassifier(n_estimators=8,n_jobs=-1,random_state=0,max_depth=4)\n",
        "model.fit(X_train,y_train)\n",
        "predict_test=model.predict(X_test)\n",
        "accuracy_test_rf= accuracy_score(y_test,predict_test)\n",
        "print(confusion_matrix(y_test,predict_test))\n",
        "print('accuracy_test',accuracy_test_rf)\n",
        "mse = np.sum((predict_test-y_test)**2)/len(predict_test)\n",
        "print('mse',mse)\n",
        "print('rmse',mse**0.5)"
      ],
      "execution_count": null,
      "outputs": [
        {
          "output_type": "stream",
          "text": [
            "[[ 164   47]\n",
            " [  22 1087]]\n",
            "accuracy_test 0.9477272727272728\n",
            "mse 0.05227272727272727\n",
            "rmse 0.22863229709016894\n"
          ],
          "name": "stdout"
        }
      ]
    },
    {
      "cell_type": "code",
      "metadata": {
        "colab": {
          "base_uri": "https://localhost:8080/"
        },
        "id": "vJow5XrkcXvZ",
        "outputId": "e5a99d15-5f17-41e0-fecb-2ca84cd037dc"
      },
      "source": [
        "print(data.shape)"
      ],
      "execution_count": null,
      "outputs": [
        {
          "output_type": "stream",
          "text": [
            "(4400, 25)\n"
          ],
          "name": "stdout"
        }
      ]
    },
    {
      "cell_type": "markdown",
      "metadata": {
        "id": "qw3jEC2EJYPa"
      },
      "source": [
        "**Feature Extraction and Selection**"
      ]
    },
    {
      "cell_type": "markdown",
      "metadata": {
        "id": "FMzpI-EKZb2H"
      },
      "source": [
        "### Correlation"
      ]
    },
    {
      "cell_type": "code",
      "metadata": {
        "id": "peLhvCdcZf6t",
        "colab": {
          "base_uri": "https://localhost:8080/",
          "height": 844
        },
        "outputId": "ff3bead1-f02f-477b-f359-fad0cc8305d9"
      },
      "source": [
        "data.corr()\n"
      ],
      "execution_count": null,
      "outputs": [
        {
          "output_type": "execute_result",
          "data": {
            "text/html": [
              "<div>\n",
              "<style scoped>\n",
              "    .dataframe tbody tr th:only-of-type {\n",
              "        vertical-align: middle;\n",
              "    }\n",
              "\n",
              "    .dataframe tbody tr th {\n",
              "        vertical-align: top;\n",
              "    }\n",
              "\n",
              "    .dataframe thead th {\n",
              "        text-align: right;\n",
              "    }\n",
              "</style>\n",
              "<table border=\"1\" class=\"dataframe\">\n",
              "  <thead>\n",
              "    <tr style=\"text-align: right;\">\n",
              "      <th></th>\n",
              "      <th>age</th>\n",
              "      <th>bp</th>\n",
              "      <th>sg</th>\n",
              "      <th>al</th>\n",
              "      <th>su</th>\n",
              "      <th>rbc</th>\n",
              "      <th>pc</th>\n",
              "      <th>pcc</th>\n",
              "      <th>ba</th>\n",
              "      <th>bgr</th>\n",
              "      <th>bu</th>\n",
              "      <th>sc</th>\n",
              "      <th>sod</th>\n",
              "      <th>pot</th>\n",
              "      <th>hemo</th>\n",
              "      <th>pcv</th>\n",
              "      <th>wc</th>\n",
              "      <th>rc</th>\n",
              "      <th>htn</th>\n",
              "      <th>dm</th>\n",
              "      <th>cad</th>\n",
              "      <th>appet</th>\n",
              "      <th>pe</th>\n",
              "      <th>ane</th>\n",
              "      <th>classification</th>\n",
              "    </tr>\n",
              "  </thead>\n",
              "  <tbody>\n",
              "    <tr>\n",
              "      <th>age</th>\n",
              "      <td>1.000000</td>\n",
              "      <td>0.158085</td>\n",
              "      <td>0.004797</td>\n",
              "      <td>0.102832</td>\n",
              "      <td>0.176142</td>\n",
              "      <td>0.069884</td>\n",
              "      <td>0.087588</td>\n",
              "      <td>0.100344</td>\n",
              "      <td>0.067611</td>\n",
              "      <td>0.203419</td>\n",
              "      <td>0.152508</td>\n",
              "      <td>0.119382</td>\n",
              "      <td>-0.052811</td>\n",
              "      <td>0.122182</td>\n",
              "      <td>-0.124506</td>\n",
              "      <td>-0.129234</td>\n",
              "      <td>0.119424</td>\n",
              "      <td>-0.143131</td>\n",
              "      <td>0.115600</td>\n",
              "      <td>0.118576</td>\n",
              "      <td>0.093760</td>\n",
              "      <td>0.098564</td>\n",
              "      <td>0.084614</td>\n",
              "      <td>0.063138</td>\n",
              "      <td>0.070975</td>\n",
              "    </tr>\n",
              "    <tr>\n",
              "      <th>bp</th>\n",
              "      <td>0.158085</td>\n",
              "      <td>1.000000</td>\n",
              "      <td>0.036646</td>\n",
              "      <td>0.128491</td>\n",
              "      <td>0.167027</td>\n",
              "      <td>0.103174</td>\n",
              "      <td>0.114711</td>\n",
              "      <td>0.067625</td>\n",
              "      <td>0.071831</td>\n",
              "      <td>0.148313</td>\n",
              "      <td>0.157037</td>\n",
              "      <td>0.158986</td>\n",
              "      <td>-0.063994</td>\n",
              "      <td>0.118483</td>\n",
              "      <td>-0.200226</td>\n",
              "      <td>-0.179387</td>\n",
              "      <td>0.052043</td>\n",
              "      <td>-0.134177</td>\n",
              "      <td>0.113511</td>\n",
              "      <td>0.116241</td>\n",
              "      <td>0.078732</td>\n",
              "      <td>0.123274</td>\n",
              "      <td>0.049905</td>\n",
              "      <td>0.092495</td>\n",
              "      <td>0.075037</td>\n",
              "    </tr>\n",
              "    <tr>\n",
              "      <th>sg</th>\n",
              "      <td>0.004797</td>\n",
              "      <td>0.036646</td>\n",
              "      <td>1.000000</td>\n",
              "      <td>0.112583</td>\n",
              "      <td>0.095999</td>\n",
              "      <td>0.042743</td>\n",
              "      <td>0.050238</td>\n",
              "      <td>0.063947</td>\n",
              "      <td>0.047448</td>\n",
              "      <td>0.007359</td>\n",
              "      <td>0.023701</td>\n",
              "      <td>0.033651</td>\n",
              "      <td>0.026899</td>\n",
              "      <td>0.065244</td>\n",
              "      <td>0.022732</td>\n",
              "      <td>0.026293</td>\n",
              "      <td>-0.006245</td>\n",
              "      <td>0.037920</td>\n",
              "      <td>0.024138</td>\n",
              "      <td>0.021964</td>\n",
              "      <td>0.045460</td>\n",
              "      <td>0.033576</td>\n",
              "      <td>0.049003</td>\n",
              "      <td>0.048927</td>\n",
              "      <td>0.011941</td>\n",
              "    </tr>\n",
              "    <tr>\n",
              "      <th>al</th>\n",
              "      <td>0.102832</td>\n",
              "      <td>0.128491</td>\n",
              "      <td>0.112583</td>\n",
              "      <td>1.000000</td>\n",
              "      <td>0.423239</td>\n",
              "      <td>0.198438</td>\n",
              "      <td>0.301518</td>\n",
              "      <td>0.262576</td>\n",
              "      <td>0.218719</td>\n",
              "      <td>0.285244</td>\n",
              "      <td>0.292404</td>\n",
              "      <td>0.260511</td>\n",
              "      <td>-0.204473</td>\n",
              "      <td>0.105635</td>\n",
              "      <td>-0.258561</td>\n",
              "      <td>-0.202678</td>\n",
              "      <td>0.173362</td>\n",
              "      <td>-0.179148</td>\n",
              "      <td>0.339144</td>\n",
              "      <td>0.313300</td>\n",
              "      <td>0.232700</td>\n",
              "      <td>0.281131</td>\n",
              "      <td>0.302259</td>\n",
              "      <td>0.265496</td>\n",
              "      <td>0.443216</td>\n",
              "    </tr>\n",
              "    <tr>\n",
              "      <th>su</th>\n",
              "      <td>0.176142</td>\n",
              "      <td>0.167027</td>\n",
              "      <td>0.095999</td>\n",
              "      <td>0.423239</td>\n",
              "      <td>1.000000</td>\n",
              "      <td>0.146992</td>\n",
              "      <td>0.226898</td>\n",
              "      <td>0.210117</td>\n",
              "      <td>0.190090</td>\n",
              "      <td>0.485856</td>\n",
              "      <td>0.117461</td>\n",
              "      <td>0.204438</td>\n",
              "      <td>-0.037910</td>\n",
              "      <td>0.111521</td>\n",
              "      <td>-0.086540</td>\n",
              "      <td>-0.063817</td>\n",
              "      <td>0.156594</td>\n",
              "      <td>-0.033996</td>\n",
              "      <td>0.296970</td>\n",
              "      <td>0.311629</td>\n",
              "      <td>0.228584</td>\n",
              "      <td>0.216529</td>\n",
              "      <td>0.228257</td>\n",
              "      <td>0.216826</td>\n",
              "      <td>0.342726</td>\n",
              "    </tr>\n",
              "    <tr>\n",
              "      <th>rbc</th>\n",
              "      <td>0.069884</td>\n",
              "      <td>0.103174</td>\n",
              "      <td>0.042743</td>\n",
              "      <td>0.198438</td>\n",
              "      <td>0.146992</td>\n",
              "      <td>1.000000</td>\n",
              "      <td>0.263091</td>\n",
              "      <td>0.219983</td>\n",
              "      <td>0.188148</td>\n",
              "      <td>0.121334</td>\n",
              "      <td>0.144182</td>\n",
              "      <td>0.144508</td>\n",
              "      <td>0.001582</td>\n",
              "      <td>0.122579</td>\n",
              "      <td>-0.027233</td>\n",
              "      <td>-0.012289</td>\n",
              "      <td>0.049244</td>\n",
              "      <td>0.052415</td>\n",
              "      <td>0.321969</td>\n",
              "      <td>0.322566</td>\n",
              "      <td>0.218254</td>\n",
              "      <td>0.277836</td>\n",
              "      <td>0.287856</td>\n",
              "      <td>0.234951</td>\n",
              "      <td>0.277947</td>\n",
              "    </tr>\n",
              "    <tr>\n",
              "      <th>pc</th>\n",
              "      <td>0.087588</td>\n",
              "      <td>0.114711</td>\n",
              "      <td>0.050238</td>\n",
              "      <td>0.301518</td>\n",
              "      <td>0.226898</td>\n",
              "      <td>0.263091</td>\n",
              "      <td>1.000000</td>\n",
              "      <td>0.299699</td>\n",
              "      <td>0.226254</td>\n",
              "      <td>0.166007</td>\n",
              "      <td>0.189033</td>\n",
              "      <td>0.181825</td>\n",
              "      <td>0.001950</td>\n",
              "      <td>0.130894</td>\n",
              "      <td>-0.037720</td>\n",
              "      <td>-0.010535</td>\n",
              "      <td>0.120549</td>\n",
              "      <td>0.028442</td>\n",
              "      <td>0.427243</td>\n",
              "      <td>0.386640</td>\n",
              "      <td>0.300318</td>\n",
              "      <td>0.337524</td>\n",
              "      <td>0.341527</td>\n",
              "      <td>0.322298</td>\n",
              "      <td>0.413521</td>\n",
              "    </tr>\n",
              "    <tr>\n",
              "      <th>pcc</th>\n",
              "      <td>0.100344</td>\n",
              "      <td>0.067625</td>\n",
              "      <td>0.063947</td>\n",
              "      <td>0.262576</td>\n",
              "      <td>0.210117</td>\n",
              "      <td>0.219983</td>\n",
              "      <td>0.299699</td>\n",
              "      <td>1.000000</td>\n",
              "      <td>0.221819</td>\n",
              "      <td>0.168497</td>\n",
              "      <td>0.141704</td>\n",
              "      <td>0.152956</td>\n",
              "      <td>0.002698</td>\n",
              "      <td>0.122032</td>\n",
              "      <td>-0.019900</td>\n",
              "      <td>-0.005230</td>\n",
              "      <td>0.135222</td>\n",
              "      <td>0.015919</td>\n",
              "      <td>0.378832</td>\n",
              "      <td>0.364680</td>\n",
              "      <td>0.257490</td>\n",
              "      <td>0.287574</td>\n",
              "      <td>0.305323</td>\n",
              "      <td>0.283934</td>\n",
              "      <td>0.400856</td>\n",
              "    </tr>\n",
              "    <tr>\n",
              "      <th>ba</th>\n",
              "      <td>0.067611</td>\n",
              "      <td>0.071831</td>\n",
              "      <td>0.047448</td>\n",
              "      <td>0.218719</td>\n",
              "      <td>0.190090</td>\n",
              "      <td>0.188148</td>\n",
              "      <td>0.226254</td>\n",
              "      <td>0.221819</td>\n",
              "      <td>1.000000</td>\n",
              "      <td>0.119663</td>\n",
              "      <td>0.117664</td>\n",
              "      <td>0.138851</td>\n",
              "      <td>0.036030</td>\n",
              "      <td>0.116715</td>\n",
              "      <td>0.028145</td>\n",
              "      <td>0.035360</td>\n",
              "      <td>0.074228</td>\n",
              "      <td>0.071938</td>\n",
              "      <td>0.305976</td>\n",
              "      <td>0.292246</td>\n",
              "      <td>0.203004</td>\n",
              "      <td>0.253046</td>\n",
              "      <td>0.234093</td>\n",
              "      <td>0.237781</td>\n",
              "      <td>0.325058</td>\n",
              "    </tr>\n",
              "    <tr>\n",
              "      <th>bgr</th>\n",
              "      <td>0.203419</td>\n",
              "      <td>0.148313</td>\n",
              "      <td>0.007359</td>\n",
              "      <td>0.285244</td>\n",
              "      <td>0.485856</td>\n",
              "      <td>0.121334</td>\n",
              "      <td>0.166007</td>\n",
              "      <td>0.168497</td>\n",
              "      <td>0.119663</td>\n",
              "      <td>1.000000</td>\n",
              "      <td>0.175562</td>\n",
              "      <td>0.136432</td>\n",
              "      <td>-0.160178</td>\n",
              "      <td>0.035198</td>\n",
              "      <td>-0.189211</td>\n",
              "      <td>-0.134620</td>\n",
              "      <td>0.153479</td>\n",
              "      <td>-0.130168</td>\n",
              "      <td>0.219951</td>\n",
              "      <td>0.236278</td>\n",
              "      <td>0.159031</td>\n",
              "      <td>0.154634</td>\n",
              "      <td>0.150013</td>\n",
              "      <td>0.155466</td>\n",
              "      <td>0.285990</td>\n",
              "    </tr>\n",
              "    <tr>\n",
              "      <th>bu</th>\n",
              "      <td>0.152508</td>\n",
              "      <td>0.157037</td>\n",
              "      <td>0.023701</td>\n",
              "      <td>0.292404</td>\n",
              "      <td>0.117461</td>\n",
              "      <td>0.144182</td>\n",
              "      <td>0.189033</td>\n",
              "      <td>0.141704</td>\n",
              "      <td>0.117664</td>\n",
              "      <td>0.175562</td>\n",
              "      <td>1.000000</td>\n",
              "      <td>0.531185</td>\n",
              "      <td>-0.221337</td>\n",
              "      <td>0.132439</td>\n",
              "      <td>-0.367430</td>\n",
              "      <td>-0.295759</td>\n",
              "      <td>0.078746</td>\n",
              "      <td>-0.314154</td>\n",
              "      <td>0.219427</td>\n",
              "      <td>0.196731</td>\n",
              "      <td>0.135860</td>\n",
              "      <td>0.153124</td>\n",
              "      <td>0.185247</td>\n",
              "      <td>0.187599</td>\n",
              "      <td>0.281242</td>\n",
              "    </tr>\n",
              "    <tr>\n",
              "      <th>sc</th>\n",
              "      <td>0.119382</td>\n",
              "      <td>0.158986</td>\n",
              "      <td>0.033651</td>\n",
              "      <td>0.260511</td>\n",
              "      <td>0.204438</td>\n",
              "      <td>0.144508</td>\n",
              "      <td>0.181825</td>\n",
              "      <td>0.152956</td>\n",
              "      <td>0.138851</td>\n",
              "      <td>0.136432</td>\n",
              "      <td>0.531185</td>\n",
              "      <td>1.000000</td>\n",
              "      <td>-0.177491</td>\n",
              "      <td>0.120160</td>\n",
              "      <td>-0.263573</td>\n",
              "      <td>-0.206693</td>\n",
              "      <td>0.053409</td>\n",
              "      <td>-0.229894</td>\n",
              "      <td>0.249334</td>\n",
              "      <td>0.226120</td>\n",
              "      <td>0.166353</td>\n",
              "      <td>0.178355</td>\n",
              "      <td>0.199813</td>\n",
              "      <td>0.209318</td>\n",
              "      <td>0.268566</td>\n",
              "    </tr>\n",
              "    <tr>\n",
              "      <th>sod</th>\n",
              "      <td>-0.052811</td>\n",
              "      <td>-0.063994</td>\n",
              "      <td>0.026899</td>\n",
              "      <td>-0.204473</td>\n",
              "      <td>-0.037910</td>\n",
              "      <td>0.001582</td>\n",
              "      <td>0.001950</td>\n",
              "      <td>0.002698</td>\n",
              "      <td>0.036030</td>\n",
              "      <td>-0.160178</td>\n",
              "      <td>-0.221337</td>\n",
              "      <td>-0.177491</td>\n",
              "      <td>1.000000</td>\n",
              "      <td>0.084064</td>\n",
              "      <td>0.384908</td>\n",
              "      <td>0.348789</td>\n",
              "      <td>-0.013033</td>\n",
              "      <td>0.352911</td>\n",
              "      <td>0.017441</td>\n",
              "      <td>0.012331</td>\n",
              "      <td>0.035449</td>\n",
              "      <td>0.019191</td>\n",
              "      <td>0.015473</td>\n",
              "      <td>-0.010435</td>\n",
              "      <td>-0.059683</td>\n",
              "    </tr>\n",
              "    <tr>\n",
              "      <th>pot</th>\n",
              "      <td>0.122182</td>\n",
              "      <td>0.118483</td>\n",
              "      <td>0.065244</td>\n",
              "      <td>0.105635</td>\n",
              "      <td>0.111521</td>\n",
              "      <td>0.122579</td>\n",
              "      <td>0.130894</td>\n",
              "      <td>0.122032</td>\n",
              "      <td>0.116715</td>\n",
              "      <td>0.035198</td>\n",
              "      <td>0.132439</td>\n",
              "      <td>0.120160</td>\n",
              "      <td>0.084064</td>\n",
              "      <td>1.000000</td>\n",
              "      <td>-0.033783</td>\n",
              "      <td>-0.058265</td>\n",
              "      <td>-0.018510</td>\n",
              "      <td>-0.008661</td>\n",
              "      <td>0.157128</td>\n",
              "      <td>0.145511</td>\n",
              "      <td>0.159618</td>\n",
              "      <td>0.105227</td>\n",
              "      <td>0.142560</td>\n",
              "      <td>0.101703</td>\n",
              "      <td>0.062491</td>\n",
              "    </tr>\n",
              "    <tr>\n",
              "      <th>hemo</th>\n",
              "      <td>-0.124506</td>\n",
              "      <td>-0.200226</td>\n",
              "      <td>0.022732</td>\n",
              "      <td>-0.258561</td>\n",
              "      <td>-0.086540</td>\n",
              "      <td>-0.027233</td>\n",
              "      <td>-0.037720</td>\n",
              "      <td>-0.019900</td>\n",
              "      <td>0.028145</td>\n",
              "      <td>-0.189211</td>\n",
              "      <td>-0.367430</td>\n",
              "      <td>-0.263573</td>\n",
              "      <td>0.384908</td>\n",
              "      <td>-0.033783</td>\n",
              "      <td>1.000000</td>\n",
              "      <td>0.556967</td>\n",
              "      <td>-0.141434</td>\n",
              "      <td>0.503653</td>\n",
              "      <td>-0.012307</td>\n",
              "      <td>0.004170</td>\n",
              "      <td>-0.000474</td>\n",
              "      <td>-0.033504</td>\n",
              "      <td>0.001272</td>\n",
              "      <td>-0.041959</td>\n",
              "      <td>-0.115049</td>\n",
              "    </tr>\n",
              "    <tr>\n",
              "      <th>pcv</th>\n",
              "      <td>-0.129234</td>\n",
              "      <td>-0.179387</td>\n",
              "      <td>0.026293</td>\n",
              "      <td>-0.202678</td>\n",
              "      <td>-0.063817</td>\n",
              "      <td>-0.012289</td>\n",
              "      <td>-0.010535</td>\n",
              "      <td>-0.005230</td>\n",
              "      <td>0.035360</td>\n",
              "      <td>-0.134620</td>\n",
              "      <td>-0.295759</td>\n",
              "      <td>-0.206693</td>\n",
              "      <td>0.348789</td>\n",
              "      <td>-0.058265</td>\n",
              "      <td>0.556967</td>\n",
              "      <td>1.000000</td>\n",
              "      <td>-0.055683</td>\n",
              "      <td>0.588948</td>\n",
              "      <td>0.009161</td>\n",
              "      <td>0.035275</td>\n",
              "      <td>0.012050</td>\n",
              "      <td>0.002060</td>\n",
              "      <td>0.024325</td>\n",
              "      <td>-0.025819</td>\n",
              "      <td>-0.020308</td>\n",
              "    </tr>\n",
              "    <tr>\n",
              "      <th>wc</th>\n",
              "      <td>0.119424</td>\n",
              "      <td>0.052043</td>\n",
              "      <td>-0.006245</td>\n",
              "      <td>0.173362</td>\n",
              "      <td>0.156594</td>\n",
              "      <td>0.049244</td>\n",
              "      <td>0.120549</td>\n",
              "      <td>0.135222</td>\n",
              "      <td>0.074228</td>\n",
              "      <td>0.153479</td>\n",
              "      <td>0.078746</td>\n",
              "      <td>0.053409</td>\n",
              "      <td>-0.013033</td>\n",
              "      <td>-0.018510</td>\n",
              "      <td>-0.141434</td>\n",
              "      <td>-0.055683</td>\n",
              "      <td>1.000000</td>\n",
              "      <td>-0.032268</td>\n",
              "      <td>0.124700</td>\n",
              "      <td>0.142529</td>\n",
              "      <td>0.051958</td>\n",
              "      <td>0.128272</td>\n",
              "      <td>0.128484</td>\n",
              "      <td>0.091050</td>\n",
              "      <td>0.136789</td>\n",
              "    </tr>\n",
              "    <tr>\n",
              "      <th>rc</th>\n",
              "      <td>-0.143131</td>\n",
              "      <td>-0.134177</td>\n",
              "      <td>0.037920</td>\n",
              "      <td>-0.179148</td>\n",
              "      <td>-0.033996</td>\n",
              "      <td>0.052415</td>\n",
              "      <td>0.028442</td>\n",
              "      <td>0.015919</td>\n",
              "      <td>0.071938</td>\n",
              "      <td>-0.130168</td>\n",
              "      <td>-0.314154</td>\n",
              "      <td>-0.229894</td>\n",
              "      <td>0.352911</td>\n",
              "      <td>-0.008661</td>\n",
              "      <td>0.503653</td>\n",
              "      <td>0.588948</td>\n",
              "      <td>-0.032268</td>\n",
              "      <td>1.000000</td>\n",
              "      <td>0.032676</td>\n",
              "      <td>0.074910</td>\n",
              "      <td>0.039927</td>\n",
              "      <td>0.041888</td>\n",
              "      <td>0.054378</td>\n",
              "      <td>0.042265</td>\n",
              "      <td>-0.039490</td>\n",
              "    </tr>\n",
              "    <tr>\n",
              "      <th>htn</th>\n",
              "      <td>0.115600</td>\n",
              "      <td>0.113511</td>\n",
              "      <td>0.024138</td>\n",
              "      <td>0.339144</td>\n",
              "      <td>0.296970</td>\n",
              "      <td>0.321969</td>\n",
              "      <td>0.427243</td>\n",
              "      <td>0.378832</td>\n",
              "      <td>0.305976</td>\n",
              "      <td>0.219951</td>\n",
              "      <td>0.219427</td>\n",
              "      <td>0.249334</td>\n",
              "      <td>0.017441</td>\n",
              "      <td>0.157128</td>\n",
              "      <td>-0.012307</td>\n",
              "      <td>0.009161</td>\n",
              "      <td>0.124700</td>\n",
              "      <td>0.032676</td>\n",
              "      <td>1.000000</td>\n",
              "      <td>0.607778</td>\n",
              "      <td>0.367916</td>\n",
              "      <td>0.450469</td>\n",
              "      <td>0.466757</td>\n",
              "      <td>0.418117</td>\n",
              "      <td>0.644865</td>\n",
              "    </tr>\n",
              "    <tr>\n",
              "      <th>dm</th>\n",
              "      <td>0.118576</td>\n",
              "      <td>0.116241</td>\n",
              "      <td>0.021964</td>\n",
              "      <td>0.313300</td>\n",
              "      <td>0.311629</td>\n",
              "      <td>0.322566</td>\n",
              "      <td>0.386640</td>\n",
              "      <td>0.364680</td>\n",
              "      <td>0.292246</td>\n",
              "      <td>0.236278</td>\n",
              "      <td>0.196731</td>\n",
              "      <td>0.226120</td>\n",
              "      <td>0.012331</td>\n",
              "      <td>0.145511</td>\n",
              "      <td>0.004170</td>\n",
              "      <td>0.035275</td>\n",
              "      <td>0.142529</td>\n",
              "      <td>0.074910</td>\n",
              "      <td>0.607778</td>\n",
              "      <td>1.000000</td>\n",
              "      <td>0.336548</td>\n",
              "      <td>0.425858</td>\n",
              "      <td>0.434563</td>\n",
              "      <td>0.387997</td>\n",
              "      <td>0.593096</td>\n",
              "    </tr>\n",
              "    <tr>\n",
              "      <th>cad</th>\n",
              "      <td>0.093760</td>\n",
              "      <td>0.078732</td>\n",
              "      <td>0.045460</td>\n",
              "      <td>0.232700</td>\n",
              "      <td>0.228584</td>\n",
              "      <td>0.218254</td>\n",
              "      <td>0.300318</td>\n",
              "      <td>0.257490</td>\n",
              "      <td>0.203004</td>\n",
              "      <td>0.159031</td>\n",
              "      <td>0.135860</td>\n",
              "      <td>0.166353</td>\n",
              "      <td>0.035449</td>\n",
              "      <td>0.159618</td>\n",
              "      <td>-0.000474</td>\n",
              "      <td>0.012050</td>\n",
              "      <td>0.051958</td>\n",
              "      <td>0.039927</td>\n",
              "      <td>0.367916</td>\n",
              "      <td>0.336548</td>\n",
              "      <td>1.000000</td>\n",
              "      <td>0.267045</td>\n",
              "      <td>0.305508</td>\n",
              "      <td>0.239190</td>\n",
              "      <td>0.408562</td>\n",
              "    </tr>\n",
              "    <tr>\n",
              "      <th>appet</th>\n",
              "      <td>0.098564</td>\n",
              "      <td>0.123274</td>\n",
              "      <td>0.033576</td>\n",
              "      <td>0.281131</td>\n",
              "      <td>0.216529</td>\n",
              "      <td>0.277836</td>\n",
              "      <td>0.337524</td>\n",
              "      <td>0.287574</td>\n",
              "      <td>0.253046</td>\n",
              "      <td>0.154634</td>\n",
              "      <td>0.153124</td>\n",
              "      <td>0.178355</td>\n",
              "      <td>0.019191</td>\n",
              "      <td>0.105227</td>\n",
              "      <td>-0.033504</td>\n",
              "      <td>0.002060</td>\n",
              "      <td>0.128272</td>\n",
              "      <td>0.041888</td>\n",
              "      <td>0.450469</td>\n",
              "      <td>0.425858</td>\n",
              "      <td>0.267045</td>\n",
              "      <td>1.000000</td>\n",
              "      <td>0.329666</td>\n",
              "      <td>0.311548</td>\n",
              "      <td>0.418194</td>\n",
              "    </tr>\n",
              "    <tr>\n",
              "      <th>pe</th>\n",
              "      <td>0.084614</td>\n",
              "      <td>0.049905</td>\n",
              "      <td>0.049003</td>\n",
              "      <td>0.302259</td>\n",
              "      <td>0.228257</td>\n",
              "      <td>0.287856</td>\n",
              "      <td>0.341527</td>\n",
              "      <td>0.305323</td>\n",
              "      <td>0.234093</td>\n",
              "      <td>0.150013</td>\n",
              "      <td>0.185247</td>\n",
              "      <td>0.199813</td>\n",
              "      <td>0.015473</td>\n",
              "      <td>0.142560</td>\n",
              "      <td>0.001272</td>\n",
              "      <td>0.024325</td>\n",
              "      <td>0.128484</td>\n",
              "      <td>0.054378</td>\n",
              "      <td>0.466757</td>\n",
              "      <td>0.434563</td>\n",
              "      <td>0.305508</td>\n",
              "      <td>0.329666</td>\n",
              "      <td>1.000000</td>\n",
              "      <td>0.320754</td>\n",
              "      <td>0.493078</td>\n",
              "    </tr>\n",
              "    <tr>\n",
              "      <th>ane</th>\n",
              "      <td>0.063138</td>\n",
              "      <td>0.092495</td>\n",
              "      <td>0.048927</td>\n",
              "      <td>0.265496</td>\n",
              "      <td>0.216826</td>\n",
              "      <td>0.234951</td>\n",
              "      <td>0.322298</td>\n",
              "      <td>0.283934</td>\n",
              "      <td>0.237781</td>\n",
              "      <td>0.155466</td>\n",
              "      <td>0.187599</td>\n",
              "      <td>0.209318</td>\n",
              "      <td>-0.010435</td>\n",
              "      <td>0.101703</td>\n",
              "      <td>-0.041959</td>\n",
              "      <td>-0.025819</td>\n",
              "      <td>0.091050</td>\n",
              "      <td>0.042265</td>\n",
              "      <td>0.418117</td>\n",
              "      <td>0.387997</td>\n",
              "      <td>0.239190</td>\n",
              "      <td>0.311548</td>\n",
              "      <td>0.320754</td>\n",
              "      <td>1.000000</td>\n",
              "      <td>0.440552</td>\n",
              "    </tr>\n",
              "    <tr>\n",
              "      <th>classification</th>\n",
              "      <td>0.070975</td>\n",
              "      <td>0.075037</td>\n",
              "      <td>0.011941</td>\n",
              "      <td>0.443216</td>\n",
              "      <td>0.342726</td>\n",
              "      <td>0.277947</td>\n",
              "      <td>0.413521</td>\n",
              "      <td>0.400856</td>\n",
              "      <td>0.325058</td>\n",
              "      <td>0.285990</td>\n",
              "      <td>0.281242</td>\n",
              "      <td>0.268566</td>\n",
              "      <td>-0.059683</td>\n",
              "      <td>0.062491</td>\n",
              "      <td>-0.115049</td>\n",
              "      <td>-0.020308</td>\n",
              "      <td>0.136789</td>\n",
              "      <td>-0.039490</td>\n",
              "      <td>0.644865</td>\n",
              "      <td>0.593096</td>\n",
              "      <td>0.408562</td>\n",
              "      <td>0.418194</td>\n",
              "      <td>0.493078</td>\n",
              "      <td>0.440552</td>\n",
              "      <td>1.000000</td>\n",
              "    </tr>\n",
              "  </tbody>\n",
              "</table>\n",
              "</div>"
            ],
            "text/plain": [
              "                     age        bp  ...       ane  classification\n",
              "age             1.000000  0.158085  ...  0.063138        0.070975\n",
              "bp              0.158085  1.000000  ...  0.092495        0.075037\n",
              "sg              0.004797  0.036646  ...  0.048927        0.011941\n",
              "al              0.102832  0.128491  ...  0.265496        0.443216\n",
              "su              0.176142  0.167027  ...  0.216826        0.342726\n",
              "rbc             0.069884  0.103174  ...  0.234951        0.277947\n",
              "pc              0.087588  0.114711  ...  0.322298        0.413521\n",
              "pcc             0.100344  0.067625  ...  0.283934        0.400856\n",
              "ba              0.067611  0.071831  ...  0.237781        0.325058\n",
              "bgr             0.203419  0.148313  ...  0.155466        0.285990\n",
              "bu              0.152508  0.157037  ...  0.187599        0.281242\n",
              "sc              0.119382  0.158986  ...  0.209318        0.268566\n",
              "sod            -0.052811 -0.063994  ... -0.010435       -0.059683\n",
              "pot             0.122182  0.118483  ...  0.101703        0.062491\n",
              "hemo           -0.124506 -0.200226  ... -0.041959       -0.115049\n",
              "pcv            -0.129234 -0.179387  ... -0.025819       -0.020308\n",
              "wc              0.119424  0.052043  ...  0.091050        0.136789\n",
              "rc             -0.143131 -0.134177  ...  0.042265       -0.039490\n",
              "htn             0.115600  0.113511  ...  0.418117        0.644865\n",
              "dm              0.118576  0.116241  ...  0.387997        0.593096\n",
              "cad             0.093760  0.078732  ...  0.239190        0.408562\n",
              "appet           0.098564  0.123274  ...  0.311548        0.418194\n",
              "pe              0.084614  0.049905  ...  0.320754        0.493078\n",
              "ane             0.063138  0.092495  ...  1.000000        0.440552\n",
              "classification  0.070975  0.075037  ...  0.440552        1.000000\n",
              "\n",
              "[25 rows x 25 columns]"
            ]
          },
          "metadata": {
            "tags": []
          },
          "execution_count": 106
        }
      ]
    },
    {
      "cell_type": "markdown",
      "metadata": {
        "id": "eJ562-3R8oE1"
      },
      "source": [
        "![corr.JPG](data:image/jpeg;base64,/9j/4AAQSkZJRgABAQEAeAB4AAD/4RDsRXhpZgAATU0AKgAAAAgABAE7AAIAAAALAAAISodpAAQAAAABAAAIVpydAAEAAAAWAAAQzuocAAcAAAgMAAAAPgAAAAAc6gAAAAgAAAAAAAAAAAAAAAAAAAAAAAAAAAAAAAAAAAAAAAAAAAAAAAAAAAAAAAAAAAAAAAAAAAAAAAAAAAAAAAAAAAAAAAAAAAAAAAAAAAAAAAAAAAAAAAAAAAAAAAAAAAAAAAAAAAAAAAAAAAAAAAAAAAAAAAAAAAAAAAAAAAAAAAAAAAAAAAAAAAAAAAAAAAAAAAAAAAAAAAAAAAAAAAAAAAAAAAAAAAAAAAAAAAAAAAAAAAAAAAAAAAAAAAAAAAAAAAAAAAAAAAAAAAAAAAAAAAAAAAAAAAAAAAAAAAAAAAAAAAAAAAAAAAAAAAAAAAAAAAAAAAAAAAAAAAAAAAAAAAAAAAAAAAAAAAAAAAAAAAAAAAAAAAAAAAAAAAAAAAAAAAAAAAAAAAAAAAAAAAAAAAAAAAAAAAAAAAAAAAAAAAAAAAAAAAAAAAAAAAAAAAAAAAAAAAAAAAAAAAAAAAAAAAAAAAAAAAAAAAAAAAAAAAAAAAAAAAAAAAAAAAAAAAAAAAAAAAAAAAAAAAAAAAAAAAAAAAAAAAAAAAAAAAAAAAAAAAAAAAAAAAAAAAAAAAAAAAAAAAAAAAAAAAAAAAAAAAAAAAAAAAAAAAAAAAAAAAAAAAAAAAAAAAAAAAAAAAAAAAAAAAAAAAAAAAAAAAAAAAAAAAAAAAAAAAAAAAAAAAAAAAAAAAAAAAAAAAAAAAAAAAAAAAAAAAAAAAAAAAAAAAAAAAAAAAAAAAAAAAAAAAAAAAAAAAAAAAAAAAAAAAAAAAAAAAAAAAAAAAAAAAAAAAAAAAAAAAAAAAAAAAAAAAAAAAAAAAAAAAAAAAAAAAAAAAAAAAAAAAAAAAAAAAAAAAAAAAAAAAAAAAAAAAAAAAAAAAAAAAAAAAAAAAAAAAAAAAAAAAAAAAAAAAAAAAAAAAAAAAAAAAAAAAAAAAAAAAAAAAAAAAAAAAAAAAAAAAAAAAAAAAAAAAAAAAAAAAAAAAAAAAAAAAAAAAAAAAAAAAAAAAAAAAAAAAAAAAAAAAAAAAAAAAAAAAAAAAAAAAAAAAAAAAAAAAAAAAAAAAAAAAAAAAAAAAAAAAAAAAAAAAAAAAAAAAAAAAAAAAAAAAAAAAAAAAAAAAAAAAAAAAAAAAAAAAAAAAAAAAAAAAAAAAAAAAAAAAAAAAAAAAAAAAAAAAAAAAAAAAAAAAAAAAAAAAAAAAAAAAAAAAAAAAAAAAAAAAAAAAAAAAAAAAAAAAAAAAAAAAAAAAAAAAAAAAAAAAAAAAAAAAAAAAAAAAAAAAAAAAAAAAAAAAAAAAAAAAAAAAAAAAAAAAAAAAAAAAAAAAAAAAAAAAAAAAAAAAAAAAAAAAAAAAAAAAAAAAAAAAAAAAAAAAAAAAAAAAAAAAAAAAAAAAAAAAAAAAAAAAAAAAAAAAAAAAAAAAAAAAAAAAAAAAAAAAAAAAAAAAAAAAAAAAAAAAAAAAAAAAAAAAAAAAAAAAAAAAAAAAAAAAAAAAAAAAAAAAAAAAAAAAAAAAAAAAAAAAAAAAAAAAAAAAAAAAAAAAAAAAAAAAAAAAAAAAAAAAAAAAAAAAAAAAAAAAAAAAAAAAAAAAAAAAAAAAAAAAAAAAAAAAAAAAAAAAAAAAAAAAAAAAAAAAAAAAAAAAAAAAAAAAAAAAAAAAAAAAAAAAAAAAAAAAAAAAAAAAAAAAAAAAAAAAAAAAAAAAAAAAAAAAAAAAAAAAAAAAAAAAAAAAAAAAAAAAAAAAAAAAAAAAAAAAAAAAAAAAAAAAAAAAAAAAAAAAAAAAAAAAAAAAAAAAAAAAAAAAAAAAAAAAAAAAAAAAAAAAAAAAAAAAAAAAAAAAAAAAAAAAAAAAAAAAAAAAAAAAAAAAAAAAAAAAAAAAAAAAAAAAAAAAAAAAAAAAAAAAAAAAAAAAAAAAAAAAAAAAAAAAAAAAAAAAAAAAAAAAAAAAAAAAAAAAAAAAAAAAAAAAAAAAAAAAAAAAAAAAAAAAAAAAAAAAAAAAAAAAAAAAAAAAAAAAAAAAAAAAAAAAAAAAAAAAAAAAAAAAAAAAAAAAAAAAAAAAAAAAAAAAAAAAAAAAAAAAAAAAAAAAAAAAAAAAAAAAAAAAAAAAAAAAAAAAAAAAAAAAAAAAAAAAAAAAAAAAAAAAAAAAAAAAAAAAAAAAAAAAAAAAAAAAAAAAAAAAAAAAAAAAAAAAAAAAAAAAAAAAAAAAAAAAAAAAAAAAAAAAAAAAAAAAAAAAAAAAAAAAAAAAAAAAAAAAAAAAAAAAAAAAAAAAAAAAAAAAAAAAAAAAAAAAAAAAAAAAAAAAAAAAAAAAAAAAAAAAAAAAAAAAAAAAAAAAAAAAAAAAAAAAAAAAAAAAAAAAAAAAAAAAAAAAAAAAAAAAAAAAAAAAAAAAAAAAAAAAAAAAAAAAAAAAAAAAAAAAAAAAAAAAAAAAAAAAAAAAAAAAAAAAAAAAAAAAAAAAAAAAAAAAAAAAAAAAAAAAAAAAAAAAAAAAAAAAAAAAAAAAAAAAAAAAAAAAAAAAAAAAAAAAAAAAAAAAAAAAAAAAAAAAAAAAAAAAAAAAAAAAAAAAAAAAAAAAAAAAAAAAAAAAAAAAAAAAAAAAAAAAAAAAAAAAAAAAAAAAAAAAAAAAAAAAAAAAAAAAAAAAAAAAAAAAAAAAAAAAAAAAAAAAAAAAAAAAAAAAAAAAAAAAAAAAAAAAAAAAAAAAAAAAAAAAAAAAAAAAAAAAAAAAAAAAAAAAAAAAAAAAAAAHByYXZhbGxpa2EAAAAFkAMAAgAAABQAABCkkAQAAgAAABQAABC4kpEAAgAAAAM0OAAAkpIAAgAAAAM0OAAA6hwABwAACAwAAAiYAAAAABzqAAAACAAAAAAAAAAAAAAAAAAAAAAAAAAAAAAAAAAAAAAAAAAAAAAAAAAAAAAAAAAAAAAAAAAAAAAAAAAAAAAAAAAAAAAAAAAAAAAAAAAAAAAAAAAAAAAAAAAAAAAAAAAAAAAAAAAAAAAAAAAAAAAAAAAAAAAAAAAAAAAAAAAAAAAAAAAAAAAAAAAAAAAAAAAAAAAAAAAAAAAAAAAAAAAAAAAAAAAAAAAAAAAAAAAAAAAAAAAAAAAAAAAAAAAAAAAAAAAAAAAAAAAAAAAAAAAAAAAAAAAAAAAAAAAAAAAAAAAAAAAAAAAAAAAAAAAAAAAAAAAAAAAAAAAAAAAAAAAAAAAAAAAAAAAAAAAAAAAAAAAAAAAAAAAAAAAAAAAAAAAAAAAAAAAAAAAAAAAAAAAAAAAAAAAAAAAAAAAAAAAAAAAAAAAAAAAAAAAAAAAAAAAAAAAAAAAAAAAAAAAAAAAAAAAAAAAAAAAAAAAAAAAAAAAAAAAAAAAAAAAAAAAAAAAAAAAAAAAAAAAAAAAAAAAAAAAAAAAAAAAAAAAAAAAAAAAAAAAAAAAAAAAAAAAAAAAAAAAAAAAAAAAAAAAAAAAAAAAAAAAAAAAAAAAAAAAAAAAAAAAAAAAAAAAAAAAAAAAAAAAAAAAAAAAAAAAAAAAAAAAAAAAAAAAAAAAAAAAAAAAAAAAAAAAAAAAAAAAAAAAAAAAAAAAAAAAAAAAAAAAAAAAAAAAAAAAAAAAAAAAAAAAAAAAAAAAAAAAAAAAAAAAAAAAAAAAAAAAAAAAAAAAAAAAAAAAAAAAAAAAAAAAAAAAAAAAAAAAAAAAAAAAAAAAAAAAAAAAAAAAAAAAAAAAAAAAAAAAAAAAAAAAAAAAAAAAAAAAAAAAAAAAAAAAAAAAAAAAAAAAAAAAAAAAAAAAAAAAAAAAAAAAAAAAAAAAAAAAAAAAAAAAAAAAAAAAAAAAAAAAAAAAAAAAAAAAAAAAAAAAAAAAAAAAAAAAAAAAAAAAAAAAAAAAAAAAAAAAAAAAAAAAAAAAAAAAAAAAAAAAAAAAAAAAAAAAAAAAAAAAAAAAAAAAAAAAAAAAAAAAAAAAAAAAAAAAAAAAAAAAAAAAAAAAAAAAAAAAAAAAAAAAAAAAAAAAAAAAAAAAAAAAAAAAAAAAAAAAAAAAAAAAAAAAAAAAAAAAAAAAAAAAAAAAAAAAAAAAAAAAAAAAAAAAAAAAAAAAAAAAAAAAAAAAAAAAAAAAAAAAAAAAAAAAAAAAAAAAAAAAAAAAAAAAAAAAAAAAAAAAAAAAAAAAAAAAAAAAAAAAAAAAAAAAAAAAAAAAAAAAAAAAAAAAAAAAAAAAAAAAAAAAAAAAAAAAAAAAAAAAAAAAAAAAAAAAAAAAAAAAAAAAAAAAAAAAAAAAAAAAAAAAAAAAAAAAAAAAAAAAAAAAAAAAAAAAAAAAAAAAAAAAAAAAAAAAAAAAAAAAAAAAAAAAAAAAAAAAAAAAAAAAAAAAAAAAAAAAAAAAAAAAAAAAAAAAAAAAAAAAAAAAAAAAAAAAAAAAAAAAAAAAAAAAAAAAAAAAAAAAAAAAAAAAAAAAAAAAAAAAAAAAAAAAAAAAAAAAAAAAAAAAAAAAAAAAAAAAAAAAAAAAAAAAAAAAAAAAAAAAAAAAAAAAAAAAAAAAAAAAAAAAAAAAAAAAAAAAAAAAAAAAAAAAAAAAAAAAAAAAAAAAAAAAAAAAAAAAAAAAAAAAAAAAAAAAAAAAAAAAAAAAAAAAAAAAAAAAAAAAAAAAAAAAAAAAAAAAAAAAAAAAAAAAAAAAAAAAAAAAAAAAAAAAAAAAAAAAAAAAAAAAAAAAAAAAAAAAAAAAAAAAAAAAAAAAAAAAAAAAAAAAAAAAAAAAAAAAAAAAAAAAAAAAAAAAAAAAAAAAAAAAAAAAAAAAAAAAAAAAAAAAAAAAAAAAAAAAAAAAAAAAAAAAAAAAAAAAAAAAAAAAAAAAAAAAAAAAAAAAAAAAAAAAAAAAAAAAAAAAAAAAAAAAAAAAAAAAAAAAAAAAAAAAAAAAAAAAAAAAAAAAAAAAAAAAAAAAAAAAAAAAAAAAAAAAAAAAAAAAAAAAAAAAAAAAAAAAAAAAAAAAAAAAAAAAAAAAAAAAAAAAAAAAAAAAAAAAAAAAAAAAAAAAAAAAAAAAAAAAAAAAAAAAAAAAAAAAAAAAAAAAAAAAAAAAAAAAAAAAAAAAAAAAAAAAAAAAAAAAAAAAAAAAAAAAAAAAAAAAAAAAAAAAAAAAAAAAAAAAAAAAAAAAAAAAAAAAAAAAAAAAAAAAAAAAAAAAAAAAAAAAAAAAAAAAAAAAAAAAAAAAAAAAAAAAAAAAAAAAAAAAAAAAAAAAAAAAAAAAAAAAAAAAAAAAAAAAAAAAAAAAAAAAAAAAAAAAAAAAAAAAAAAAAAAAAAAAAAAAAAAAAAAAAAAAAAAAAAAAAAAAAAAAAAAAAAAAAAAAAAAAAAAAAAAAAAAAAAAAAAAAAAAAAAAAAAAAAAAAAAAAAAAAAAAAAAAAAAAAAAAAAAAAAAAAAAAAAAAAAAAAAAAAAAAAAAAAAAAAAAAAAAAAAAAAAAAAAAAAAAAAAAAAAAAAAAAAAAAAAAAAAAAAAAAAAAAAAAAAAAAAAAAAAAAAAAAAAAAAAAAAAAAAAAAAAAAAAAAAAAAAAAAAAAAAAAAAAAAAAAAAAAAAAAAAAAAAAAAAAAAAAAAAAAAAAAAAAAAAAAAAAAAAAAAAAAAAAAAAAMjAyMTowNjoxMiAxMjoxMDo1NQAyMDIxOjA2OjEyIDEyOjEwOjU1AAAAcAByAGEAdgBhAGwAbABpAGsAYQAAAP/hCx1odHRwOi8vbnMuYWRvYmUuY29tL3hhcC8xLjAvADw/eHBhY2tldCBiZWdpbj0n77u/JyBpZD0nVzVNME1wQ2VoaUh6cmVTek5UY3prYzlkJz8+DQo8eDp4bXBtZXRhIHhtbG5zOng9ImFkb2JlOm5zOm1ldGEvIj48cmRmOlJERiB4bWxuczpyZGY9Imh0dHA6Ly93d3cudzMub3JnLzE5OTkvMDIvMjItcmRmLXN5bnRheC1ucyMiPjxyZGY6RGVzY3JpcHRpb24gcmRmOmFib3V0PSJ1dWlkOmZhZjViZGQ1LWJhM2QtMTFkYS1hZDMxLWQzM2Q3NTE4MmYxYiIgeG1sbnM6ZGM9Imh0dHA6Ly9wdXJsLm9yZy9kYy9lbGVtZW50cy8xLjEvIi8+PHJkZjpEZXNjcmlwdGlvbiByZGY6YWJvdXQ9InV1aWQ6ZmFmNWJkZDUtYmEzZC0xMWRhLWFkMzEtZDMzZDc1MTgyZjFiIiB4bWxuczp4bXA9Imh0dHA6Ly9ucy5hZG9iZS5jb20veGFwLzEuMC8iPjx4bXA6Q3JlYXRlRGF0ZT4yMDIxLTA2LTEyVDEyOjEwOjU1LjQ3OTwveG1wOkNyZWF0ZURhdGU+PC9yZGY6RGVzY3JpcHRpb24+PHJkZjpEZXNjcmlwdGlvbiByZGY6YWJvdXQ9InV1aWQ6ZmFmNWJkZDUtYmEzZC0xMWRhLWFkMzEtZDMzZDc1MTgyZjFiIiB4bWxuczpkYz0iaHR0cDovL3B1cmwub3JnL2RjL2VsZW1lbnRzLzEuMS8iPjxkYzpjcmVhdG9yPjxyZGY6U2VxIHhtbG5zOnJkZj0iaHR0cDovL3d3dy53My5vcmcvMTk5OS8wMi8yMi1yZGYtc3ludGF4LW5zIyI+PHJkZjpsaT5wcmF2YWxsaWthPC9yZGY6bGk+PC9yZGY6U2VxPg0KCQkJPC9kYzpjcmVhdG9yPjwvcmRmOkRlc2NyaXB0aW9uPjwvcmRmOlJERj48L3g6eG1wbWV0YT4NCiAgICAgICAgICAgICAgICAgICAgICAgICAgICAgICAgICAgICAgICAgICAgICAgICAgICAgICAgICAgICAgICAgICAgICAgICAgICAgICAgICAgICAgICAgICAgICAgICAgICAKICAgICAgICAgICAgICAgICAgICAgICAgICAgICAgICAgICAgICAgICAgICAgICAgICAgICAgICAgICAgICAgICAgICAgICAgICAgICAgICAgICAgICAgICAgICAgICAgICAgIAogICAgICAgICAgICAgICAgICAgICAgICAgICAgICAgICAgICAgICAgICAgICAgICAgICAgICAgICAgICAgICAgICAgICAgICAgICAgICAgICAgICAgICAgICAgICAgICAgICAgCiAgICAgICAgICAgICAgICAgICAgICAgICAgICAgICAgICAgICAgICAgICAgICAgICAgICAgICAgICAgICAgICAgICAgICAgICAgICAgICAgICAgICAgICAgICAgICAgICAgICAKICAgICAgICAgICAgICAgICAgICAgICAgICAgICAgICAgICAgICAgICAgICAgICAgICAgICAgICAgICAgICAgICAgICAgICAgICAgICAgICAgICAgICAgICAgICAgICAgICAgIAogICAgICAgICAgICAgICAgICAgICAgICAgICAgICAgICAgICAgICAgICAgICAgICAgICAgICAgICAgICAgICAgICAgICAgICAgICAgICAgICAgICAgICAgICAgICAgICAgICAgCiAgICAgICAgICAgICAgICAgICAgICAgICAgICAgICAgICAgICAgICAgICAgICAgICAgICAgICAgICAgICAgICAgICAgICAgICAgICAgICAgICAgICAgICAgICAgICAgICAgICAKICAgICAgICAgICAgICAgICAgICAgICAgICAgICAgICAgICAgICAgICAgICAgICAgICAgICAgICAgICAgICAgICAgICAgICAgICAgICAgICAgICAgICAgICAgICAgICAgICAgIAogICAgICAgICAgICAgICAgICAgICAgICAgICAgICAgICAgICAgICAgICAgICAgICAgICAgICAgICAgICAgICAgICAgICAgICAgICAgICAgICAgICAgICAgICAgICAgICAgICAgCiAgICAgICAgICAgICAgICAgICAgICAgICAgICAgICAgICAgICAgICAgICAgICAgICAgICAgICAgICAgICAgICAgICAgICAgICAgICAgICAgICAgICAgICAgICAgICAgICAgICAKICAgICAgICAgICAgICAgICAgICAgICAgICAgICAgICAgICAgICAgICAgICAgICAgICAgICAgICAgICAgICAgICAgICAgICAgICAgICAgICAgICAgICAgICAgICAgICAgICAgIAogICAgICAgICAgICAgICAgICAgICAgICAgICAgICAgICAgICAgICAgICAgICAgICAgICAgICAgICAgICAgICAgICAgICAgICAgICAgICAgICAgICAgICAgICAgICAgICAgICAgCiAgICAgICAgICAgICAgICAgICAgICAgICAgICAgICAgICAgICAgICAgICAgICAgICAgICAgICAgICAgICAgICAgICAgICAgICAgICAgICAgICAgICAgICAgICAgICAgICAgICAKICAgICAgICAgICAgICAgICAgICAgICAgICAgICAgICAgICAgICAgICAgICAgICAgICAgICAgICAgICAgICAgICAgICAgICAgICAgICAgICAgICAgICAgICAgICAgICAgICAgIAogICAgICAgICAgICAgICAgICAgICAgICAgICAgICAgICAgICAgICAgICAgICAgICAgICAgICAgICAgICAgICAgICAgICAgICAgICAgICAgICAgICAgICAgICAgICAgICAgICAgCiAgICAgICAgICAgICAgICAgICAgICAgICAgICAgICAgICAgICAgICAgICAgICAgICAgICAgICAgICAgICAgICAgICAgICAgICAgICAgICAgICAgICAgICAgICAgICAgICAgICAKICAgICAgICAgICAgICAgICAgICAgICAgICAgICAgICAgICAgICAgICAgICAgICAgICAgICAgICAgICAgICAgICAgICAgICAgICAgICAgICAgICAgICAgICAgICAgICAgICAgIAogICAgICAgICAgICAgICAgICAgICAgICAgICAgICAgICAgICAgICAgICAgICAgICAgICAgICAgICAgICAgICAgICAgICAgICAgICAgICAgICAgICAgICAgICAgICAgICAgICAgCiAgICAgICAgICAgICAgICAgICAgICAgICAgICAgICAgICAgICAgICAgICAgICAgICAgICAgICAgICAgICAgICAgICAgICAgICAgICAgICAgICAgICAgICAgICAgICAgICAgICAKICAgICAgICAgICAgICAgICAgICAgICAgICAgICAgICAgICAgICAgICAgICAgICAgICAgICAgICAgICAgICAgICAgICAgICAgICAgICAgICAgICAgICAgICAgICAgICAgICAgIAogICAgICAgICAgICAgICAgICAgICAgICAgICAgPD94cGFja2V0IGVuZD0ndyc/Pv/bAEMABwUFBgUEBwYFBggHBwgKEQsKCQkKFQ8QDBEYFRoZGBUYFxseJyEbHSUdFxgiLiIlKCkrLCsaIC8zLyoyJyorKv/bAEMBBwgICgkKFAsLFCocGBwqKioqKioqKioqKioqKioqKioqKioqKioqKioqKioqKioqKioqKioqKioqKioqKioqKv/AABEIAKACdAMBIgACEQEDEQH/xAAfAAABBQEBAQEBAQAAAAAAAAAAAQIDBAUGBwgJCgv/xAC1EAACAQMDAgQDBQUEBAAAAX0BAgMABBEFEiExQQYTUWEHInEUMoGRoQgjQrHBFVLR8CQzYnKCCQoWFxgZGiUmJygpKjQ1Njc4OTpDREVGR0hJSlNUVVZXWFlaY2RlZmdoaWpzdHV2d3h5eoOEhYaHiImKkpOUlZaXmJmaoqOkpaanqKmqsrO0tba3uLm6wsPExcbHyMnK0tPU1dbX2Nna4eLj5OXm5+jp6vHy8/T19vf4+fr/xAAfAQADAQEBAQEBAQEBAAAAAAAAAQIDBAUGBwgJCgv/xAC1EQACAQIEBAMEBwUEBAABAncAAQIDEQQFITEGEkFRB2FxEyIygQgUQpGhscEJIzNS8BVictEKFiQ04SXxFxgZGiYnKCkqNTY3ODk6Q0RFRkdISUpTVFVWV1hZWmNkZWZnaGlqc3R1dnd4eXqCg4SFhoeIiYqSk5SVlpeYmZqio6Slpqeoqaqys7S1tre4ubrCw8TFxsfIycrS09TV1tfY2dri4+Tl5ufo6ery8/T19vf4+fr/2gAMAwEAAhEDEQA/APpGiiigAooooAKKKKACiiigAooooAKKKKACiiigAooooAKKKKACiiigAooooAKKKKACiiigAooooAKKKKACiiigAooooAKKKKACiiigAooooAKKKKACiiigAooooAKKKKACiiigAooooAKKKKACiiigAooooAKKKKACiiigAooooAKKKKACiiigAooooAKKKKACiiigAooooAKKKKACiiigAooooAKKKKACiiigAooooAKKKKACiiigAooooAKKKKACiiigAooooAKKKKACiiigAooooApavrOnaDpsmoa1ew2NnGQHnncKqknA59ya5j/hcPw9/wCht03/AL+f/WrofEWgaf4o8P3ej6vCJrS6jKOO6+jD0IPINfKvh/b8F/izL4f8bWFtf6HcMFE91bLIBGT8kyZBx/tAe/pQB9EH4xfD0DP/AAlmnf8Afw/4Uf8AC4vh7/0Num/9/D/hWzF4U8KzwpNDoGjyRyKGR1soiGB5BB20k/gbwncoUn8MaPIp7NYRf/E0AY//AAuL4e/9Dbpv/fw/4V19neW+oWMF5ZSrNb3EayxSIeHVhkEfga8o8b/s6+EvEWnu3h+3TQtRUExvAP3TH0dPT6YxV34Earef8Ifc+FdbTytV8NXBs5oyf4OSh9xjIB9AKAPUKRmCKWYhVAySTwBS15L8XNc1DW/EGk/DXw3O0F5rB8y/uUPMFsOW/EgE/h70Aem6TrOm67aNdaPew3sCSNE0kL7lDqcEZ9qu1Q0TRrHw9olrpWlQiG0tYxHGoHYdz6k9Sav0AFFFFABRRRQAUUUUAFFFFABRRSOSsbFRkgZA9aAForydvit43DED4S6wwB6i46/+OVY074neMrzU7W2ufhbq1pDNMqSXDz5WJSQCxGzkAc0Aeg6nrmmaK1sNWvoLP7XKIYPOcL5jnooz3q/WN4s8Maf4x8M3ei6tGGguEwr4+aJx9119CDzXE/Bvxff6hDqvhHxJMJNb8OTm3eToZ4gdqv8Ap19xQB6fRRVTVtUtdF0e71O/fy7a0iaaRvZRn86AGX+t6Zpd1Z22o30FtPfSiG2jkcBpXP8ACo71eryH4R2F1401W8+JniQM8t5I8OkW0nK2kCtglfckYz7H1r16gAooooAKKKKACiiigAooooAKKKKACivKH+KfjlXYL8J9VYA4DC5HPv8AcqS0+J/jae9ghn+FeqW8Ukiq8zXAIjUnBYgJzjrQB6JqGu6XpV7ZWmpX8FrcX7mO1jlfaZWAyQPer9c7458H2fjfwrc6TeExSkeZa3K8PbzDlXU9sH9K5v4N+NbrxP4du9L1zjXNCnNneAjBfaSA5HqcEH6UAejUUUUAFFFFABRRRQAUUUUAFFFFABRRRQAUUUUAFFFFABRRRQAUUUUAFFFFABRRRQAUUUUAFFFFABRRRQAUUUUAFFFFABRRRQAUUUUAFee/GH4aQfEXwi8cCqur2QMllL0ye8ZPo36HBr0KigD59/Z5+JE6PJ4A8Uu8V9aMy2PnDDYH3oT7jt7cV9BV86/F3wLDr/xk0lfAc5g8SykT6i0PCWygjbO5HRvbqcCvoa2jkitYo55fOlRAry7du9gOWx2z1oAkqKO0t4rmS4it4knlAEkqoAz46ZPU1LRQAV4X8MpT4j/aO8c63KN4sE+xwludg37ePwjP517pXg37PqmD4gfEa3l/1y6gCx9R5s1AHu000dvBJNO6xxRqXd2OAoAySa8ru/iB411nTb/xF4L0bTj4csVkeObUJmWW+WPO94wvRflOM9fxFel6ta2V9o15aart+xTwvHPufYNhGD83GOO9eefEvXNI8N/APUv+EZnt/sa240+0Nu4dVJITAOeoGaAOUuf2gNW1PwlL4h0DSLOysLFY0vJtRkdt9wx4hiCDLHHOSOMjNereAPFo8ceCNP18Wr2jXSHfC2cKwODgnqMjg1w3wn8FaNF+z/Y2niyyils7wNqV0t3wgB+ZXz2AQKc/WvQrLU/Dei+DYNQsbmzs9AigDwzIQsSx9iP85oA28jJGeR1orivA+k6HLrmueK9C1241Y6vMFkEkuUt9n/LMLgEYz0PI6V2tABRVDW7S/vtGuLbSNQ/s28kXEd15Il8s567TweK4n/hDPiH/ANFKP/gpi/xoA9Forzr/AIQz4h/9FKP/AIKYv8as6f4S8dW2pW0198QDd20cqtLb/wBmRp5qg8ruB4yKAO8rO1/XbHw1oN3q+rS+VaWsZd26k+gA7kngCtGsTxbp2galogXxYYRp1vMlw3ny+XHuQ5XdyMjPY8UAeba98SviDoPh4eL7/wANabbaBvQ/Y5Lkm7EbkBWb+EHkfL71ka78f9a07T7LxHBpFlDoN9M0dnBdM4urpF+/INoKqAeBnrUv7TviCM/D/SdK0+ZZv7Wu1kBjYEPGgyMY6gsy/lXd3PhbwXpPgDQofGEOmyWWjQQxw3Fwf3YkwBuU99zc++aAOy029TUtKtL6NGjS6hSZUcYZQyggH35rxDUn/wCEZ/bEsHg/dx6/p4EwHRm2svP4wr+Ne7oFWNRGAEAAUL0ArwX4l/vv2qPAcUP+sSCNmx/d82U/yBoA97ryn9o/VX074PXcMTbWvriKA4P8Odx/9Br1avEf2p4nf4a2Dp92PUk3fQo4/nigD07wFpiaN8O9AsI02CHT4Qw/2igLH8yTWD4x8catba8fDvgq3sbrU4Lc3d/PfSEQ2UOOC23nceoHpXZ6S6S6LYvF9xreMrj0KjFeW/G5rHwT8PPEeraRAYNU8RvFaXE6ucsMYPXoNgYcetAHQfCH4jt8SvCMmo3NotpeW0xguEjzsJxkFSfY9O1V/DHxTfxP8W9b8JWmmr9i0qNs3olyzOrBTlfTJI/Cq/ww06L4f/Aa3u7hQkgsn1KfJ6sy7wM/TaK4/wDZc0uSfTvEXii7XM2o3YiVz325dv1cflQB77RXM2/i64uPiNdeGBod6tvb2qznUyP3JJx8nTrz2J6GumoAKKr6hDc3Gm3ENjc/ZbmSNlinKb/LYjhtvfHpXBf8IZ8Q/wDopR/8FMX+NAHotFedf8IZ8Q/+ilH/AMFMX+NOTwb8QQ6lviQWUHlf7JjGfbrQB6HWN4s8UWHg7w1da1qrN5MAwsaDLyueFRR3JPFbI4Aycn1rM1zw5pXiSK0j1q1F0lncpdQqzEBZE+6Tg89eh4oA8v0/4teJrD4m6N4Y8YaLZW41yJZoEtJGaW1DswQSZ4J+U5x0rpPi38TD8NNCsrq3sFv7y9uPJigeQqMAZJyB9B+Nea/DVG+If7RviHxdcrutdHJitsgYB5jT/wAdVj+NHxXLeM/2jvCvhQZe1svLlnQHjk+Y+f8AgCgfjQB9B2csk9jBNNH5Ukkas8ec7SRkjPtXhuiuPDn7YGsWNuuy31qz81l7FzGrk/iyt+de8V4Hrp879szRRbg5hsB5uO/7uQ/yYflQB75RRRQAUUUUAFFFFABRRRQAUUUUAFFFFABRRRQAUUUUAFFFFABRRRQAUUjMEUsxCqBkkngCud0r4heEtc1K4sNK8QWNzdW4YyxrJjAXqQTwQPUZoA6Oiud0n4geE9e1l9J0fX7K8vkBJgikyTjrjsce1dFQAUUUUAFFFFABRRRQAUUUUAFFFFABRRRQAUUUUAFcZ8Q/HJ8K2ltp2jwfb/Eeqt5OnWS9S3/PRvRF6k1ueKte/wCEZ8M3mrLY3OoPbpmO1tYjJJKxICqABnqRk9hk189eF/iBrmleKNQ8UeIPh54h1bXb35EnFs6JaQ9oo1KHA9T1NAHt3w98E/8ACIaPLJqE/wBu1zUJDcalfHkyyHsD/dHQCuurxU/H/WQCT8LfEQA6ko//AMbqKX4/+Itp8j4Va8W7bxIB+kVAHt9ct4T8dWfjDWdctdKt2a00i4W2+27wUuJMZYLjsPX3FfPvjT4qfFjxXp0mn2PhPUtFtJlZJfstjM0jqexcrxx6Ada9u+CvhRvCPwq0q0uImivLlTd3KsCGDycgEHoQu0fhQB3teH+GLc+EP2qNesJlKW/iOzN1bN2ZwQ5H6SV7hXAfFLwReeI7TT9b8NuIfEehzfaLJ+P3g/ijPscUAbvj/wANzeL/AAFq2hWtx9nmvINkch6BgQQD7HGDXiVn8DfF+reBIvC2oPaaJY2TyXSbbn7Q95ckYBbAAVAM8cnmvdfCWvzeJPDsN/d6dc6ZdZMdxa3MRRo5F4bGeq+hHBraoA8ds/CXxD1rwvZeDNch0zRdDhhWC9u7O4Ms12inlUH8G7vn36dK63xxpek6T4Ptr69Yx6V4aX7YtljKTtGhESt9Gwfc4rtayPFXhuy8X+GL3QtTMi214mx2jOGXnII9wQKAPPvgHDHZeDzJf3CjWdelk1iW2L5YRu+1Wx6HH616xXNeEvBNp4Vae4F3PqF9PFHC91cBQRFGMJGqqAFUenqSa6WgAooooAKKKKACvPPjR4C1D4g+DIrDSZgtxbXKz+S0mxZwAQV3YIB54JHWvQ6KAPnvUPgx4x13R9JvLp9PsbzQEhj0vSvNMsYRDuYSSYwWYgZOMcV2qeF/GXjrWdNuPiFDp+l6Rpsy3K6VZSmY3My/daRum0HnAr0+igArwfTEbxl+1tf6jAnmWPhu1+ztIRwJApGB773f8jXqHxB8Ral4f8MsfD2m3GoaveOLayjihLqkjfxuQMKq9eevAqp8MfAa+A/DDW9zMLrVb2U3OoXeOZZW5Iz3AycfU+tAHZ1598cPDsniT4Satb28ZkntlF3Go6kpyf0zXoNIyq6FHAZWGCD3FAHI/CjW08QfCnw9fIQWFmkEmDnDxjY36rn8aw/jTpGi+L/DcHhe81+z0zVridZbCOeUAyuMgAr1wckZ9aq+F9J1P4YeOrjRbezubzwnrdwZbSWJDIbCduqvjoh9e2OfeD4i/CvVNZ+JGm+NtCW0vrqxSMfYLyVokZo23IwYA9Cc49cUAcH8U9Z+Inh74UW2heIINK02zKx2AltJzJLfBVxgL/ANq5P5d69D8HQX/wAOvgRo1vYac9zrF0UVIAhI8+d+C+OiqG5J7LTIvhbrXjDxjb+JPihe2s8dkc2Wi2OTBD0PzM2Cx454546AAV6P4glvbbwzqMujxeZfR2sjW0YHWQKdo/PFAHF/DLxlq/iLXvFGlarcQ6hHot0sEd/BB5SyNg71xk9GBA9sV6LXjHwKTUrPSLHT7a2mjgCT3WtXF3atG0l27ALGhOMlQDuPTt9PZ6ACiiigAooooAKhvLy206ylu7+eO3toVLySysFVAO5Jqaua+IfhR/G3gTUdAhuRay3SLslYEhSGB5xzjjFAHlHg/wAPeJvBeoa5rPw2l0TxLoGtSmUTzXnl/ZipY5Y9wNxz+FYvwEttR8W/GLxB4x1mZbx7ZXjW5RdsbSOcDaOw2A4Hoa6PSvhr8QrXwSngaxm0nQtHZ2+2ahBM81xcq338AgBc9OvTAz1z6n4K8GaV4E8Nw6NoqMI1O6SV+Wlc9WP5dKAOgrwzwDH/AMJd+0p4s8UxLustMU2EEoOVZwBGcH6Kx+hr0H4la9rel6BHp/hLTbi91rVWNtbSRxsY7bpulkcDC4ByM9T9DVn4d+CbfwH4Pt9Jibzrgky3Vwessrcsfp6UAdTRRRQAUUUUAFFFFABRRRQAUUUUAFFFFABRRRQAUUUUAFFFFABRRRQBzPxE0jWNe8C6hpXhyWOG9vAsPmPJs2xlhvOcHnbmvANc8Jaf4l/aN0rwZpwMOmaNYRW1wbfCM6Im9wSO534P1NfUjuI42duijJr56/Z9t5PEfxM8Z+NZgCkszwxNnvJJvP5Kq/nQB1kfwh1GP402nieLUYLfQLABrXT4QV8siMrt2/dHLMSepyfWvWqKKAOe8X+Gr7xNYW9vp3iPUNAeKXe01gQGkGCNpz25zXJf8Kn8Q/8ARUvE/wD38Wux8V+G5/E1jBb2+vanopil8wy6dIqNJwRtJIPHOa5b/hVGof8ARR/F3/gVH/8AEUAV/wDhU/iH/oqXif8A77WpbX4W69b3kMz/ABO8TSrHIrmNnTDgHODkEc/Sn/8ACqNQ/wCij+Lv/AqP/wCIqS3+Ft/BdRTH4h+LJBG4Yo91HhsHOD8nSgD0KiiigDz7xP8AGLSPCviO60a80LxDdzW2zdNZWIkibcgYbW3jPDYPHUGsn/hoPQf+hY8Wf+Cxf/i69XooA8o/4aD0H/oWPFn/AILF/wDi6P8AhoPQf+hY8Wf+Cxf/AIuvV6KAPKP+Gg9B/wChY8Wf+Cxf/i6P+Gg9B/6FjxZ/4LF/+Lr1eql9q2naZs/tK/tbPzM7PtEyx7sdcZPNAHmf/DQeg/8AQseLP/BYv/xdH/DQeg/9Cx4s/wDBYv8A8XXoP/CV+Hf+g9pf/gZH/jR/wlfh3/oPaX/4GR/40Aeff8NB6D/0LHiz/wAFi/8AxdH/AA0HoP8A0LHiz/wWL/8AF16D/wAJX4d/6D2l/wDgZH/jR/wlfh3/AKD2l/8AgZH/AI0Aeff8NB6D/wBCx4s/8Fi//F0f8NB6D/0LHiz/AMFi/wDxdeg/8JX4d/6D2l/+Bkf+NH/CV+Hf+g9pf/gZH/jQB59/w0HoP/QseLP/AAWL/wDF0f8ADQeg/wDQseLP/BYv/wAXXoP/AAlfh3/oPaX/AOBkf+NH/CV+Hf8AoPaX/wCBkf8AjQB59/w0HoP/AELHiz/wWL/8XR/w0HoP/QseLP8AwWL/APF16D/wlfh3/oPaX/4GR/40f8JX4d/6D2l/+Bkf+NAHn3/DQeg/9Cx4s/8ABYv/AMXR/wANB6D/ANCx4s/8Fi//ABdeg/8ACV+Hf+g9pf8A4GR/40f8JX4d/wCg9pf/AIGR/wCNAHn3/DQeg/8AQseLP/BYv/xdH/DQeg/9Cx4s/wDBYv8A8XXoP/CV+Hf+g9pf/gZH/jR/wlfh3/oPaX/4GR/40Aeff8NB6D/0LHiz/wAFi/8AxdH/AA0HoP8A0LHiz/wWL/8AF16D/wAJX4d/6D2l/wDgZH/jR/wlfh3/AKD2l/8AgZH/AI0Aeff8NB6D/wBCx4s/8Fi//F0f8NB6D/0LHiz/AMFi/wDxdeg/8JX4d/6D2l/+Bkf+NH/CV+Hf+g9pf/gZH/jQB59/w0HoP/QseLP/AAWL/wDF0f8ADQeg/wDQseLP/BYv/wAXXoP/AAlfh3/oPaX/AOBkf+NH/CV+Hf8AoPaX/wCBkf8AjQB59/w0HoP/AELHiz/wWL/8XR/w0HoP/QseLP8AwWL/APF16D/wlfh3/oPaX/4GR/40f8JX4d/6D2l/+Bkf+NAHn3/DQeg/9Cx4s/8ABYv/AMXR/wANB6D/ANCx4s/8Fi//ABdeg/8ACV+Hf+g9pf8A4GR/40f8JX4d/wCg9pf/AIGR/wCNAHn3/DQeg/8AQseLP/BYv/xdH/DQeg/9Cx4s/wDBYv8A8XXoP/CV+Hf+g9pf/gZH/jR/wlfh3/oPaX/4GR/40Aeff8NB6D/0LHiz/wAFi/8AxdH/AA0HoP8A0LHiz/wWL/8AF16D/wAJX4d/6D2l/wDgZH/jR/wlfh3/AKD2l/8AgZH/AI0Aeff8NB6D/wBCx4s/8Fi//F0f8NB6D/0LHiz/AMFi/wDxdeg/8JX4d/6D2l/+Bkf+NH/CV+Hf+g9pf/gZH/jQB59/w0HoP/QseLP/AAWL/wDF0f8ADQeg/wDQseLP/BYv/wAXXoP/AAlfh3/oPaX/AOBkf+NH/CV+Hf8AoPaX/wCBkf8AjQB59/w0HoP/AELHiz/wWL/8XR/w0HoP/QseLP8AwWL/APF16D/wlfh3/oPaX/4GR/40f8JX4d/6D2l/+Bkf+NAHn3/DQeg/9Cx4s/8ABYv/AMXR/wANB6D/ANCx4s/8Fi//ABdeg/8ACV+Hf+g9pf8A4GR/40f8JX4d/wCg9pf/AIGR/wCNAHn3/DQeg/8AQseLP/BYv/xdH/DQeg/9Cx4s/wDBYv8A8XXoP/CV+Hf+g9pf/gZH/jR/wlfh3/oPaX/4GR/40Aeff8NB6D/0LHiz/wAFi/8AxdH/AA0HoP8A0LHiz/wWL/8AF16D/wAJX4d/6D2l/wDgZH/jR/wlfh3/AKD2l/8AgZH/AI0Aeff8NB6D/wBCx4s/8Fi//F0f8NB6D/0LHiz/AMFi/wDxdeg/8JX4d/6D2l/+Bkf+NH/CV+Hf+g9pf/gZH/jQB59/w0HoP/QseLP/AAWL/wDF0f8ADQeg/wDQseLP/BYv/wAXXoP/AAlfh3/oPaX/AOBkf+NH/CV+Hf8AoPaX/wCBkf8AjQB59/w0HoP/AELHiz/wWL/8XR/w0HoP/QseLP8AwWL/APF16D/wlfh3/oPaX/4GR/40f8JX4d/6D2l/+Bkf+NAHn3/DQeg/9Cx4s/8ABYv/AMXR/wANB6D/ANCx4s/8Fi//ABdeg/8ACV+Hf+g9pf8A4GR/40f8JX4d/wCg9pf/AIGR/wCNAHn3/DQeg/8AQseLP/BYv/xdH/DQeg/9Cx4s/wDBYv8A8XXoP/CV+Hf+g9pf/gZH/jR/wlfh3/oPaX/4GR/40Aeff8NB6D/0LHiz/wAFi/8AxdH/AA0HoP8A0LHiz/wWL/8AF16D/wAJX4d/6D2l/wDgZH/jR/wlfh3/AKD2l/8AgZH/AI0AZngnx9YeO4rx9P03VLD7IyB11G3EJbdnBUBjkfKa6mo4LiG6t0ntZY5oZBlJI2DKw9QR1qSgAooooAKKKKACiiigAooooAKKKKAAjIweRVPTdJ07R7doNJsbeyiZy7JbxBAWPUkDvVyigAooooAKKKKACiiigAooooAKKKKACiiigAryG78O6R8UfjNrMfiCzS/0nw5Zx2ccZkZR9okO9z8pHQDFep6tqMOkaPeajdHENpA8zn2UE/0rjPg1ps1v4BXVr5SL7XriTU7gsMN+8Pyj8FC0AM/4UT8Nv+hWg/8AAib/AOLo/wCFE/Db/oVoP/Aib/4uvQaKAPPv+FE/Db/oVoP/AAIm/wDi6P8AhRPw2/6FaD/wIm/+Lr0GigDz7/hRPw2/6FaD/wACJv8A4uj/AIUT8Nv+hWg/8CJv/i69BooA8+/4UT8Nv+hWg/8AAib/AOLo/wCFE/Db/oVoP/Aib/4uvQaKAPPv+FE/Db/oVoP/AAIm/wDi6P8AhRPw2/6FaD/wIm/+Lr0GigDz7/hRPw2/6FaD/wACJv8A4uj/AIUT8Nv+hWg/8CJv/i69BooA8+/4UT8Nv+hWg/8AAib/AOLo/wCFE/Db/oVoP/Aib/4uvQaKAPPv+FE/Db/oVoP/AAIm/wDi6P8AhRPw2/6FaD/wIm/+Lr0GigDz7/hRPw2/6FaD/wACJv8A4uj/AIUT8Nv+hWg/8CJv/i69BooA8+/4UT8Nv+hWg/8AAib/AOLo/wCFE/Db/oVoP/Aib/4uvQaKAPPv+FE/Db/oVoP/AAIm/wDi6P8AhRPw2/6FaD/wIm/+Lr0GigDz7/hRPw2/6FaD/wACJv8A4uj/AIUT8Nv+hWg/8CJv/i69BrK8SeI7Dwto7ajqbPs3rHHFEpaSaRjhUVR1JP8AieKAOT/4UT8Nv+hWg/8AAib/AOLo/wCFE/Db/oVoP/Aib/4uoJvi6dE1jT7Txv4avfDltqJ2297PMksW44+Vimdp55z0+lekAggEcg9DQB59/wAKJ+G3/QrQf+BE3/xdH/Cifht/0K0H/gRN/wDF16DRQB59/wAKJ+G3/QrQf+BE3/xdH/Cifht/0K0H/gRN/wDF16DRQB59/wAKJ+G3/QrQf+BE3/xdH/Cifht/0K0H/gRN/wDF16DRQB59/wAKJ+G3/QrQf+BE3/xdH/Cifht/0K0H/gRN/wDF16DRQB59/wAKJ+G3/QrQf+BE3/xdH/Cifht/0K0H/gRN/wDF16DRQB59/wAKJ+G3/QrQf+BE3/xdH/Cifht/0K0H/gRN/wDF16DRQB59/wAKJ+G3/QrQf+BE3/xdH/Cifht/0K0H/gRN/wDF16DRQB59/wAKJ+G3/QrQf+BE3/xdH/Cifht/0K0H/gRN/wDF16DRQB59/wAKJ+G3/QrQf+BE3/xdH/Cifht/0K0H/gRN/wDF16DRQB59/wAKJ+G3/QrQf+BE3/xdH/Cifht/0K0H/gRN/wDF16DRQB59/wAKJ+G3/QrQf+BE3/xdH/Cifht/0K0H/gRN/wDF16DRQB59/wAKJ+G3/QrQf+BE3/xdH/Cifht/0K0H/gRN/wDF16DRQB59/wAKJ+G3/QrQf+BE3/xdH/Cifht/0K0H/gRN/wDF0l/8U5mW/uvC/he+8QaZpzMlxfW0qIhZc7xGrHMm3HJAxXReC/G2jePNAXVtAmLxbikkbja8Tj+Fh/nNAGtpemWejaVbabpkIgtLWMRQxAkhFHAGTk1aoooAKKKKACiiigAooooAKKKKACiiigAooooAKKKKACiiigAooooAKKKKACiiigAooooA85+NN1JceFbHwxZsBdeJL+KwUc8R7t0h49FH612l7Kvh7wzLJY2Ul0un2p8m0g+9IEXhF9+MVwxz4n/aFA+ZrPwpp2eny/aZ/wCoSvS6APFdE/aMi8Sai2n6H4L1a8vEBZoI5o94A68E9q6H/hZ3iX/ol3iH/vuP/GvK/jX4Jv8A4d+M7X4ieDA1vC84e4EfSGY+o/uOMgjp19a948AeNrHx94RtdasCEZxsuIM8wyD7yn+ntQByz/FfxFGDv+FviXgc4VTXO6p+0rb6JN5Ws+CNcsJM423IEZP5ivcKo6xommeIdNk0/W7GC+tJB80U6Bh9R6H3HNAGR4A8b2PxB8Jw65p0TwI8jxvBIwLRsp6HHtg/jXS15d8OPBd78OfHmuaJY29xJ4Zv41vbOdjuWGTO1oifXH5gCvUaAIrm5hs7WS4upVihiUu7ucBQOprA8G+M7fxta3d9ptjdQ6dFOYra7nAVbsDq6Drtzxk9a4L41arca5r/AIe+G2mTNE2uTrJfunVbdTyOPXaxP+6K9Y03TrXSNMttP0+FYLW2jEUUajhVAwKALNFFFABRRRQAUUUUAFFFFABRRRQAUUV5lq3hj4r3Gs3k2keONPtbGSd2t4JLFXaKMk7VJ284GBQB6bWX4l1iTw/4du9Vh0+bUTap5jW8BAdlH3iM+gyce1ed/wDCJfGX/ooOl/8AguX/AOJr1S3WRbWJZ2DyBAHYdCccmgCloGvad4m0O21fRrhbizuU3RuOD9COxHQisb4g+ANO+Iugw6Xqtzc2yQ3CzpJbMAwIBGOeCCD/ACNcB4euF+HP7QF94UTMOi+I4he2MWfkim53Ko7ZKtx9K7z4k+Mp/BHhGTULHTrjUr2VxDbQQxM/zkE7mx0UAE/p3oA84+PVuuu2fhn4c6BG15qslzHKFyXaCFEKb3Pb73U+hr26zg+y2MEBYsYo1Tce+BjNfNemfE2fRtD1R9M8I+IZfFmqI3m63d2nPmH7vHO2NeMIOOOc9a+lLNZUsYFuHMkqxqHc/wATY5P50AQazqDaTol7qEdrLePawtKLeH78pAztHua8k0L9olfE949poHgrVr65jUs0MU0W8AdTgnPevaK+YPjL4J1D4Z+Nbb4g+CQba1kn3zpH92GUnkEf3H549c0Aerf8LO8Sj/ml3iH/AL7j/wAaib4r+IkHz/C3xNx1wqmup8A+NbHx94Qtda08hWkG24gzzDKPvKf6eoIrpaAPD9T/AGlrfRZvK1jwRrlhJnG25AjJ/MV6Z4B8a2Xj/wAIwa7p0TwJK7xvDIwLRsrYwce2D+Naus6HpfiHTZLDW7CC+tZBho50DD6j0PuOa88+GvhDUvh34417QLa3nl8MXii9sLljuWJ+jRE+uPzAFAHqVRXV1BZWstzdyrDBCpeSRzgKB1JqWvHfjTqlxr3iDw98NtNmaNtbnWS/dOq26nJH/jrH8KAO/wDBvjGDxrZXV/p1lcw6fHOYra6nAAuwOroOu3PHPWujqtpunWuk6Zb6fp8KwWttGIoo1HCqBgVZoAKKKKACiiigAooooAKKKKACiiuf8Z6b4k1TRo4fB+sw6PfLOGe4mhEimPByu0g9yD+FAHQUV5P/AMIh8Y/+iiad/wCC1f8ACuo8E6L410q5u28aeJLbWo5EUQLBbCLyjk5JwOc8flQBZ0jxzZaj4x1LwxeW8un6rZHfHDOQftMJ6SoR1HqOorpmUOpVuQRg15R8etIntvDtl430XMWr+HLhJRLGcM8DMA6H1GSD9N3rXoXhnX7fxN4V0/W7Q/uby3WXA/hJHI/A5FAHKaF4U8PfBnw5r+qC/uns5nN1KLqQMEwDhFAxyc49TxXP/s5+G9Q0fwfqOq6lbvaDWbw3NvbuMFYwMAkds5OPbFcnr3xSXXPGwuta8I+INQ0XTJSdPsYrUrHNIDxPLn7x4+VcYHXknj0/4X+LNV8aPr2rX9ld6dYC6jhsbK7jCPEqxgsegzlm9+lAHfUUUUAFFFFABRRRQAUUUUAFFFFABRRRQAUUUUAFFFFABRRRQAUUUUAFFFFABXHfEX4kaT8OtKt7jUf31xdSrHBbK2CwyNzE9gAc5rsa+dPj58Nrv/hFdU8X3+oyajfx3yFBt2pbWhyojVfZmBJ70AfRKOssayRkMrAFSO4NR3d1FY2U93csEhgjaSRj2VRkn8hXGfBrxF/wk3wm0S8dw80MP2Wb2eP5f1AB/GofjPqU9t8PpNK08t9u124j0y3CnnMjYY/98g0AV/grbS3PhfUPFF4gF14k1CW+J5z5WdsY59AD+dej1T0jTYdG0Wy021GIbOBIE+iqAP5VcoAp6vpNlrukXWmapAtxaXUZjljYcMD/AFr5X0251b9nb4utZXrST+HtQbkjpLCTw4H99O/4+tfWleN/Faztfih4ksfAWk26TXNlKLnUdTAyNPj6FAe7t6fTNAHr9rdQX1pFdWkqzQTIHjkQ5DKRkEVLWd4f0Kx8M+H7PRtKjMdpZxiONWYk465J9SSTWjQAUUUUAeGWD/2t+2NemRtw0zSiIwf4flUf+1Ca9yJCqSegGTXhmiRDT/2xtaEnym90osmf4vliP8kP5V7fc3MVnaTXNy4SGFDJIx/hUDJP5UAeVabba78WTda7Lr2o+HfDySSQ6Zb2BEcswU4M8jEHjIOAO3evOvB/iTxz418K69Hc63qNxp/hqKVt+nEJd6g5z5absHgBSeAT0616PqHxq0DWfhp4q1Xw8Z1bTYTChmj2B3kBVCv4n9Kp/s22Nto3wck1S5kjj+13U1zPK3GxEAUbifQKT/wKgDZ+BOp+KNV8AvN4vE+9blltGuVxK0QA+9wM4OQDiu0PinRR4rHho6hF/bDQfaBa87inr6e+OuKyNO+IunXvw9l8YXFtcWmnqZPLWQBnmUPtUqB13HGB71neDPE2keJ/HGsrN4cGleJNOhhS5klEbymJxuVS65wR0K54NAHf0UVFdW0N7ZzWtym+GeNo5EyRuVhgjI9jQAn221/5+Yf+/go+22v/AD8w/wDfwVwH/Cg/ht/0Laf+BM3/AMVR/wAKE+G3/Qtp/wCBMv8A8VQB3xvbUDJuYQP+ugqevOh8BfhuCCvhxAR0P2mXj/x6vRFUIoVRgAYAoAz/ABBrMHh3w7f6xdq7w2UDTOqDLMFGcD3NeR67o/iu/wDh1f8AjnxD4r1LSb+Kze+tNNsCEhtQAWRGyCXJGMnjmvV/E/iLTfCnhy61nW3KWdsoL7V3E5OAAO5JNeM/GL4o6d4g+Asd5oXnRx63d/ZFSdNr7Yzl+M/7IH40AcxL4o8e+JvhT/wmkl/qvmwzpZWdrpXyhioG+4k+UlsnIxX0B8P7rWr3wBpFx4pjaPVZLcG4Vl2tnsSOxIwTXP8Ahm/sPht8B9Mu79ZEisNPV3iYbXklb5iqj/adjj2Oa7rTbtr/AEu1vJLeS1a4hWQwSY3RkjO044yKAPEv2hnfSvF3gDXLb5Zre/ZC3qN0Zx/6F+de7V4P+0ozXGpeBtOiBeSfUmIUDJPMaj/0Kvd1G1QPQYoAWiiigAqlq+k2Wu6Pc6ZqsC3FpdRmOWNh1B/rV2igD5M0i+1P9nf4vS6bqJkn8P6gRlh0eEn5ZAP7y9D+NfV9tcw3lrFc2siywyoHjkQ5DKRkEV458VbO0+Kniey8CaPbpNc2EouNR1QDI0+PvGD3dv7v0zXq+haLZ+HNBstH0tClpZRCKJWbJwPU9z3oA0KKKKACvCdJLav+2Pqssx3Lpmm7Yxj7vyIMf+RGNe7V4V4dP2D9sPxFDKNv23Tg6Z/i+SI/yB/KgD2XXtZt/D3h++1e9z5FnC0r4GScDoPr0r5u8d+I/Gnh+y8NeIpPEl+Nf1+4M8WlQyKLe2t+NsezHJO5Bk9cGvqEgEEEZB6g1876xEfFn7YVhYXfFrosSyRoRwdkfmcevzMPy9qAPSvi/wCLLzwj8Jb/AFS2k+y6lIscELJyUkcgHH0G4/hVz4Sz6xd/CvRLvxHdyXl9cwGZpZfvlWYlcnudpFeXftNajLqmo+GPBtgxaa9uPNkRQDySETP5sa9vNjc6Z4T+waH5K3VrZ+TaedwgdUwm72yBQBqUVieD4PEFt4WtI/GN1b3WsDcZ5bdcIcsSAOB0GBnvitugBkk0UOPNkRM9NzAZpn221/5+Yf8Av4KwvFfgHw342Nv/AMJNpwvfs2fKzK6bc9fukelc7/woT4bf9C2n/gTL/wDFUAd/9ttf+fmH/v4KdHPFKSIpUcjqFYGvPv8AhQnw2/6FtP8AwJl/+Krc8LfDbwp4Kvprzw1pS2U88flSOJXfK5zj5ie4oA6mvKfGmtX/AIi8Vapoljq17omi+G7P7drF5ZjbLK20ssSMenygk+terV5X+0Xqc2mfB2/W2+Vr2eK3kYf3Scn/ANBx+NAEH7O3ibxB4n8C3k3iGeW6SC7MVrczMC7pgEgnvgnr7+1Z3w+8ZeIPF/7QHieJdTkbw9paSQpagDyyQ4RT9SVY5rovCS23w6/Z4tbssqm30o3rsv8AFK6b/wCbAfhXL/su6PJH4P1bX7nmXVL0gNjqqDk/99M35UAes+MLJdR8D63ZsocT6fOm0jOSYzivO/2aNQlvfhDHDM+77JeSxJnsvDAfmxr0rxLdfYvCmrXROPIsppPyQmvLP2X7d4vhTNMwws2oSFeOuAoz/n0NAHs1FFFABRRRQAUUUUAFFFFABRRRQAUUUUAFFFFABRRRQAUUUUAFFFFABRRRQAUUUUAFZHizQ4/EvhDVdGmAK3trJEM9mI+U/gcGteigD51/ZY1uSD/hIPCl2SslvILqND2Odkg/MJXfavjxR8f9I00Ye08M2T6hOPSeX5Yx9QOa8ocr8M/2tt7Yg0/VZvTauycfyEn8q9a+Dsb6rb+IPGVwG8zxBqTvBuOcW8RKRge3DUAek0UVX1BrtNNuW0yOKW8ETG3SZyqNJj5QxAJAzjJwaAON+IPjK802e08L+E1W48T6tkQAjK2kf8U7+w7eprX8EeDLPwVoX2K3ke5up3868vJeZLmU9WJ/kO1eQab8PvjVpOv6hrVlqfh0ajqLZuLmVjI5XPCgtGdqjpgYHArZ/sr9oP8A6Dvhz/vgf/GqAPaabLLHBE0szrHGgyzucBR6k14o2j/tCyJ/yMPh+PI6BFyP/IVct4i+Efxr8VwGDX/FNhdQFtxh+2OkZP8AurGBQB6j4L8fXPjv4ia2uizK3hjSYVgWTyxm4uCTlg3XaAD9eK9Frg/g94Bm+HngOPS9QMD6hLO8908DFlZicLgkAnChe1d5QB418VYm8JfFXwj4/ORYpJ/Z9++PuI+QD9Pmb8q9fuIINQsZbeZVlt7iMo46h1YYP5g1U8QaFYeJtBu9I1aFZrW6jKOpHT0I9weaxPh/ofiDwzosmi69ewaha2TiPTrpWPmvBjhZARgFeBkE5HpQBy2mfAPQrERWl1quoXujQzGePS5Nixb+cFyqhnxuOMnin23wNsrexXRz4n1p/DaymT+xvNVYmy27azAbiuecZr1KigDJ1e10ux8MyfatOhnstOi8+O2MQZVMQ3LtHqCox715L8EL7y7g6jfQNc614xnn1CZ0ZSLW3Q4Td7FiQB/hXt7KrqVcBlYYIIyCKzNF8MaH4cEo0LSrTT/OOZPs8QTfyTzj3J/OgDUooooAKKKKACiiigDJ8UeHLHxb4avNE1ZWNrdptfYcMOcgj3BANcBa/ALQG0prHXNT1DVokt2t7RZSkaWikg5RUAG7gcnNeq0UAedaV8ILa3vLGTxB4h1XxBa6aQbGxvXXyYSv3SVUDcR2z7V6LRWV4mGtN4cu08L/AGYaq6bbd7piEjJIBY4ByQMkDuQBQB5Jq9u/xB/acsoIf3mmeEYFknYHK+eTu29Oudox/sGvcK5bwD4FsfAmhNaW8jXV7cv519eycvcynqx9ueBXU0AFFFFABXA/ETxlfWNzaeE/CCifxPqwIiPVbKL+Kd/THb3/AF7XUmvV0u6bSkhkvhCxt0nYqjSY+UMRkgZxmvBdL+H3xr0fXNQ1mz1Tw7/aOotm4uZSZHYA8KC0Z2qPQYHAoA9f8DeC7LwP4fFhaO1xcSt5t5dycyXMp6sx/kO1dJXi39lftB/9B7w5/wB8D/41Ub6P+0LKv/Iw+H48joEXI/8AIVAHtU00VvC81xIkUSDc7uwVVHqSeled+B/iBc+PviFrh0WZX8L6VCkEcnljNxcEnLBuu3A9u1eX+IvhD8avFcJg1/xRYXcBbd5JvHSPP+6sYH6V658HvAU3w88Ax6VfmF9Qlnee6eBiysxOFwSAThQvb1oA7uvGfipB/wAIh8WPCfxA+7ZLJ/Z+oPj7iPkBj+DH8q9mrN8Q6DY+J9Au9I1aFZrW6jKOpHT0I9weaALstzFDaPcuw8lEMhYc/KBnP5V4boq+Gfjd4ovvE3hybWPDOsaSVjOowOq+chBCnHToCCPTGa9K8C+H9b0Hw5NoHiO6g1G0tj5NjcBiZJLfGAsgI4IHHBOR6dK5tvgXpkcNxYad4j1zT9FuW3T6Xa3AWN/YtjdjHGM9AB2oA8u8AeGR4p/aMn1G21C71nTtBfdLqd4+83MqjaMEcY3HIA7KDXc/HkX1po17qN7eSJCUis9EtbWd0Zrp2JeVwMZIUYUcjv1r1Pw34Y0fwlo6aZ4fsY7O1TnanJY+rE8k/WuS+JngnVvE+u+GdU0pba6j0W6aeSxupjGkrEDY24KfukA4xyM0Adj4ctr2z8MaZbarM097FaxpcSscl3CjJPvmtKsLwfol5oPh2O21S8a9v5ZJLi6m3EqZHYsQoPRRnAHtW7QAUUUUAFFFFABXlfxX8Z+FDqdn8PvEunXl82tBPmtwP9HLNtR/UnIJ49K9UrjPGPw007xbq9rrK315pWr2ihYb2zcZABJGVIIOCTj6mgDw/wCMvhFvCPhvTvDlt4r1nW5ruZU0/SJnVlhjHcgctjoueB+Fe/fDzw2fCPw+0fRZMedbW484jvIfmb9SazfDHwq0Pw7rkmu3M15reuS/e1HU5fNkX/dGAF/DpXb0AeafHrxG2h/C+6srNs6hrLrYW0an5m3n58D/AHcj6sK6L4beGD4P+HekaLIAJoId02B1kYlm/U4/CstPAV3rfxMbxV4vlhnh00mPRbCFi0cIz/rnyBmQ+nQe+BXe0AFFFFABRRRQAUUUUAFFFFABRRRQAUUUUAFFFFABRRRQAUUUUAFFFFABRRRQAUUUUAFFFFAHz1+094bnnvfDGuadGTctc/YchcguSGjz+IavcfDGiReHPCum6NbgBLK2SHgdSByfxOT+NaMkMU23zY0k2NuXcoO0+o9DzT6ACiiigAooooAKKKKACiiigAooooAKKKKACiiigAooooAKKKKACiiigAooooAKKKKACiiigAooooAKKKKACiiigAooooAKKKKACiiigAooooAKKKKACiiigAooooAKKKKACiiigAooooAKKKKACiiigAooooA//9k=)"
      ]
    },
    {
      "cell_type": "code",
      "metadata": {
        "colab": {
          "base_uri": "https://localhost:8080/",
          "height": 1000
        },
        "id": "kGm53B698G7q",
        "outputId": "d0107c10-5b6a-446b-dc0b-793c58c404fe"
      },
      "source": [
        "\n",
        "import seaborn as sns\n",
        "corr=data.corr()\n",
        "top_features=corr.index\n",
        "plt.figure(figsize=(20,20))\n",
        "sns.heatmap(data[top_features].corr(),annot=True)"
      ],
      "execution_count": null,
      "outputs": [
        {
          "output_type": "execute_result",
          "data": {
            "text/plain": [
              "<matplotlib.axes._subplots.AxesSubplot at 0x7ffa823f7c90>"
            ]
          },
          "metadata": {
            "tags": []
          },
          "execution_count": 107
        },
        {
          "output_type": "display_data",
          "data": {
            "image/png": "[encoded data removed]",
            "text/plain": [
              "<Figure size 1440x1440 with 2 Axes>"
            ]
          },
          "metadata": {
            "tags": [],
            "needs_background": "light"
          }
        }
      ]
    },
    {
      "cell_type": "code",
      "metadata": {
        "id": "RhiduI_KadC-"
      },
      "source": [
        "threshold=0.55"
      ],
      "execution_count": null,
      "outputs": []
    },
    {
      "cell_type": "code",
      "metadata": {
        "id": "KqCxu-R5agN1"
      },
      "source": [
        "\n",
        "def correlation(dataset, threshold):\n",
        "    col_corr = set()  \n",
        "    corr_matrix = dataset.corr()\n",
        "    for i in range(len(corr_matrix.columns)):\n",
        "        for j in range(i):\n",
        "            if (corr_matrix.iloc[i, j]) > threshold: \n",
        "                colname = corr_matrix.columns[i]\n",
        "                col_corr.add(colname)\n",
        "    return col_corr"
      ],
      "execution_count": null,
      "outputs": []
    },
    {
      "cell_type": "code",
      "metadata": {
        "id": "BefnPIFia09l",
        "colab": {
          "base_uri": "https://localhost:8080/"
        },
        "outputId": "324a035c-f37c-4ce2-b8a0-1928d44f8e2b"
      },
      "source": [
        "correlation(data,threshold)"
      ],
      "execution_count": null,
      "outputs": [
        {
          "output_type": "execute_result",
          "data": {
            "text/plain": [
              "{'classification', 'dm', 'pcv', 'rc'}"
            ]
          },
          "metadata": {
            "tags": []
          },
          "execution_count": 110
        }
      ]
    },
    {
      "cell_type": "markdown",
      "metadata": {
        "id": "THS8T-VZflr7"
      },
      "source": [
        "**Wrapper Methods**"
      ]
    },
    {
      "cell_type": "markdown",
      "metadata": {
        "id": "ifsfHvA7fq0h"
      },
      "source": [
        "### Forward Feature Selection"
      ]
    },
    {
      "cell_type": "code",
      "metadata": {
        "id": "guodOMki25tj"
      },
      "source": [
        "X = data.iloc[:,0:24]\n",
        "y = data.iloc[:,24]"
      ],
      "execution_count": null,
      "outputs": []
    },
    {
      "cell_type": "code",
      "metadata": {
        "id": "jFyBP-gdflV2",
        "colab": {
          "base_uri": "https://localhost:8080/"
        },
        "outputId": "ca3a6da7-cfee-48cb-bcc7-deaf88c156b8"
      },
      "source": [
        "from mlxtend.feature_selection import SequentialFeatureSelector #machine learning extensions\n",
        "from sklearn.ensemble import RandomForestClassifier\n",
        "from sklearn import model_selection\n",
        "from sklearn.model_selection import train_test_split\n",
        "from sklearn.metrics import accuracy_score,recall_score,roc_auc_score,confusion_matrix\n",
        "X_train,X_test,y_train,y_test = train_test_split(X,y,test_size  = 0.3)"
      ],
      "execution_count": null,
      "outputs": [
        {
          "output_type": "stream",
          "text": [
            "/usr/local/lib/python3.7/dist-packages/sklearn/externals/joblib/__init__.py:15: FutureWarning: sklearn.externals.joblib is deprecated in 0.21 and will be removed in 0.23. Please import this functionality directly from joblib, which can be installed with: pip install joblib. If this warning is raised when loading pickled models, you may need to re-serialize those models with scikit-learn 0.21+.\n",
            "  warnings.warn(msg, category=FutureWarning)\n"
          ],
          "name": "stderr"
        }
      ]
    },
    {
      "cell_type": "code",
      "metadata": {
        "id": "70b8HSafJoGL",
        "colab": {
          "base_uri": "https://localhost:8080/"
        },
        "outputId": "23d38c57-3bfb-47bd-f7a4-ffa49bc03aba"
      },
      "source": [
        "model = svm.SVC()\n",
        "ffs1 =  SequentialFeatureSelector(model,k_features=(1,24),\n",
        "                                 forward=True,verbose=2,\n",
        "                                 floating=False,\n",
        "                                 scoring='accuracy',\n",
        "                                 cv=5,\n",
        "                                 n_jobs=-1).fit(X_train,y_train)"
      ],
      "execution_count": null,
      "outputs": [
        {
          "output_type": "stream",
          "text": [
            "[Parallel(n_jobs=-1)]: Using backend LokyBackend with 2 concurrent workers.\n",
            "[Parallel(n_jobs=-1)]: Done  24 out of  24 | elapsed:   10.0s finished\n",
            "\n",
            "[2021-06-30 14:04:49] Features: 1/24 -- score: 0.9194805194805195[Parallel(n_jobs=-1)]: Using backend LokyBackend with 2 concurrent workers.\n",
            "[Parallel(n_jobs=-1)]: Done  23 out of  23 | elapsed:    9.1s finished\n",
            "\n",
            "[2021-06-30 14:04:59] Features: 2/24 -- score: 0.9357142857142857[Parallel(n_jobs=-1)]: Using backend LokyBackend with 2 concurrent workers.\n",
            "[Parallel(n_jobs=-1)]: Done  22 out of  22 | elapsed:    7.0s finished\n",
            "\n",
            "[2021-06-30 14:05:06] Features: 3/24 -- score: 0.939935064935065[Parallel(n_jobs=-1)]: Using backend LokyBackend with 2 concurrent workers.\n",
            "[Parallel(n_jobs=-1)]: Done  21 out of  21 | elapsed:    6.8s finished\n",
            "\n",
            "[2021-06-30 14:05:12] Features: 4/24 -- score: 0.9415584415584416[Parallel(n_jobs=-1)]: Using backend LokyBackend with 2 concurrent workers.\n",
            "[Parallel(n_jobs=-1)]: Done  20 out of  20 | elapsed:    6.5s finished\n",
            "\n",
            "[2021-06-30 14:05:19] Features: 5/24 -- score: 0.9422077922077923[Parallel(n_jobs=-1)]: Using backend LokyBackend with 2 concurrent workers.\n",
            "[Parallel(n_jobs=-1)]: Done  19 out of  19 | elapsed:    6.1s finished\n",
            "\n",
            "[2021-06-30 14:05:25] Features: 6/24 -- score: 0.9444805194805195[Parallel(n_jobs=-1)]: Using backend LokyBackend with 2 concurrent workers.\n",
            "[Parallel(n_jobs=-1)]: Done  18 out of  18 | elapsed:    5.9s finished\n",
            "\n",
            "[2021-06-30 14:05:31] Features: 7/24 -- score: 0.9454545454545453[Parallel(n_jobs=-1)]: Using backend LokyBackend with 2 concurrent workers.\n",
            "[Parallel(n_jobs=-1)]: Done  17 out of  17 | elapsed:    5.7s finished\n",
            "\n",
            "[2021-06-30 14:05:37] Features: 8/24 -- score: 0.9470779220779221[Parallel(n_jobs=-1)]: Using backend LokyBackend with 2 concurrent workers.\n",
            "[Parallel(n_jobs=-1)]: Done  16 out of  16 | elapsed:    5.6s finished\n",
            "\n",
            "[2021-06-30 14:05:42] Features: 9/24 -- score: 0.9503246753246752[Parallel(n_jobs=-1)]: Using backend LokyBackend with 2 concurrent workers.\n",
            "[Parallel(n_jobs=-1)]: Done  15 out of  15 | elapsed:    5.5s finished\n",
            "\n",
            "[2021-06-30 14:05:48] Features: 10/24 -- score: 0.9506493506493505[Parallel(n_jobs=-1)]: Using backend LokyBackend with 2 concurrent workers.\n",
            "[Parallel(n_jobs=-1)]: Done  14 out of  14 | elapsed:    5.3s finished\n",
            "\n",
            "[2021-06-30 14:05:53] Features: 11/24 -- score: 0.9503246753246752[Parallel(n_jobs=-1)]: Using backend LokyBackend with 2 concurrent workers.\n",
            "[Parallel(n_jobs=-1)]: Done  13 out of  13 | elapsed:    5.1s finished\n",
            "\n",
            "[2021-06-30 14:05:58] Features: 12/24 -- score: 0.9493506493506494[Parallel(n_jobs=-1)]: Using backend LokyBackend with 2 concurrent workers.\n",
            "[Parallel(n_jobs=-1)]: Done  12 out of  12 | elapsed:    4.9s finished\n",
            "\n",
            "[2021-06-30 14:06:03] Features: 13/24 -- score: 0.95[Parallel(n_jobs=-1)]: Using backend LokyBackend with 2 concurrent workers.\n",
            "[Parallel(n_jobs=-1)]: Done  11 out of  11 | elapsed:    4.7s finished\n",
            "\n",
            "[2021-06-30 14:06:08] Features: 14/24 -- score: 0.9503246753246752[Parallel(n_jobs=-1)]: Using backend LokyBackend with 2 concurrent workers.\n",
            "[Parallel(n_jobs=-1)]: Done  10 out of  10 | elapsed:    4.5s finished\n",
            "\n",
            "[2021-06-30 14:06:12] Features: 15/24 -- score: 0.95[Parallel(n_jobs=-1)]: Using backend LokyBackend with 2 concurrent workers.\n",
            "[Parallel(n_jobs=-1)]: Done   9 out of   9 | elapsed:    4.3s finished\n",
            "\n",
            "[2021-06-30 14:06:17] Features: 16/24 -- score: 0.950974025974026[Parallel(n_jobs=-1)]: Using backend LokyBackend with 2 concurrent workers.\n",
            "[Parallel(n_jobs=-1)]: Done   8 out of   8 | elapsed:    4.1s finished\n",
            "\n",
            "[2021-06-30 14:06:21] Features: 17/24 -- score: 0.9435064935064934[Parallel(n_jobs=-1)]: Using backend LokyBackend with 2 concurrent workers.\n",
            "[Parallel(n_jobs=-1)]: Done   7 out of   7 | elapsed:    4.0s finished\n",
            "\n",
            "[2021-06-30 14:06:25] Features: 18/24 -- score: 0.9211038961038961[Parallel(n_jobs=-1)]: Using backend LokyBackend with 2 concurrent workers.\n",
            "[Parallel(n_jobs=-1)]: Done   6 out of   6 | elapsed:    3.5s finished\n",
            "\n",
            "[2021-06-30 14:06:28] Features: 19/24 -- score: 0.849025974025974[Parallel(n_jobs=-1)]: Using backend LokyBackend with 2 concurrent workers.\n",
            "[Parallel(n_jobs=-1)]: Done   5 out of   5 | elapsed:    3.1s remaining:    0.0s\n",
            "[Parallel(n_jobs=-1)]: Done   5 out of   5 | elapsed:    3.1s finished\n",
            "\n",
            "[2021-06-30 14:06:31] Features: 20/24 -- score: 0.8457792207792207[Parallel(n_jobs=-1)]: Using backend LokyBackend with 2 concurrent workers.\n",
            "[Parallel(n_jobs=-1)]: Done   4 out of   4 | elapsed:    2.4s remaining:    0.0s\n",
            "[Parallel(n_jobs=-1)]: Done   4 out of   4 | elapsed:    2.4s finished\n",
            "\n",
            "[2021-06-30 14:06:34] Features: 21/24 -- score: 0.8470779220779221[Parallel(n_jobs=-1)]: Using backend LokyBackend with 2 concurrent workers.\n",
            "[Parallel(n_jobs=-1)]: Done   3 out of   3 | elapsed:    2.1s finished\n",
            "\n",
            "[2021-06-30 14:06:36] Features: 22/24 -- score: 0.8441558441558442[Parallel(n_jobs=-1)]: Using backend LokyBackend with 2 concurrent workers.\n",
            "[Parallel(n_jobs=-1)]: Done   2 out of   2 | elapsed:    1.3s finished\n",
            "\n",
            "[2021-06-30 14:06:37] Features: 23/24 -- score: 0.8418831168831169[Parallel(n_jobs=-1)]: Using backend LokyBackend with 2 concurrent workers.\n",
            "[Parallel(n_jobs=-1)]: Done   1 out of   1 | elapsed:    1.0s finished\n",
            "\n",
            "[2021-06-30 14:06:38] Features: 24/24 -- score: 0.8418831168831169"
          ],
          "name": "stderr"
        }
      ]
    },
    {
      "cell_type": "code",
      "metadata": {
        "colab": {
          "base_uri": "https://localhost:8080/"
        },
        "id": "uey61Ns1qHG7",
        "outputId": "7e2bdace-080a-49fe-c22f-39425fd96ea9"
      },
      "source": [
        "ffs1.k_feature_names_"
      ],
      "execution_count": null,
      "outputs": [
        {
          "output_type": "execute_result",
          "data": {
            "text/plain": [
              "('sg',\n",
              " 'al',\n",
              " 'su',\n",
              " 'rbc',\n",
              " 'pc',\n",
              " 'pcc',\n",
              " 'ba',\n",
              " 'sc',\n",
              " 'pot',\n",
              " 'rc',\n",
              " 'htn',\n",
              " 'dm',\n",
              " 'cad',\n",
              " 'appet',\n",
              " 'pe',\n",
              " 'ane')"
            ]
          },
          "metadata": {
            "tags": []
          },
          "execution_count": 114
        }
      ]
    },
    {
      "cell_type": "code",
      "metadata": {
        "colab": {
          "base_uri": "https://localhost:8080/"
        },
        "id": "tJTIxHlR20OE",
        "outputId": "f2d71a21-daea-40b5-c054-f857e11340dc"
      },
      "source": [
        "ffs1.k_score_"
      ],
      "execution_count": null,
      "outputs": [
        {
          "output_type": "execute_result",
          "data": {
            "text/plain": [
              "0.950974025974026"
            ]
          },
          "metadata": {
            "tags": []
          },
          "execution_count": 115
        }
      ]
    },
    {
      "cell_type": "code",
      "metadata": {
        "colab": {
          "base_uri": "https://localhost:8080/"
        },
        "id": "5HAWI6uAsLGY",
        "outputId": "4a82fb8d-d4fa-470c-8f21-276456906e3a"
      },
      "source": [
        "ffs1.k_feature_idx_"
      ],
      "execution_count": null,
      "outputs": [
        {
          "output_type": "execute_result",
          "data": {
            "text/plain": [
              "(2, 3, 4, 5, 6, 7, 8, 11, 13, 17, 18, 19, 20, 21, 22, 23)"
            ]
          },
          "metadata": {
            "tags": []
          },
          "execution_count": 116
        }
      ]
    },
    {
      "cell_type": "markdown",
      "metadata": {
        "id": "_hwdJaM26Bxv"
      },
      "source": [
        "**Support Vector Machine Classifier**"
      ]
    },
    {
      "cell_type": "code",
      "metadata": {
        "colab": {
          "base_uri": "https://localhost:8080/"
        },
        "id": "-dZGDHrccOpe",
        "outputId": "b3c8f204-4bc0-4f3d-f1cd-78232c0a3c26"
      },
      "source": [
        "print(data.shape)"
      ],
      "execution_count": null,
      "outputs": [
        {
          "output_type": "stream",
          "text": [
            "(4400, 25)\n"
          ],
          "name": "stdout"
        }
      ]
    },
    {
      "cell_type": "code",
      "metadata": {
        "id": "ssr8sVKRP-bn"
      },
      "source": [
        "X=data.iloc[:,[2, 3, 4, 5, 6, 7, 8,11,13,15,17, 18, 19, 20, 21, 22, 23]]\n",
        "y=data.iloc[:,24]\n",
        "X_train,X_test,y_train,y_test = train_test_split(X,y,test_size  = 0.3)"
      ],
      "execution_count": null,
      "outputs": []
    },
    {
      "cell_type": "code",
      "metadata": {
        "colab": {
          "base_uri": "https://localhost:8080/"
        },
        "id": "N8if8QelQWMB",
        "outputId": "8d83df2b-3614-43c9-84fe-0432853feee9"
      },
      "source": [
        "model = svm.SVC()\n",
        "model.fit(X_train,y_train)\n",
        "predict_test= model.predict(X_test)\n",
        "accuracy_test_svm = accuracy_score(y_test,predict_test)\n",
        "print(confusion_matrix(y_test,predict_test))\n",
        "print('accuracy_test',accuracy_test_svm)\n",
        "#Here true positive refer to (0,0) and true negative refer to (1,1) so \n",
        "#accuracy = (tp+tn)/(tp+tn+fp+fn)\n",
        "\n",
        "mse = np.sum((predict_test-y_test)**2)/len(predict_test)\n",
        "print('mse',mse)\n",
        "\n",
        "rmse = mse**0.5\n",
        "print(rmse)\n"
      ],
      "execution_count": null,
      "outputs": [
        {
          "output_type": "stream",
          "text": [
            "[[ 140   75]\n",
            " [  10 1095]]\n",
            "accuracy_test 0.9356060606060606\n",
            "mse 0.06439393939393939\n",
            "0.2537596094612761\n"
          ],
          "name": "stdout"
        }
      ]
    }
  ]
}